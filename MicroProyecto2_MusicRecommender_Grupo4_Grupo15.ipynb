{
 "cells": [
  {
   "cell_type": "markdown",
   "metadata": {},
   "source": [
    "## MIIA-4203 MODELOS AVANZADOS PARA ANÁLISIS DE DATOS II\n",
    "# Micro-Proyecto 2\n",
    "\n",
    "### Profesor: Camilo Franco (c.franco31@uniandes.edu.co)\n",
    "\n",
    "A continuación escriba los nombres de los integrantes del grupo.\n",
    "\n",
    "### Nombres:     \n",
    "    Arturo Guerrero            (201823464)\n",
    "    Carlos Andres Paez Rojas   (201924257)\n",
    "    Luis Jorge García C        (201920053)\n",
    "    Fernando Pérez Moreno      (200222809)\n",
    "\n",
    "### Introducción\n",
    "Una aplicación de música quiere actualizar su aplicación online para que genere recomendaciones a sus usuarios de nuevos artistas para escuchar. El sistema de recomendación debe tomar en cuenta las preferencias de cada usuario, con el fin de ofrecer recomendaciones automáticas y personalizadas.\n",
    "\n",
    "La base de datos que va a trabajar se ha tomado de http://ocelma.net/MusicRecommendationDataset/lastfm-360K.html\n",
    "\n",
    "\n",
    "### Enunciado 1\n",
    "Por ello se le pide a usted, en calidad de consultor externo, desarrollar un algoritmo de recomendación de artistas para cada usuario. Implemente el algoritmo a partir del conjunto de datos: \"lastfm-dataset-360K/usersha1-profile.tsv\" y evalúe su desempeño con respecto a la métrica apropiada.\n",
    "\n",
    "### Enunciado 2\n",
    "Una vez a desarrollado su primer sistema de recomendación, intente mejorarlo con respecto a la métrica de su elección, considerando además la información que encuentra en \"lastfm-dataset-360K/usersha1-artmbid-artname-plays.tsv\", donde encuentra información de tipo socio-demográfico por usuario.\n",
    "\n",
    "Veamos los datos con los que vamos a trabajar:"
   ]
  },
  {
   "cell_type": "code",
   "execution_count": 1,
   "metadata": {},
   "outputs": [],
   "source": [
    "import pandas\n",
    "import tarfile"
   ]
  },
  {
   "cell_type": "markdown",
   "metadata": {},
   "source": [
    "Importamos y descomprimimos los datos:"
   ]
  },
  {
   "cell_type": "code",
   "execution_count": null,
   "metadata": {},
   "outputs": [],
   "source": [
    "tf = tarfile.open(\"lastfm-dataset-360K.tar.gz\")\n",
    "tf.extractall()"
   ]
  },
  {
   "cell_type": "markdown",
   "metadata": {},
   "source": [
    "Veamos los archivos que hemos importado:"
   ]
  },
  {
   "cell_type": "code",
   "execution_count": null,
   "metadata": {},
   "outputs": [],
   "source": [
    "tf.getmembers()"
   ]
  },
  {
   "cell_type": "markdown",
   "metadata": {},
   "source": [
    "Veamos el archivo con la informacion de los usuarios y sus artistas preferidos. Esta base de datos nos dice cuantas veces un usuario a escuchado a un artista."
   ]
  },
  {
   "cell_type": "code",
   "execution_count": 2,
   "metadata": {},
   "outputs": [],
   "source": [
    "# leemos el archivo con columnas user/artist/plays\n",
    "data = pandas.read_table(\"lastfm-dataset-360K/usersha1-artmbid-artname-plays.tsv\", \n",
    "                         usecols=[0, 2, 3], \n",
    "                         names=['user', 'artist', 'plays'])\n",
    "\n",
    "# map each artist and user to a unique numeric value\n",
    "data['user'] = data['user'].astype(\"category\")\n",
    "data['artist'] = data['artist'].astype(\"category\")\n"
   ]
  },
  {
   "cell_type": "code",
   "execution_count": 3,
   "metadata": {},
   "outputs": [
    {
     "data": {
      "text/html": [
       "<div>\n",
       "<style scoped>\n",
       "    .dataframe tbody tr th:only-of-type {\n",
       "        vertical-align: middle;\n",
       "    }\n",
       "\n",
       "    .dataframe tbody tr th {\n",
       "        vertical-align: top;\n",
       "    }\n",
       "\n",
       "    .dataframe thead th {\n",
       "        text-align: right;\n",
       "    }\n",
       "</style>\n",
       "<table border=\"1\" class=\"dataframe\">\n",
       "  <thead>\n",
       "    <tr style=\"text-align: right;\">\n",
       "      <th></th>\n",
       "      <th>user</th>\n",
       "      <th>artist</th>\n",
       "      <th>plays</th>\n",
       "    </tr>\n",
       "  </thead>\n",
       "  <tbody>\n",
       "    <tr>\n",
       "      <th>0</th>\n",
       "      <td>00000c289a1829a808ac09c00daf10bc3c4e223b</td>\n",
       "      <td>betty blowtorch</td>\n",
       "      <td>2137</td>\n",
       "    </tr>\n",
       "    <tr>\n",
       "      <th>1</th>\n",
       "      <td>00000c289a1829a808ac09c00daf10bc3c4e223b</td>\n",
       "      <td>die Ärzte</td>\n",
       "      <td>1099</td>\n",
       "    </tr>\n",
       "    <tr>\n",
       "      <th>2</th>\n",
       "      <td>00000c289a1829a808ac09c00daf10bc3c4e223b</td>\n",
       "      <td>melissa etheridge</td>\n",
       "      <td>897</td>\n",
       "    </tr>\n",
       "    <tr>\n",
       "      <th>3</th>\n",
       "      <td>00000c289a1829a808ac09c00daf10bc3c4e223b</td>\n",
       "      <td>elvenking</td>\n",
       "      <td>717</td>\n",
       "    </tr>\n",
       "    <tr>\n",
       "      <th>4</th>\n",
       "      <td>00000c289a1829a808ac09c00daf10bc3c4e223b</td>\n",
       "      <td>juliette &amp; the licks</td>\n",
       "      <td>706</td>\n",
       "    </tr>\n",
       "    <tr>\n",
       "      <th>5</th>\n",
       "      <td>00000c289a1829a808ac09c00daf10bc3c4e223b</td>\n",
       "      <td>red hot chili peppers</td>\n",
       "      <td>691</td>\n",
       "    </tr>\n",
       "    <tr>\n",
       "      <th>6</th>\n",
       "      <td>00000c289a1829a808ac09c00daf10bc3c4e223b</td>\n",
       "      <td>magica</td>\n",
       "      <td>545</td>\n",
       "    </tr>\n",
       "    <tr>\n",
       "      <th>7</th>\n",
       "      <td>00000c289a1829a808ac09c00daf10bc3c4e223b</td>\n",
       "      <td>the black dahlia murder</td>\n",
       "      <td>507</td>\n",
       "    </tr>\n",
       "    <tr>\n",
       "      <th>8</th>\n",
       "      <td>00000c289a1829a808ac09c00daf10bc3c4e223b</td>\n",
       "      <td>the murmurs</td>\n",
       "      <td>424</td>\n",
       "    </tr>\n",
       "    <tr>\n",
       "      <th>9</th>\n",
       "      <td>00000c289a1829a808ac09c00daf10bc3c4e223b</td>\n",
       "      <td>lunachicks</td>\n",
       "      <td>403</td>\n",
       "    </tr>\n",
       "  </tbody>\n",
       "</table>\n",
       "</div>"
      ],
      "text/plain": [
       "                                       user                   artist  plays\n",
       "0  00000c289a1829a808ac09c00daf10bc3c4e223b          betty blowtorch   2137\n",
       "1  00000c289a1829a808ac09c00daf10bc3c4e223b                die Ärzte   1099\n",
       "2  00000c289a1829a808ac09c00daf10bc3c4e223b        melissa etheridge    897\n",
       "3  00000c289a1829a808ac09c00daf10bc3c4e223b                elvenking    717\n",
       "4  00000c289a1829a808ac09c00daf10bc3c4e223b     juliette & the licks    706\n",
       "5  00000c289a1829a808ac09c00daf10bc3c4e223b    red hot chili peppers    691\n",
       "6  00000c289a1829a808ac09c00daf10bc3c4e223b                   magica    545\n",
       "7  00000c289a1829a808ac09c00daf10bc3c4e223b  the black dahlia murder    507\n",
       "8  00000c289a1829a808ac09c00daf10bc3c4e223b              the murmurs    424\n",
       "9  00000c289a1829a808ac09c00daf10bc3c4e223b               lunachicks    403"
      ]
     },
     "execution_count": 3,
     "metadata": {},
     "output_type": "execute_result"
    }
   ],
   "source": [
    "data.head(10)"
   ]
  },
  {
   "cell_type": "markdown",
   "metadata": {},
   "source": [
    "También podemos ver informacion social/demográfica sobre los usuarios:"
   ]
  },
  {
   "cell_type": "code",
   "execution_count": 12,
   "metadata": {},
   "outputs": [],
   "source": [
    "# leemos el archivo con columnas user/gender/age/country\n",
    "dataP = pandas.read_table(\"lastfm-dataset-360K/usersha1-profile.tsv\", \n",
    "                         usecols=[0, 1, 2, 3], \n",
    "                         names=['user', 'gender', 'age', 'country'])\n"
   ]
  },
  {
   "cell_type": "code",
   "execution_count": 7,
   "metadata": {
    "scrolled": true
   },
   "outputs": [
    {
     "data": {
      "text/html": [
       "<div>\n",
       "<style scoped>\n",
       "    .dataframe tbody tr th:only-of-type {\n",
       "        vertical-align: middle;\n",
       "    }\n",
       "\n",
       "    .dataframe tbody tr th {\n",
       "        vertical-align: top;\n",
       "    }\n",
       "\n",
       "    .dataframe thead th {\n",
       "        text-align: right;\n",
       "    }\n",
       "</style>\n",
       "<table border=\"1\" class=\"dataframe\">\n",
       "  <thead>\n",
       "    <tr style=\"text-align: right;\">\n",
       "      <th></th>\n",
       "      <th>user</th>\n",
       "      <th>gender</th>\n",
       "      <th>age</th>\n",
       "      <th>country</th>\n",
       "    </tr>\n",
       "  </thead>\n",
       "  <tbody>\n",
       "    <tr>\n",
       "      <th>0</th>\n",
       "      <td>00000c289a1829a808ac09c00daf10bc3c4e223b</td>\n",
       "      <td>f</td>\n",
       "      <td>22.0</td>\n",
       "      <td>Germany</td>\n",
       "    </tr>\n",
       "    <tr>\n",
       "      <th>1</th>\n",
       "      <td>00001411dc427966b17297bf4d69e7e193135d89</td>\n",
       "      <td>f</td>\n",
       "      <td>NaN</td>\n",
       "      <td>Canada</td>\n",
       "    </tr>\n",
       "    <tr>\n",
       "      <th>2</th>\n",
       "      <td>00004d2ac9316e22dc007ab2243d6fcb239e707d</td>\n",
       "      <td>NaN</td>\n",
       "      <td>NaN</td>\n",
       "      <td>Germany</td>\n",
       "    </tr>\n",
       "    <tr>\n",
       "      <th>3</th>\n",
       "      <td>000063d3fe1cf2ba248b9e3c3f0334845a27a6bf</td>\n",
       "      <td>m</td>\n",
       "      <td>19.0</td>\n",
       "      <td>Mexico</td>\n",
       "    </tr>\n",
       "    <tr>\n",
       "      <th>4</th>\n",
       "      <td>00007a47085b9aab8af55f52ec8846ac479ac4fe</td>\n",
       "      <td>m</td>\n",
       "      <td>28.0</td>\n",
       "      <td>United States</td>\n",
       "    </tr>\n",
       "    <tr>\n",
       "      <th>5</th>\n",
       "      <td>0000c176103e538d5c9828e695fed4f7ae42dd01</td>\n",
       "      <td>m</td>\n",
       "      <td>20.0</td>\n",
       "      <td>United Kingdom</td>\n",
       "    </tr>\n",
       "    <tr>\n",
       "      <th>6</th>\n",
       "      <td>0000ee7dd906373efa37f4e1185bfe1e3f8695ae</td>\n",
       "      <td>m</td>\n",
       "      <td>17.0</td>\n",
       "      <td>Finland</td>\n",
       "    </tr>\n",
       "    <tr>\n",
       "      <th>7</th>\n",
       "      <td>0000ef373bbd0d89ce796abae961f2705e8c1faf</td>\n",
       "      <td>f</td>\n",
       "      <td>22.0</td>\n",
       "      <td>Poland</td>\n",
       "    </tr>\n",
       "    <tr>\n",
       "      <th>8</th>\n",
       "      <td>0000f687d4fe9c1ed49620fbc5ed5b0d7798ea20</td>\n",
       "      <td>f</td>\n",
       "      <td>24.0</td>\n",
       "      <td>Spain</td>\n",
       "    </tr>\n",
       "    <tr>\n",
       "      <th>9</th>\n",
       "      <td>0001399387da41d557219578fb08b12afa25ab67</td>\n",
       "      <td>m</td>\n",
       "      <td>NaN</td>\n",
       "      <td>Ukraine</td>\n",
       "    </tr>\n",
       "  </tbody>\n",
       "</table>\n",
       "</div>"
      ],
      "text/plain": [
       "                                       user gender   age         country\n",
       "0  00000c289a1829a808ac09c00daf10bc3c4e223b      f  22.0         Germany\n",
       "1  00001411dc427966b17297bf4d69e7e193135d89      f   NaN          Canada\n",
       "2  00004d2ac9316e22dc007ab2243d6fcb239e707d    NaN   NaN         Germany\n",
       "3  000063d3fe1cf2ba248b9e3c3f0334845a27a6bf      m  19.0          Mexico\n",
       "4  00007a47085b9aab8af55f52ec8846ac479ac4fe      m  28.0   United States\n",
       "5  0000c176103e538d5c9828e695fed4f7ae42dd01      m  20.0  United Kingdom\n",
       "6  0000ee7dd906373efa37f4e1185bfe1e3f8695ae      m  17.0         Finland\n",
       "7  0000ef373bbd0d89ce796abae961f2705e8c1faf      f  22.0          Poland\n",
       "8  0000f687d4fe9c1ed49620fbc5ed5b0d7798ea20      f  24.0           Spain\n",
       "9  0001399387da41d557219578fb08b12afa25ab67      m   NaN         Ukraine"
      ]
     },
     "execution_count": 7,
     "metadata": {},
     "output_type": "execute_result"
    }
   ],
   "source": [
    "dataP.head(10)"
   ]
  },
  {
   "cell_type": "markdown",
   "metadata": {},
   "source": [
    "----"
   ]
  },
  {
   "cell_type": "markdown",
   "metadata": {},
   "source": [
    "## Exploración de datos"
   ]
  },
  {
   "cell_type": "code",
   "execution_count": 4,
   "metadata": {},
   "outputs": [],
   "source": [
    "import pandas as pd\n",
    "import numpy as np\n",
    "import scipy.sparse as sparse\n",
    "import matplotlib.pyplot as plt"
   ]
  },
  {
   "cell_type": "code",
   "execution_count": 5,
   "metadata": {},
   "outputs": [
    {
     "name": "stdout",
     "output_type": "stream",
     "text": [
      "<class 'pandas.core.frame.DataFrame'>\n",
      "RangeIndex: 17535655 entries, 0 to 17535654\n",
      "Data columns (total 3 columns):\n",
      " #   Column  Dtype   \n",
      "---  ------  -----   \n",
      " 0   user    category\n",
      " 1   artist  category\n",
      " 2   plays   int64   \n",
      "dtypes: category(2), int64(1)\n",
      "memory usage: 292.5 MB\n"
     ]
    }
   ],
   "source": [
    "data.info()"
   ]
  },
  {
   "cell_type": "markdown",
   "metadata": {},
   "source": [
    "#### Reproducciones por usuario"
   ]
  },
  {
   "cell_type": "code",
   "execution_count": 6,
   "metadata": {},
   "outputs": [
    {
     "data": {
      "text/html": [
       "<div>\n",
       "<style scoped>\n",
       "    .dataframe tbody tr th:only-of-type {\n",
       "        vertical-align: middle;\n",
       "    }\n",
       "\n",
       "    .dataframe tbody tr th {\n",
       "        vertical-align: top;\n",
       "    }\n",
       "\n",
       "    .dataframe thead th {\n",
       "        text-align: right;\n",
       "    }\n",
       "</style>\n",
       "<table border=\"1\" class=\"dataframe\">\n",
       "  <thead>\n",
       "    <tr style=\"text-align: right;\">\n",
       "      <th></th>\n",
       "      <th>plays</th>\n",
       "    </tr>\n",
       "  </thead>\n",
       "  <tbody>\n",
       "    <tr>\n",
       "      <th>count</th>\n",
       "      <td>358868.000000</td>\n",
       "    </tr>\n",
       "    <tr>\n",
       "      <th>mean</th>\n",
       "      <td>10515.156066</td>\n",
       "    </tr>\n",
       "    <tr>\n",
       "      <th>std</th>\n",
       "      <td>14761.252419</td>\n",
       "    </tr>\n",
       "    <tr>\n",
       "      <th>min</th>\n",
       "      <td>1.000000</td>\n",
       "    </tr>\n",
       "    <tr>\n",
       "      <th>25%</th>\n",
       "      <td>2402.000000</td>\n",
       "    </tr>\n",
       "    <tr>\n",
       "      <th>50%</th>\n",
       "      <td>6140.000000</td>\n",
       "    </tr>\n",
       "    <tr>\n",
       "      <th>75%</th>\n",
       "      <td>13131.000000</td>\n",
       "    </tr>\n",
       "    <tr>\n",
       "      <th>max</th>\n",
       "      <td>787884.000000</td>\n",
       "    </tr>\n",
       "  </tbody>\n",
       "</table>\n",
       "</div>"
      ],
      "text/plain": [
       "               plays\n",
       "count  358868.000000\n",
       "mean    10515.156066\n",
       "std     14761.252419\n",
       "min         1.000000\n",
       "25%      2402.000000\n",
       "50%      6140.000000\n",
       "75%     13131.000000\n",
       "max    787884.000000"
      ]
     },
     "execution_count": 6,
     "metadata": {},
     "output_type": "execute_result"
    }
   ],
   "source": [
    "df1 = pd.DataFrame(data['plays'].groupby(data['user']).sum())\n",
    "df1 = df1.sort_values('plays', ascending = False)\n",
    "df1.describe(include='all')"
   ]
  },
  {
   "cell_type": "markdown",
   "metadata": {},
   "source": [
    "#### Reproducciones por artista"
   ]
  },
  {
   "cell_type": "code",
   "execution_count": 7,
   "metadata": {},
   "outputs": [
    {
     "data": {
      "text/html": [
       "<div>\n",
       "<style scoped>\n",
       "    .dataframe tbody tr th:only-of-type {\n",
       "        vertical-align: middle;\n",
       "    }\n",
       "\n",
       "    .dataframe tbody tr th {\n",
       "        vertical-align: top;\n",
       "    }\n",
       "\n",
       "    .dataframe thead th {\n",
       "        text-align: right;\n",
       "    }\n",
       "</style>\n",
       "<table border=\"1\" class=\"dataframe\">\n",
       "  <thead>\n",
       "    <tr style=\"text-align: right;\">\n",
       "      <th></th>\n",
       "      <th>plays</th>\n",
       "    </tr>\n",
       "  </thead>\n",
       "  <tbody>\n",
       "    <tr>\n",
       "      <th>count</th>\n",
       "      <td>2.923630e+05</td>\n",
       "    </tr>\n",
       "    <tr>\n",
       "      <th>mean</th>\n",
       "      <td>1.290702e+04</td>\n",
       "    </tr>\n",
       "    <tr>\n",
       "      <th>std</th>\n",
       "      <td>1.859816e+05</td>\n",
       "    </tr>\n",
       "    <tr>\n",
       "      <th>min</th>\n",
       "      <td>1.000000e+00</td>\n",
       "    </tr>\n",
       "    <tr>\n",
       "      <th>25%</th>\n",
       "      <td>5.300000e+01</td>\n",
       "    </tr>\n",
       "    <tr>\n",
       "      <th>50%</th>\n",
       "      <td>2.080000e+02</td>\n",
       "    </tr>\n",
       "    <tr>\n",
       "      <th>75%</th>\n",
       "      <td>1.048000e+03</td>\n",
       "    </tr>\n",
       "    <tr>\n",
       "      <th>max</th>\n",
       "      <td>3.046683e+07</td>\n",
       "    </tr>\n",
       "  </tbody>\n",
       "</table>\n",
       "</div>"
      ],
      "text/plain": [
       "              plays\n",
       "count  2.923630e+05\n",
       "mean   1.290702e+04\n",
       "std    1.859816e+05\n",
       "min    1.000000e+00\n",
       "25%    5.300000e+01\n",
       "50%    2.080000e+02\n",
       "75%    1.048000e+03\n",
       "max    3.046683e+07"
      ]
     },
     "execution_count": 7,
     "metadata": {},
     "output_type": "execute_result"
    }
   ],
   "source": [
    "df2 = pd.DataFrame(data['plays'].groupby(data['artist']).sum())\n",
    "df2 = df2.sort_values('plays', ascending = False)\n",
    "df2.describe(include='all')"
   ]
  },
  {
   "cell_type": "code",
   "execution_count": 8,
   "metadata": {},
   "outputs": [
    {
     "data": {
      "image/png": "[encoded data removed]",
      "text/plain": [
       "<Figure size 504x504 with 1 Axes>"
      ]
     },
     "metadata": {},
     "output_type": "display_data"
    }
   ],
   "source": [
    "gr = df2.head(20)\n",
    "gr.plot.pie(y = 'plays', figsize = (7, 7), legend = False, autopct = '%1.1f%%', rotatelabels = True)\n",
    "plt.title('Top 20 - Artistas con mayor reproducciones', pad = 50)\n",
    "plt.show()"
   ]
  },
  {
   "cell_type": "markdown",
   "metadata": {},
   "source": [
    "#### Cantidad de usuarios por artista"
   ]
  },
  {
   "cell_type": "code",
   "execution_count": 9,
   "metadata": {},
   "outputs": [
    {
     "data": {
      "text/html": [
       "<div>\n",
       "<style scoped>\n",
       "    .dataframe tbody tr th:only-of-type {\n",
       "        vertical-align: middle;\n",
       "    }\n",
       "\n",
       "    .dataframe tbody tr th {\n",
       "        vertical-align: top;\n",
       "    }\n",
       "\n",
       "    .dataframe thead th {\n",
       "        text-align: right;\n",
       "    }\n",
       "</style>\n",
       "<table border=\"1\" class=\"dataframe\">\n",
       "  <thead>\n",
       "    <tr style=\"text-align: right;\">\n",
       "      <th></th>\n",
       "      <th>user</th>\n",
       "    </tr>\n",
       "  </thead>\n",
       "  <tbody>\n",
       "    <tr>\n",
       "      <th>count</th>\n",
       "      <td>292363.000000</td>\n",
       "    </tr>\n",
       "    <tr>\n",
       "      <th>mean</th>\n",
       "      <td>59.978352</td>\n",
       "    </tr>\n",
       "    <tr>\n",
       "      <th>std</th>\n",
       "      <td>672.472347</td>\n",
       "    </tr>\n",
       "    <tr>\n",
       "      <th>min</th>\n",
       "      <td>1.000000</td>\n",
       "    </tr>\n",
       "    <tr>\n",
       "      <th>25%</th>\n",
       "      <td>1.000000</td>\n",
       "    </tr>\n",
       "    <tr>\n",
       "      <th>50%</th>\n",
       "      <td>2.000000</td>\n",
       "    </tr>\n",
       "    <tr>\n",
       "      <th>75%</th>\n",
       "      <td>8.000000</td>\n",
       "    </tr>\n",
       "    <tr>\n",
       "      <th>max</th>\n",
       "      <td>77254.000000</td>\n",
       "    </tr>\n",
       "  </tbody>\n",
       "</table>\n",
       "</div>"
      ],
      "text/plain": [
       "                user\n",
       "count  292363.000000\n",
       "mean       59.978352\n",
       "std       672.472347\n",
       "min         1.000000\n",
       "25%         1.000000\n",
       "50%         2.000000\n",
       "75%         8.000000\n",
       "max     77254.000000"
      ]
     },
     "execution_count": 9,
     "metadata": {},
     "output_type": "execute_result"
    }
   ],
   "source": [
    "df3 = pd.DataFrame(data[['user', 'artist']])\n",
    "df3.drop_duplicates()\n",
    "df3 = pd.DataFrame(data['user'].groupby(data['artist']).count())\n",
    "df3 = df3.sort_values('user', ascending = False)\n",
    "df3.describe(include='all')"
   ]
  },
  {
   "cell_type": "code",
   "execution_count": 10,
   "metadata": {},
   "outputs": [
    {
     "data": {
      "image/png": "[encoded data removed]",
      "text/plain": [
       "<Figure size 504x504 with 1 Axes>"
      ]
     },
     "metadata": {},
     "output_type": "display_data"
    }
   ],
   "source": [
    "gr = df3.head(20)\n",
    "gr.plot.pie(y = 'user', figsize = (7, 7), legend = False, autopct = '%1.1f%%', rotatelabels = True)\n",
    "plt.title('Top 20 - Artistas con mayor cantidad de usuarios', pad = 100)\n",
    "plt.show()"
   ]
  },
  {
   "cell_type": "markdown",
   "metadata": {},
   "source": [
    "#### Análisis de información socio-demográfica por usuario"
   ]
  },
  {
   "cell_type": "code",
   "execution_count": 13,
   "metadata": {},
   "outputs": [
    {
     "data": {
      "text/html": [
       "<div>\n",
       "<style scoped>\n",
       "    .dataframe tbody tr th:only-of-type {\n",
       "        vertical-align: middle;\n",
       "    }\n",
       "\n",
       "    .dataframe tbody tr th {\n",
       "        vertical-align: top;\n",
       "    }\n",
       "\n",
       "    .dataframe thead th {\n",
       "        text-align: right;\n",
       "    }\n",
       "</style>\n",
       "<table border=\"1\" class=\"dataframe\">\n",
       "  <thead>\n",
       "    <tr style=\"text-align: right;\">\n",
       "      <th></th>\n",
       "      <th>user</th>\n",
       "      <th>gender</th>\n",
       "      <th>age</th>\n",
       "      <th>country</th>\n",
       "    </tr>\n",
       "  </thead>\n",
       "  <tbody>\n",
       "    <tr>\n",
       "      <th>count</th>\n",
       "      <td>359347</td>\n",
       "      <td>326572</td>\n",
       "      <td>284447.000000</td>\n",
       "      <td>359347</td>\n",
       "    </tr>\n",
       "    <tr>\n",
       "      <th>unique</th>\n",
       "      <td>359347</td>\n",
       "      <td>2</td>\n",
       "      <td>NaN</td>\n",
       "      <td>239</td>\n",
       "    </tr>\n",
       "    <tr>\n",
       "      <th>top</th>\n",
       "      <td>25090a809eea2f68af8b2eab90c47cc509ee3ba2</td>\n",
       "      <td>m</td>\n",
       "      <td>NaN</td>\n",
       "      <td>United States</td>\n",
       "    </tr>\n",
       "    <tr>\n",
       "      <th>freq</th>\n",
       "      <td>1</td>\n",
       "      <td>241642</td>\n",
       "      <td>NaN</td>\n",
       "      <td>67044</td>\n",
       "    </tr>\n",
       "    <tr>\n",
       "      <th>mean</th>\n",
       "      <td>NaN</td>\n",
       "      <td>NaN</td>\n",
       "      <td>25.098046</td>\n",
       "      <td>NaN</td>\n",
       "    </tr>\n",
       "    <tr>\n",
       "      <th>std</th>\n",
       "      <td>NaN</td>\n",
       "      <td>NaN</td>\n",
       "      <td>21.665742</td>\n",
       "      <td>NaN</td>\n",
       "    </tr>\n",
       "    <tr>\n",
       "      <th>min</th>\n",
       "      <td>NaN</td>\n",
       "      <td>NaN</td>\n",
       "      <td>-1337.000000</td>\n",
       "      <td>NaN</td>\n",
       "    </tr>\n",
       "    <tr>\n",
       "      <th>25%</th>\n",
       "      <td>NaN</td>\n",
       "      <td>NaN</td>\n",
       "      <td>20.000000</td>\n",
       "      <td>NaN</td>\n",
       "    </tr>\n",
       "    <tr>\n",
       "      <th>50%</th>\n",
       "      <td>NaN</td>\n",
       "      <td>NaN</td>\n",
       "      <td>23.000000</td>\n",
       "      <td>NaN</td>\n",
       "    </tr>\n",
       "    <tr>\n",
       "      <th>75%</th>\n",
       "      <td>NaN</td>\n",
       "      <td>NaN</td>\n",
       "      <td>28.000000</td>\n",
       "      <td>NaN</td>\n",
       "    </tr>\n",
       "    <tr>\n",
       "      <th>max</th>\n",
       "      <td>NaN</td>\n",
       "      <td>NaN</td>\n",
       "      <td>1002.000000</td>\n",
       "      <td>NaN</td>\n",
       "    </tr>\n",
       "  </tbody>\n",
       "</table>\n",
       "</div>"
      ],
      "text/plain": [
       "                                            user  gender            age  \\\n",
       "count                                     359347  326572  284447.000000   \n",
       "unique                                    359347       2            NaN   \n",
       "top     25090a809eea2f68af8b2eab90c47cc509ee3ba2       m            NaN   \n",
       "freq                                           1  241642            NaN   \n",
       "mean                                         NaN     NaN      25.098046   \n",
       "std                                          NaN     NaN      21.665742   \n",
       "min                                          NaN     NaN   -1337.000000   \n",
       "25%                                          NaN     NaN      20.000000   \n",
       "50%                                          NaN     NaN      23.000000   \n",
       "75%                                          NaN     NaN      28.000000   \n",
       "max                                          NaN     NaN    1002.000000   \n",
       "\n",
       "              country  \n",
       "count          359347  \n",
       "unique            239  \n",
       "top     United States  \n",
       "freq            67044  \n",
       "mean              NaN  \n",
       "std               NaN  \n",
       "min               NaN  \n",
       "25%               NaN  \n",
       "50%               NaN  \n",
       "75%               NaN  \n",
       "max               NaN  "
      ]
     },
     "execution_count": 13,
     "metadata": {},
     "output_type": "execute_result"
    }
   ],
   "source": [
    "dataP.describe(include='all')"
   ]
  },
  {
   "cell_type": "code",
   "execution_count": 14,
   "metadata": {},
   "outputs": [
    {
     "data": {
      "image/png": "[encoded data removed]",
      "text/plain": [
       "<Figure size 1080x360 with 1 Axes>"
      ]
     },
     "metadata": {
      "needs_background": "light"
     },
     "output_type": "display_data"
    }
   ],
   "source": [
    "gr = dataP[['user', 'age']].groupby(['age']).count().plot(style = '.-', legend = False, color = 'blue', figsize = (15, 5), linewidth = 2, fontsize = 10)\n",
    "plt.title('Distribución de usuarios por edad');"
   ]
  },
  {
   "cell_type": "code",
   "execution_count": 15,
   "metadata": {},
   "outputs": [
    {
     "name": "stderr",
     "output_type": "stream",
     "text": [
      "/Users/gerson.guerrero/anaconda3/lib/python3.7/site-packages/ipykernel_launcher.py:2: UserWarning: Boolean Series key will be reindexed to match DataFrame index.\n",
      "  \n"
     ]
    },
    {
     "data": {
      "image/png": "[encoded data removed]",
      "text/plain": [
       "<Figure size 1080x360 with 1 Axes>"
      ]
     },
     "metadata": {
      "needs_background": "light"
     },
     "output_type": "display_data"
    }
   ],
   "source": [
    "df4 = dataP[dataP['age'] >= 10]\n",
    "df4 = df4[dataP['age'] <= 80]\n",
    "gr = df4[['user', 'age']].groupby(['age']).count().plot(style = '.-', legend = False, color = 'blue', figsize = (15, 5), linewidth = 2, fontsize = 10)\n",
    "plt.title('Distribución de usuarios por edad');"
   ]
  },
  {
   "cell_type": "code",
   "execution_count": 21,
   "metadata": {},
   "outputs": [
    {
     "data": {
      "text/html": [
       "<div>\n",
       "<style scoped>\n",
       "    .dataframe tbody tr th:only-of-type {\n",
       "        vertical-align: middle;\n",
       "    }\n",
       "\n",
       "    .dataframe tbody tr th {\n",
       "        vertical-align: top;\n",
       "    }\n",
       "\n",
       "    .dataframe thead th {\n",
       "        text-align: right;\n",
       "    }\n",
       "</style>\n",
       "<table border=\"1\" class=\"dataframe\">\n",
       "  <thead>\n",
       "    <tr style=\"text-align: right;\">\n",
       "      <th></th>\n",
       "      <th>user</th>\n",
       "      <th>gender</th>\n",
       "      <th>age</th>\n",
       "      <th>country</th>\n",
       "    </tr>\n",
       "  </thead>\n",
       "  <tbody>\n",
       "    <tr>\n",
       "      <th>count</th>\n",
       "      <td>281691</td>\n",
       "      <td>265311</td>\n",
       "      <td>281691.000000</td>\n",
       "      <td>281691</td>\n",
       "    </tr>\n",
       "    <tr>\n",
       "      <th>unique</th>\n",
       "      <td>281691</td>\n",
       "      <td>2</td>\n",
       "      <td>NaN</td>\n",
       "      <td>238</td>\n",
       "    </tr>\n",
       "    <tr>\n",
       "      <th>top</th>\n",
       "      <td>615840a8fe32a369e40ee9ea2ac93b5b5a4b5593</td>\n",
       "      <td>m</td>\n",
       "      <td>NaN</td>\n",
       "      <td>United States</td>\n",
       "    </tr>\n",
       "    <tr>\n",
       "      <th>freq</th>\n",
       "      <td>1</td>\n",
       "      <td>196431</td>\n",
       "      <td>NaN</td>\n",
       "      <td>51819</td>\n",
       "    </tr>\n",
       "    <tr>\n",
       "      <th>mean</th>\n",
       "      <td>NaN</td>\n",
       "      <td>NaN</td>\n",
       "      <td>25.020782</td>\n",
       "      <td>NaN</td>\n",
       "    </tr>\n",
       "    <tr>\n",
       "      <th>std</th>\n",
       "      <td>NaN</td>\n",
       "      <td>NaN</td>\n",
       "      <td>7.585912</td>\n",
       "      <td>NaN</td>\n",
       "    </tr>\n",
       "    <tr>\n",
       "      <th>min</th>\n",
       "      <td>NaN</td>\n",
       "      <td>NaN</td>\n",
       "      <td>10.000000</td>\n",
       "      <td>NaN</td>\n",
       "    </tr>\n",
       "    <tr>\n",
       "      <th>25%</th>\n",
       "      <td>NaN</td>\n",
       "      <td>NaN</td>\n",
       "      <td>20.000000</td>\n",
       "      <td>NaN</td>\n",
       "    </tr>\n",
       "    <tr>\n",
       "      <th>50%</th>\n",
       "      <td>NaN</td>\n",
       "      <td>NaN</td>\n",
       "      <td>23.000000</td>\n",
       "      <td>NaN</td>\n",
       "    </tr>\n",
       "    <tr>\n",
       "      <th>75%</th>\n",
       "      <td>NaN</td>\n",
       "      <td>NaN</td>\n",
       "      <td>28.000000</td>\n",
       "      <td>NaN</td>\n",
       "    </tr>\n",
       "    <tr>\n",
       "      <th>max</th>\n",
       "      <td>NaN</td>\n",
       "      <td>NaN</td>\n",
       "      <td>80.000000</td>\n",
       "      <td>NaN</td>\n",
       "    </tr>\n",
       "  </tbody>\n",
       "</table>\n",
       "</div>"
      ],
      "text/plain": [
       "                                            user  gender            age  \\\n",
       "count                                     281691  265311  281691.000000   \n",
       "unique                                    281691       2            NaN   \n",
       "top     615840a8fe32a369e40ee9ea2ac93b5b5a4b5593       m            NaN   \n",
       "freq                                           1  196431            NaN   \n",
       "mean                                         NaN     NaN      25.020782   \n",
       "std                                          NaN     NaN       7.585912   \n",
       "min                                          NaN     NaN      10.000000   \n",
       "25%                                          NaN     NaN      20.000000   \n",
       "50%                                          NaN     NaN      23.000000   \n",
       "75%                                          NaN     NaN      28.000000   \n",
       "max                                          NaN     NaN      80.000000   \n",
       "\n",
       "              country  \n",
       "count          281691  \n",
       "unique            238  \n",
       "top     United States  \n",
       "freq            51819  \n",
       "mean              NaN  \n",
       "std               NaN  \n",
       "min               NaN  \n",
       "25%               NaN  \n",
       "50%               NaN  \n",
       "75%               NaN  \n",
       "max               NaN  "
      ]
     },
     "execution_count": 21,
     "metadata": {},
     "output_type": "execute_result"
    }
   ],
   "source": [
    "df4.describe(include='all')"
   ]
  },
  {
   "cell_type": "code",
   "execution_count": 22,
   "metadata": {},
   "outputs": [
    {
     "data": {
      "image/png": "[encoded data removed]",
      "text/plain": [
       "<Figure size 360x360 with 1 Axes>"
      ]
     },
     "metadata": {},
     "output_type": "display_data"
    }
   ],
   "source": [
    "df5 = pd.DataFrame(df4[['user', 'gender']])\n",
    "df5 = pd.DataFrame(df5['user'].groupby(df5['gender']).count())\n",
    "df5.plot.pie(y = 'user', figsize = (5, 5), legend = False, autopct = '%1.1f%%', rotatelabels = True)\n",
    "plt.title('Usuarios por género')\n",
    "plt.show()"
   ]
  },
  {
   "cell_type": "code",
   "execution_count": 23,
   "metadata": {},
   "outputs": [
    {
     "data": {
      "image/png": "[encoded data removed]",
      "text/plain": [
       "<Figure size 504x504 with 1 Axes>"
      ]
     },
     "metadata": {},
     "output_type": "display_data"
    }
   ],
   "source": [
    "df6 = pd.DataFrame(df4['user'].groupby(dataP['country']).count())\n",
    "df6 = df6.sort_values('user', ascending = False)\n",
    "gr = df6.head(20)\n",
    "gr.plot.pie(y = 'user', figsize = (7, 7), legend = False, autopct = '%1.1f%%', rotatelabels = True)\n",
    "plt.title('Top 20 - Países con mayor cantidad de usuarios', pad = 50)\n",
    "plt.show()"
   ]
  },
  {
   "cell_type": "markdown",
   "metadata": {},
   "source": [
    "-----"
   ]
  },
  {
   "cell_type": "code",
   "execution_count": 16,
   "metadata": {},
   "outputs": [],
   "source": [
    "data_Original = data\n",
    "dataP_Original = dataP"
   ]
  },
  {
   "cell_type": "code",
   "execution_count": 17,
   "metadata": {},
   "outputs": [],
   "source": [
    "data_usuarios = data[['user']].drop_duplicates()\n",
    "data_todo = data_usuarios.merge(df4, how='inner', left_on='user', right_on='user', copy=True).drop_duplicates()\n",
    "data_todo = data_todo.merge(data, how='inner', left_on='user', right_on='user', copy=True).drop_duplicates()"
   ]
  },
  {
   "cell_type": "markdown",
   "metadata": {},
   "source": [
    "-----"
   ]
  },
  {
   "cell_type": "code",
   "execution_count": 18,
   "metadata": {},
   "outputs": [],
   "source": [
    "pre_master = data\n",
    "pre_master[\"user_id\"] = pre_master.user.cat.codes\n",
    "pre_master[\"artist_id\"] = pre_master.artist.cat.codes\n",
    "pre_master.dropna(inplace=True)"
   ]
  },
  {
   "cell_type": "code",
   "execution_count": 19,
   "metadata": {},
   "outputs": [],
   "source": [
    "users_tab = pd.pivot_table(pre_master, index=\"user_id\",  values=[\"plays\", \"artist\"], aggfunc=[\"count\", np.sum]).reset_index()\n",
    "tab_users = pd.DataFrame()\n",
    "tab_users[\"user_id\"] = users_tab[\"user_id\"]\n",
    "tab_users[\"q_interactions\"] = users_tab[\"count\"][\"artist\"]\n",
    "tab_users[\"q_plays\"] = users_tab[\"sum\"][\"plays\"]"
   ]
  },
  {
   "cell_type": "code",
   "execution_count": 20,
   "metadata": {},
   "outputs": [
    {
     "data": {
      "text/html": [
       "<div>\n",
       "<style scoped>\n",
       "    .dataframe tbody tr th:only-of-type {\n",
       "        vertical-align: middle;\n",
       "    }\n",
       "\n",
       "    .dataframe tbody tr th {\n",
       "        vertical-align: top;\n",
       "    }\n",
       "\n",
       "    .dataframe thead th {\n",
       "        text-align: right;\n",
       "    }\n",
       "</style>\n",
       "<table border=\"1\" class=\"dataframe\">\n",
       "  <thead>\n",
       "    <tr style=\"text-align: right;\">\n",
       "      <th></th>\n",
       "      <th>user_id</th>\n",
       "      <th>q_interactions</th>\n",
       "      <th>q_plays</th>\n",
       "    </tr>\n",
       "  </thead>\n",
       "  <tbody>\n",
       "    <tr>\n",
       "      <th>20683</th>\n",
       "      <td>20683</td>\n",
       "      <td>56</td>\n",
       "      <td>787884</td>\n",
       "    </tr>\n",
       "    <tr>\n",
       "      <th>197515</th>\n",
       "      <td>197515</td>\n",
       "      <td>48</td>\n",
       "      <td>568011</td>\n",
       "    </tr>\n",
       "    <tr>\n",
       "      <th>158172</th>\n",
       "      <td>158172</td>\n",
       "      <td>58</td>\n",
       "      <td>539942</td>\n",
       "    </tr>\n",
       "    <tr>\n",
       "      <th>339897</th>\n",
       "      <td>339897</td>\n",
       "      <td>48</td>\n",
       "      <td>474080</td>\n",
       "    </tr>\n",
       "    <tr>\n",
       "      <th>205446</th>\n",
       "      <td>205446</td>\n",
       "      <td>50</td>\n",
       "      <td>461744</td>\n",
       "    </tr>\n",
       "    <tr>\n",
       "      <th>105511</th>\n",
       "      <td>105511</td>\n",
       "      <td>42</td>\n",
       "      <td>436498</td>\n",
       "    </tr>\n",
       "    <tr>\n",
       "      <th>258340</th>\n",
       "      <td>258340</td>\n",
       "      <td>50</td>\n",
       "      <td>428354</td>\n",
       "    </tr>\n",
       "    <tr>\n",
       "      <th>270433</th>\n",
       "      <td>270433</td>\n",
       "      <td>50</td>\n",
       "      <td>420950</td>\n",
       "    </tr>\n",
       "    <tr>\n",
       "      <th>13745</th>\n",
       "      <td>13745</td>\n",
       "      <td>48</td>\n",
       "      <td>391406</td>\n",
       "    </tr>\n",
       "    <tr>\n",
       "      <th>275989</th>\n",
       "      <td>275989</td>\n",
       "      <td>53</td>\n",
       "      <td>389855</td>\n",
       "    </tr>\n",
       "  </tbody>\n",
       "</table>\n",
       "</div>"
      ],
      "text/plain": [
       "        user_id  q_interactions  q_plays\n",
       "20683     20683              56   787884\n",
       "197515   197515              48   568011\n",
       "158172   158172              58   539942\n",
       "339897   339897              48   474080\n",
       "205446   205446              50   461744\n",
       "105511   105511              42   436498\n",
       "258340   258340              50   428354\n",
       "270433   270433              50   420950\n",
       "13745     13745              48   391406\n",
       "275989   275989              53   389855"
      ]
     },
     "execution_count": 20,
     "metadata": {},
     "output_type": "execute_result"
    }
   ],
   "source": [
    "users_top = tab_users.sort_values(by = \"q_plays\", ascending=False).head(10)\n",
    "users_top"
   ]
  },
  {
   "cell_type": "code",
   "execution_count": 29,
   "metadata": {},
   "outputs": [
    {
     "data": {
      "image/png": "[encoded data removed]",
      "text/plain": [
       "<Figure size 432x288 with 1 Axes>"
      ]
     },
     "metadata": {},
     "output_type": "display_data"
    }
   ],
   "source": [
    "import seaborn as sns\n",
    "sns.set_style(style=\"whitegrid\")\n",
    "tips = sns.load_dataset(\"tips\")\n",
    "ax = sns.barplot(x=\"user_id\", y=\"q_plays\", data=users_top, orient=\"v\")"
   ]
  },
  {
   "cell_type": "code",
   "execution_count": 30,
   "metadata": {},
   "outputs": [
    {
     "name": "stdout",
     "output_type": "stream",
     "text": [
      "Existen 358868 usuarios únicos\n"
     ]
    }
   ],
   "source": [
    "print(f\"Existen {users_tab.shape[0]} usuarios únicos\")"
   ]
  },
  {
   "cell_type": "code",
   "execution_count": 25,
   "metadata": {},
   "outputs": [],
   "source": [
    "artists_tab = pd.pivot_table(pre_master, index=\"artist_id\",  values=[\"plays\", \"user_id\"], aggfunc=[\"count\", np.sum]).reset_index()\n",
    "tab_artists = pd.DataFrame()\n",
    "tab_artists[\"artist_id\"] = artists_tab[\"artist_id\"]\n",
    "tab_artists[\"q_interactions\"] = artists_tab[\"count\"][\"user_id\"]\n",
    "tab_artists[\"q_plays\"] = artists_tab[\"sum\"][\"plays\"]"
   ]
  },
  {
   "cell_type": "code",
   "execution_count": 32,
   "metadata": {},
   "outputs": [
    {
     "data": {
      "text/html": [
       "<div>\n",
       "<style scoped>\n",
       "    .dataframe tbody tr th:only-of-type {\n",
       "        vertical-align: middle;\n",
       "    }\n",
       "\n",
       "    .dataframe tbody tr th {\n",
       "        vertical-align: top;\n",
       "    }\n",
       "\n",
       "    .dataframe thead tr th {\n",
       "        text-align: left;\n",
       "    }\n",
       "</style>\n",
       "<table border=\"1\" class=\"dataframe\">\n",
       "  <thead>\n",
       "    <tr>\n",
       "      <th></th>\n",
       "      <th>artist_id</th>\n",
       "      <th colspan=\"2\" halign=\"left\">count</th>\n",
       "      <th colspan=\"2\" halign=\"left\">sum</th>\n",
       "    </tr>\n",
       "    <tr>\n",
       "      <th></th>\n",
       "      <th></th>\n",
       "      <th>plays</th>\n",
       "      <th>user_id</th>\n",
       "      <th>plays</th>\n",
       "      <th>user_id</th>\n",
       "    </tr>\n",
       "  </thead>\n",
       "  <tbody>\n",
       "    <tr>\n",
       "      <th>128637</th>\n",
       "      <td>128637</td>\n",
       "      <td>4</td>\n",
       "      <td>4</td>\n",
       "      <td>277</td>\n",
       "      <td>574650.0</td>\n",
       "    </tr>\n",
       "    <tr>\n",
       "      <th>82123</th>\n",
       "      <td>82123</td>\n",
       "      <td>1</td>\n",
       "      <td>1</td>\n",
       "      <td>4</td>\n",
       "      <td>350499.0</td>\n",
       "    </tr>\n",
       "    <tr>\n",
       "      <th>272724</th>\n",
       "      <td>272724</td>\n",
       "      <td>854</td>\n",
       "      <td>854</td>\n",
       "      <td>154136</td>\n",
       "      <td>151434561.0</td>\n",
       "    </tr>\n",
       "    <tr>\n",
       "      <th>103015</th>\n",
       "      <td>103015</td>\n",
       "      <td>5</td>\n",
       "      <td>5</td>\n",
       "      <td>188</td>\n",
       "      <td>847287.0</td>\n",
       "    </tr>\n",
       "    <tr>\n",
       "      <th>150824</th>\n",
       "      <td>150824</td>\n",
       "      <td>2</td>\n",
       "      <td>2</td>\n",
       "      <td>127</td>\n",
       "      <td>443038.0</td>\n",
       "    </tr>\n",
       "  </tbody>\n",
       "</table>\n",
       "</div>"
      ],
      "text/plain": [
       "       artist_id count             sum             \n",
       "                 plays user_id   plays      user_id\n",
       "128637    128637     4       4     277     574650.0\n",
       "82123      82123     1       1       4     350499.0\n",
       "272724    272724   854     854  154136  151434561.0\n",
       "103015    103015     5       5     188     847287.0\n",
       "150824    150824     2       2     127     443038.0"
      ]
     },
     "execution_count": 32,
     "metadata": {},
     "output_type": "execute_result"
    }
   ],
   "source": [
    "artists_tab.sample(5)"
   ]
  },
  {
   "cell_type": "code",
   "execution_count": 33,
   "metadata": {},
   "outputs": [
    {
     "data": {
      "text/plain": [
       "array([    20,     37,     45, ..., 292273, 292299, 292318])"
      ]
     },
     "execution_count": 33,
     "metadata": {},
     "output_type": "execute_result"
    }
   ],
   "source": [
    "tab_artists[tab_artists.q_interactions > 10][\"artist_id\"].values"
   ]
  },
  {
   "cell_type": "code",
   "execution_count": 34,
   "metadata": {},
   "outputs": [
    {
     "data": {
      "text/html": [
       "<div>\n",
       "<style scoped>\n",
       "    .dataframe tbody tr th:only-of-type {\n",
       "        vertical-align: middle;\n",
       "    }\n",
       "\n",
       "    .dataframe tbody tr th {\n",
       "        vertical-align: top;\n",
       "    }\n",
       "\n",
       "    .dataframe thead th {\n",
       "        text-align: right;\n",
       "    }\n",
       "</style>\n",
       "<table border=\"1\" class=\"dataframe\">\n",
       "  <thead>\n",
       "    <tr style=\"text-align: right;\">\n",
       "      <th></th>\n",
       "      <th>artist_id</th>\n",
       "      <th>q_interactions</th>\n",
       "      <th>q_plays</th>\n",
       "    </tr>\n",
       "  </thead>\n",
       "  <tbody>\n",
       "    <tr>\n",
       "      <th>252494</th>\n",
       "      <td>252494</td>\n",
       "      <td>76245</td>\n",
       "      <td>30466827</td>\n",
       "    </tr>\n",
       "    <tr>\n",
       "      <th>217883</th>\n",
       "      <td>217883</td>\n",
       "      <td>77254</td>\n",
       "      <td>27426234</td>\n",
       "    </tr>\n",
       "    <tr>\n",
       "      <th>73856</th>\n",
       "      <td>73856</td>\n",
       "      <td>66658</td>\n",
       "      <td>16686772</td>\n",
       "    </tr>\n",
       "    <tr>\n",
       "      <th>212496</th>\n",
       "      <td>212496</td>\n",
       "      <td>44443</td>\n",
       "      <td>15943557</td>\n",
       "    </tr>\n",
       "    <tr>\n",
       "      <th>186241</th>\n",
       "      <td>186241</td>\n",
       "      <td>45233</td>\n",
       "      <td>15481852</td>\n",
       "    </tr>\n",
       "    <tr>\n",
       "      <th>194163</th>\n",
       "      <td>194163</td>\n",
       "      <td>46954</td>\n",
       "      <td>15451683</td>\n",
       "    </tr>\n",
       "    <tr>\n",
       "      <th>199674</th>\n",
       "      <td>199674</td>\n",
       "      <td>28946</td>\n",
       "      <td>14075619</td>\n",
       "    </tr>\n",
       "    <tr>\n",
       "      <th>220128</th>\n",
       "      <td>220128</td>\n",
       "      <td>48924</td>\n",
       "      <td>13547741</td>\n",
       "    </tr>\n",
       "    <tr>\n",
       "      <th>171169</th>\n",
       "      <td>171169</td>\n",
       "      <td>39773</td>\n",
       "      <td>12836638</td>\n",
       "    </tr>\n",
       "    <tr>\n",
       "      <th>247942</th>\n",
       "      <td>247942</td>\n",
       "      <td>37267</td>\n",
       "      <td>11917336</td>\n",
       "    </tr>\n",
       "    <tr>\n",
       "      <th>140703</th>\n",
       "      <td>140703</td>\n",
       "      <td>19780</td>\n",
       "      <td>11288367</td>\n",
       "    </tr>\n",
       "    <tr>\n",
       "      <th>86634</th>\n",
       "      <td>86634</td>\n",
       "      <td>31482</td>\n",
       "      <td>10571527</td>\n",
       "    </tr>\n",
       "    <tr>\n",
       "      <th>212967</th>\n",
       "      <td>212967</td>\n",
       "      <td>32072</td>\n",
       "      <td>9841806</td>\n",
       "    </tr>\n",
       "    <tr>\n",
       "      <th>199270</th>\n",
       "      <td>199270</td>\n",
       "      <td>24222</td>\n",
       "      <td>9754161</td>\n",
       "    </tr>\n",
       "    <tr>\n",
       "      <th>258212</th>\n",
       "      <td>258212</td>\n",
       "      <td>41229</td>\n",
       "      <td>9595757</td>\n",
       "    </tr>\n",
       "    <tr>\n",
       "      <th>142586</th>\n",
       "      <td>142586</td>\n",
       "      <td>25115</td>\n",
       "      <td>9496576</td>\n",
       "    </tr>\n",
       "    <tr>\n",
       "      <th>51691</th>\n",
       "      <td>51691</td>\n",
       "      <td>31799</td>\n",
       "      <td>9442769</td>\n",
       "    </tr>\n",
       "    <tr>\n",
       "      <th>199842</th>\n",
       "      <td>199842</td>\n",
       "      <td>39479</td>\n",
       "      <td>9276637</td>\n",
       "    </tr>\n",
       "    <tr>\n",
       "      <th>88689</th>\n",
       "      <td>88689</td>\n",
       "      <td>31916</td>\n",
       "      <td>9232437</td>\n",
       "    </tr>\n",
       "    <tr>\n",
       "      <th>218576</th>\n",
       "      <td>218576</td>\n",
       "      <td>27161</td>\n",
       "      <td>8801186</td>\n",
       "    </tr>\n",
       "  </tbody>\n",
       "</table>\n",
       "</div>"
      ],
      "text/plain": [
       "        artist_id  q_interactions   q_plays\n",
       "252494     252494           76245  30466827\n",
       "217883     217883           77254  27426234\n",
       "73856       73856           66658  16686772\n",
       "212496     212496           44443  15943557\n",
       "186241     186241           45233  15481852\n",
       "194163     194163           46954  15451683\n",
       "199674     199674           28946  14075619\n",
       "220128     220128           48924  13547741\n",
       "171169     171169           39773  12836638\n",
       "247942     247942           37267  11917336\n",
       "140703     140703           19780  11288367\n",
       "86634       86634           31482  10571527\n",
       "212967     212967           32072   9841806\n",
       "199270     199270           24222   9754161\n",
       "258212     258212           41229   9595757\n",
       "142586     142586           25115   9496576\n",
       "51691       51691           31799   9442769\n",
       "199842     199842           39479   9276637\n",
       "88689       88689           31916   9232437\n",
       "218576     218576           27161   8801186"
      ]
     },
     "execution_count": 34,
     "metadata": {},
     "output_type": "execute_result"
    }
   ],
   "source": [
    "artists_top = tab_artists.sort_values(by = \"q_plays\", ascending=False).head(20)\n",
    "artists_top"
   ]
  },
  {
   "cell_type": "markdown",
   "metadata": {},
   "source": [
    "-----"
   ]
  },
  {
   "cell_type": "markdown",
   "metadata": {},
   "source": [
    "## Modelo: Filtro Colaborativo con interacción implicita."
   ]
  },
  {
   "cell_type": "code",
   "execution_count": 21,
   "metadata": {},
   "outputs": [],
   "source": [
    "import random"
   ]
  },
  {
   "cell_type": "code",
   "execution_count": 8,
   "metadata": {},
   "outputs": [],
   "source": [
    "def split_base(interactions_mat, pct_val = 0.2):\n",
    "    '''\n",
    "    Input: Matriz de ratings\n",
    "    Output: matriz de entrenamiento CE y de validacion CV, y user_inds\n",
    "    \n",
    "    Esta función toma la matriz orginal y enmascara un porcentaje de ratings pata la validacion\n",
    "    El conjunto de validacion (CV) va a tener todos los ratings originales, mientras que el de entrenamiento (CE)\n",
    "    reemplaza el porcentaje señalado con ceros\n",
    "    \n",
    "    pct_val: porcentaje de iteraciones a enmascarar\n",
    "    user_inds: lista de usuarios aleatoriamente elegidos y enmascarados en CE.\n",
    "    '''\n",
    "    \n",
    "    random.seed(0) # Semilla aeatoria\n",
    "    \n",
    "    CV = interactions_mat.copy() \n",
    "    CV[CV != 0] = 1 # CV como una matriz binaria\n",
    "    \n",
    "    CE = interactions_mat.copy() \n",
    "    non0_inds = CE.nonzero() # Indices donde hay interaccion\n",
    "    non0_pares = list(zip(non0_inds[0], non0_inds[1])) # lista de indices usuario-item con interaccion\n",
    "    \n",
    "    num_muestra = int(np.ceil(pct_val*len(non0_pares))) \n",
    "    muestra = random.sample(non0_pares, num_muestra) # sub-muestreo sin reemplazo\n",
    "    \n",
    "    user_inds = [index[0] for index in muestra] # indices de usuario\n",
    "    item_inds = [index[1] for index in muestra] # inidices de items\n",
    "    \n",
    "    CE[user_inds, item_inds] = 0 # Asigna 0 sobre las observaciones elegidas\n",
    "    CE.eliminate_zeros() # Elimina los ceros en el arreglo sparce\n",
    "    return CE, CV, list(set(user_inds))"
   ]
  },
  {
   "cell_type": "code",
   "execution_count": 23,
   "metadata": {},
   "outputs": [],
   "source": [
    "master = pre_master[[\"user_id\", \"artist_id\", \"plays\"]]"
   ]
  },
  {
   "cell_type": "markdown",
   "metadata": {},
   "source": [
    "Filtrando por los usuarios que han tenido mas de 35 interacciones, y los artistas que han tenido mas de 30 reproducciones en toda la base."
   ]
  },
  {
   "cell_type": "code",
   "execution_count": 26,
   "metadata": {},
   "outputs": [],
   "source": [
    "master = master[master.user_id.isin(list(tab_users[tab_users.q_interactions > 35][\"user_id\"].values))]\n",
    "master = master[master.artist_id.isin(list(tab_artists[tab_artists.q_interactions > 30][\"artist_id\"].values))]"
   ]
  },
  {
   "cell_type": "code",
   "execution_count": 27,
   "metadata": {},
   "outputs": [],
   "source": [
    "master = pd.pivot_table(master, index = [\"user_id\", \"artist_id\"], values=\"plays\" , aggfunc=np.sum)\n",
    "master = master.reset_index()"
   ]
  },
  {
   "cell_type": "code",
   "execution_count": 28,
   "metadata": {},
   "outputs": [],
   "source": [
    "#export master data\n",
    "import pickle\n",
    "filehandler = open(\"./master.data\", \"wb\")\n",
    "pickle.dump(master, filehandler)"
   ]
  },
  {
   "cell_type": "code",
   "execution_count": 29,
   "metadata": {},
   "outputs": [],
   "source": [
    "#export artists data\n",
    "artists_handler = open(\"./artists.data\", \"wb\")\n",
    "pickle.dump(tab_artists, artists_handler)\n",
    "\n",
    "#export users data\n",
    "users_handler = open(\"./users.data\", \"wb\")\n",
    "pickle.dump(tab_users, users_handler)"
   ]
  },
  {
   "cell_type": "code",
   "execution_count": 30,
   "metadata": {},
   "outputs": [],
   "source": [
    "#export conversion data\n",
    "pre_master_handler = open(\"./premaster.data\", \"wb\")\n",
    "pickle.dump(pre_master, pre_master_handler)"
   ]
  },
  {
   "cell_type": "code",
   "execution_count": 3,
   "metadata": {},
   "outputs": [],
   "source": [
    "#import master data\n",
    "import pickle\n",
    "import pandas as pd\n",
    "import numpy as np\n",
    "import scipy.sparse as sparse\n",
    "import random\n",
    "filename = \"./master.data\"\n",
    "filehandler = open(filename, 'rb') \n",
    "master_loaded = pickle.load(filehandler)"
   ]
  },
  {
   "cell_type": "code",
   "execution_count": 4,
   "metadata": {},
   "outputs": [
    {
     "data": {
      "text/plain": [
       "(16079298, 3)"
      ]
     },
     "execution_count": 4,
     "metadata": {},
     "output_type": "execute_result"
    }
   ],
   "source": [
    "master_dense = master_loaded\n",
    "master_dense.shape"
   ]
  },
  {
   "cell_type": "code",
   "execution_count": 5,
   "metadata": {},
   "outputs": [
    {
     "data": {
      "text/html": [
       "<div>\n",
       "<style scoped>\n",
       "    .dataframe tbody tr th:only-of-type {\n",
       "        vertical-align: middle;\n",
       "    }\n",
       "\n",
       "    .dataframe tbody tr th {\n",
       "        vertical-align: top;\n",
       "    }\n",
       "\n",
       "    .dataframe thead th {\n",
       "        text-align: right;\n",
       "    }\n",
       "</style>\n",
       "<table border=\"1\" class=\"dataframe\">\n",
       "  <thead>\n",
       "    <tr style=\"text-align: right;\">\n",
       "      <th></th>\n",
       "      <th>user_id</th>\n",
       "      <th>artist_id</th>\n",
       "      <th>plays</th>\n",
       "    </tr>\n",
       "  </thead>\n",
       "  <tbody>\n",
       "    <tr>\n",
       "      <th>7986814</th>\n",
       "      <td>178136</td>\n",
       "      <td>181658</td>\n",
       "      <td>165</td>\n",
       "    </tr>\n",
       "    <tr>\n",
       "      <th>9153053</th>\n",
       "      <td>204170</td>\n",
       "      <td>67139</td>\n",
       "      <td>308</td>\n",
       "    </tr>\n",
       "    <tr>\n",
       "      <th>7767065</th>\n",
       "      <td>173209</td>\n",
       "      <td>283411</td>\n",
       "      <td>290</td>\n",
       "    </tr>\n",
       "    <tr>\n",
       "      <th>15121998</th>\n",
       "      <td>337442</td>\n",
       "      <td>114051</td>\n",
       "      <td>109</td>\n",
       "    </tr>\n",
       "    <tr>\n",
       "      <th>16066680</th>\n",
       "      <td>358580</td>\n",
       "      <td>238667</td>\n",
       "      <td>567</td>\n",
       "    </tr>\n",
       "  </tbody>\n",
       "</table>\n",
       "</div>"
      ],
      "text/plain": [
       "          user_id  artist_id  plays\n",
       "7986814    178136     181658    165\n",
       "9153053    204170      67139    308\n",
       "7767065    173209     283411    290\n",
       "15121998   337442     114051    109\n",
       "16066680   358580     238667    567"
      ]
     },
     "execution_count": 5,
     "metadata": {},
     "output_type": "execute_result"
    }
   ],
   "source": [
    "master_dense.sample(5)"
   ]
  },
  {
   "cell_type": "code",
   "execution_count": 5,
   "metadata": {},
   "outputs": [],
   "source": [
    "users = list(np.sort(master_dense.user_id.unique())) \n",
    "artists = list(master_dense.artist_id.unique()) \n",
    "interaction = list(master_dense.plays)\n",
    "\n",
    "# Construimos la matriz\n",
    "rows = master_dense.user_id.astype('category').cat.codes\n",
    "cols = master_dense.artist_id.astype('category').cat.codes\n",
    "prefs_sparse = sparse.csr_matrix((interaction, (rows, cols)), shape=(len(users), len(artists)))"
   ]
  },
  {
   "cell_type": "code",
   "execution_count": 12,
   "metadata": {},
   "outputs": [
    {
     "data": {
      "text/plain": [
       "<341425x35443 sparse matrix of type '<class 'numpy.longlong'>'\n",
       "\twith 16079298 stored elements in Compressed Sparse Row format>"
      ]
     },
     "execution_count": 12,
     "metadata": {},
     "output_type": "execute_result"
    }
   ],
   "source": [
    "prefs_sparse"
   ]
  },
  {
   "cell_type": "code",
   "execution_count": 6,
   "metadata": {},
   "outputs": [
    {
     "data": {
      "text/plain": [
       "99.86712560769473"
      ]
     },
     "execution_count": 6,
     "metadata": {},
     "output_type": "execute_result"
    }
   ],
   "source": [
    "# Interacciones posibles\n",
    "mat_dim = prefs_sparse.shape[0]*prefs_sparse.shape[1] \n",
    "\n",
    "# Numero de interacciones\n",
    "num_interactions = len(prefs_sparse.nonzero()[0]) \n",
    "sparsity = 100*(1 - (num_interactions/mat_dim))\n",
    "sparsity"
   ]
  },
  {
   "cell_type": "markdown",
   "metadata": {},
   "source": [
    "Se obtiene una matriz dispersa con 99.86 datos nulos"
   ]
  },
  {
   "cell_type": "code",
   "execution_count": 9,
   "metadata": {},
   "outputs": [],
   "source": [
    "CE, CV, users_V = split_base(prefs_sparse, pct_val = 0.2)"
   ]
  },
  {
   "cell_type": "code",
   "execution_count": 10,
   "metadata": {},
   "outputs": [],
   "source": [
    "import implicit\n",
    "from sklearn import metrics"
   ]
  },
  {
   "cell_type": "code",
   "execution_count": 14,
   "metadata": {},
   "outputs": [
    {
     "name": "stderr",
     "output_type": "stream",
     "text": [
      "WARNING:implicit:This method is deprecated. Please use the AlternatingLeastSquares class instead\n"
     ]
    },
    {
     "data": {
      "application/vnd.jupyter.widget-view+json": {
       "model_id": "9cef1443bc994811808c51797c50f01f",
       "version_major": 2,
       "version_minor": 0
      },
      "text/plain": [
       "HBox(children=(FloatProgress(value=0.0, max=50.0), HTML(value='')))"
      ]
     },
     "metadata": {},
     "output_type": "display_data"
    },
    {
     "name": "stdout",
     "output_type": "stream",
     "text": [
      "\n"
     ]
    }
   ],
   "source": [
    "alpha = 15\n",
    "user_vecs, item_vecs = implicit.alternating_least_squares((CE*alpha).astype('double'), \n",
    "                                                          factors=20, \n",
    "                                                          regularization = 0.1, \n",
    "                                                          iterations = 50)"
   ]
  },
  {
   "cell_type": "code",
   "execution_count": 48,
   "metadata": {},
   "outputs": [],
   "source": [
    "def auc_score(preds, prueba):\n",
    "    '''\n",
    "    Esta funcion obtiene el AUC. \n",
    "    Input:\n",
    "    parameters:\n",
    "    preds: las predicciones del sistema\n",
    "    prueba: las ventas verdaderas\n",
    "    Output:\n",
    "    AUC\n",
    "    '''\n",
    "    \n",
    "    fpr, tpr, umbrales = metrics.roc_curve(prueba, preds)\n",
    "    return metrics.auc(fpr, tpr)   "
   ]
  },
  {
   "cell_type": "code",
   "execution_count": 72,
   "metadata": {},
   "outputs": [],
   "source": [
    "def AUC_val(CE, users_V, preds, CV):\n",
    "    '''\n",
    "    Esta funcion calcula el AUC medio por usuario para todo usuario en el conjunto de validacion\n",
    "    Input:\n",
    "    CE: Conjunto de entrenamiento con un porcentaje de las interacciones originales enmascaradas\n",
    "    preds: la matriz con las predicciones de los ratings para cada par usuario-item (lista\n",
    "    con vectores de usuario y vectores de items)\n",
    "    users_V: indices de los usuarios de validacion\n",
    "    CV: conjunto de validacion \n",
    "    Output:\n",
    "    AUC medio del CV para las interacciones usuario-item y para los items más populares\n",
    "    '''\n",
    "    \n",
    "    # Inicializamos la lista para guardar el AUC de validacion \n",
    "    rec_auc = [] \n",
    "    # y el AUC para la recomendación por popularidad\n",
    "    pop_auc = [] \n",
    "    \n",
    "    # Tomamos la suma de interacciones por item para encontrar lo más popular\n",
    "    pop_items = np.array(CV.sum(axis = 0)).reshape(-1)\n",
    "    item_vecs = preds[1]\n",
    "    \n",
    "    for user in users_V: \n",
    "        user_i = CE[user,:].toarray().reshape(-1) # usuario de validacion\n",
    "        user_val = np.where(user_i == 0) # \n",
    "        \n",
    "        # Toma la prediccion para el usuario-item\n",
    "        user_vec = preds[0][user,:]\n",
    "        pred = user_vec.dot(item_vecs).toarray()[0,user_val].reshape(-1)\n",
    "        \n",
    "        # Selecciona los ratings estimados para el usuario \n",
    "        actual = CV[user,:].toarray()[0,user_val].reshape(-1)\n",
    "        \n",
    "        # Toma los pares con interacciones binarias de los datos originales\n",
    "        pop = pop_items[user_val] # Popularidad del item\n",
    "        rec_auc.append(auc_score(pred, actual)) # Calcula y guarda el AUC para el ususario\n",
    "        pop_auc.append(auc_score(pop, actual)) # Calcula el AUC por popularidad\n",
    "\n",
    "    \n",
    "    return float('%.3f'%np.mean(rec_auc)), float('%.3f'%np.mean(pop_auc))  \n",
    "   # Devuelve el AUC medio para validacion y por popularidad\n"
   ]
  },
  {
   "cell_type": "code",
   "execution_count": 55,
   "metadata": {},
   "outputs": [
    {
     "data": {
      "text/plain": [
       "(0.975, 0.89)"
      ]
     },
     "execution_count": 55,
     "metadata": {},
     "output_type": "execute_result"
    }
   ],
   "source": [
    "AUC_val(CE, users_V, [sparse.csr_matrix(user_vecs), sparse.csr_matrix(item_vecs.T)], CV)"
   ]
  },
  {
   "cell_type": "markdown",
   "metadata": {},
   "source": [
    "Donde 0.975 representa el AUC promedio de recomendación sobre el set de datos de validación, y 0.89 representa el AUC de un modelo con predicciones por popularidad."
   ]
  },
  {
   "cell_type": "markdown",
   "metadata": {},
   "source": [
    "Making a prediction"
   ]
  },
  {
   "cell_type": "code",
   "execution_count": 24,
   "metadata": {},
   "outputs": [],
   "source": [
    "def prediction(CE, CV, users_mat, items_mat, users_V):\n",
    "    \"\"\"\n",
    "    Esta funcion calcula el AUC medio por usuario para todo usuario en el conjunto de validacion\n",
    "    Input:\n",
    "    CE: Conjunto de entrenamiento con un porcentaje de las interacciones originales enmascaradas\n",
    "    preds: la matriz con las predicciones de los ratings para cada par usuario-item (lista\n",
    "    con vectores de usuario y vectores de items)\n",
    "    users_V: indices de los usuarios de validacion\n",
    "    CV: conjunto de validacion \n",
    "    \"\"\"\n",
    "    concat_ret = []\n",
    "    for user in users_V: \n",
    "        user_i = CE[user,:].toarray().reshape(-1) # usuario de validacion\n",
    "        user_val = np.where(user_i == 0) # \n",
    "        \n",
    "        # Toma la prediccion para el usuario-item\n",
    "        user_vec = users_mat[user,:]\n",
    "        pred = user_vec.dot(items_mat).toarray()[0,user_val].reshape(-1)\n",
    "        \n",
    "        # Selecciona los ratings estimados para el usuario \n",
    "        actual = CV[user,:].toarray()[0,user_val].reshape(-1)\n",
    "        concat_ret.append([user, actual, pred])\n",
    "    return concat_ret\n"
   ]
  },
  {
   "cell_type": "code",
   "execution_count": null,
   "metadata": {},
   "outputs": [],
   "source": [
    "predictions = predict(CE, CV, sparse.csr_matrix(user_vecs), sparse.csr_matrix(item_vecs.T), users_V)"
   ]
  },
  {
   "cell_type": "code",
   "execution_count": 12,
   "metadata": {},
   "outputs": [],
   "source": [
    "def predict(user, CE, CV, users_V, users_mat, items_mat):\n",
    "    user_i = CE[user,:].toarray().reshape(-1) # usuario de validacion\n",
    "    user_val = np.where(user_i == 0) # \n",
    "    user_vec = users_mat[user,:]\n",
    "    pred = user_vec.dot(items_mat).toarray()[0,user_val].reshape(-1)\n",
    "    return pred"
   ]
  },
  {
   "cell_type": "code",
   "execution_count": 17,
   "metadata": {},
   "outputs": [
    {
     "name": "stdout",
     "output_type": "stream",
     "text": [
      "User: 312930 prediction\n"
     ]
    }
   ],
   "source": [
    "user = random.choice(users_V)\n",
    "prediction = predict(user, CE, CV, users_V, sparse.csr_matrix(user_vecs), sparse.csr_matrix(item_vecs.T))\n",
    "print(f\"User: {user} prediction\")"
   ]
  },
  {
   "cell_type": "code",
   "execution_count": 21,
   "metadata": {},
   "outputs": [
    {
     "data": {
      "text/plain": [
       "array([ 0.53476465, -0.00313634,  0.30817783, ..., -0.13072668,\n",
       "       -0.04748308, -0.00593788], dtype=float32)"
      ]
     },
     "execution_count": 21,
     "metadata": {},
     "output_type": "execute_result"
    }
   ],
   "source": [
    "prediction"
   ]
  },
  {
   "cell_type": "markdown",
   "metadata": {},
   "source": [
    "## Modelo híbrido"
   ]
  },
  {
   "cell_type": "code",
   "execution_count": 68,
   "metadata": {},
   "outputs": [
    {
     "name": "stderr",
     "output_type": "stream",
     "text": [
      "C:\\Users\\Fernando\\Anaconda3\\lib\\site-packages\\lightfm\\_lightfm_fast.py:10: UserWarning: LightFM was compiled without OpenMP support. Only a single thread will be used.\n",
      "  \"LightFM was compiled without OpenMP support. \"\n"
     ]
    }
   ],
   "source": [
    "from lightfm.data import Dataset\n",
    "from lightfm import LightFM\n",
    "from lightfm.evaluation import precision_at_k\n",
    "from lightfm.evaluation import auc_score\n",
    "from lightfm.cross_validation import random_train_test_split\n",
    "from scipy.sparse import coo_matrix as sp"
   ]
  },
  {
   "cell_type": "markdown",
   "metadata": {},
   "source": [
    "PAra mejorar el performance con la información auxiliar, se hará un rankeo de la variable edad, según su densidad; esta categorización facilitará la estimación del modelo."
   ]
  },
  {
   "cell_type": "markdown",
   "metadata": {},
   "source": [
    "### SR híbrido para los datos sin filtrar"
   ]
  },
  {
   "cell_type": "code",
   "execution_count": 113,
   "metadata": {},
   "outputs": [],
   "source": [
    "dataP['age_r'] = pd.qcut(dataP['age'], 5, labels=False)"
   ]
  },
  {
   "cell_type": "code",
   "execution_count": 114,
   "metadata": {},
   "outputs": [
    {
     "data": {
      "text/html": [
       "<div>\n",
       "<style scoped>\n",
       "    .dataframe tbody tr th:only-of-type {\n",
       "        vertical-align: middle;\n",
       "    }\n",
       "\n",
       "    .dataframe tbody tr th {\n",
       "        vertical-align: top;\n",
       "    }\n",
       "\n",
       "    .dataframe thead th {\n",
       "        text-align: right;\n",
       "    }\n",
       "</style>\n",
       "<table border=\"1\" class=\"dataframe\">\n",
       "  <thead>\n",
       "    <tr style=\"text-align: right;\">\n",
       "      <th></th>\n",
       "      <th>user</th>\n",
       "      <th>gender</th>\n",
       "      <th>age</th>\n",
       "      <th>country</th>\n",
       "      <th>age_r</th>\n",
       "    </tr>\n",
       "  </thead>\n",
       "  <tbody>\n",
       "    <tr>\n",
       "      <td>0</td>\n",
       "      <td>00000c289a1829a808ac09c00daf10bc3c4e223b</td>\n",
       "      <td>f</td>\n",
       "      <td>22.0</td>\n",
       "      <td>Germany</td>\n",
       "      <td>1.0</td>\n",
       "    </tr>\n",
       "    <tr>\n",
       "      <td>1</td>\n",
       "      <td>00001411dc427966b17297bf4d69e7e193135d89</td>\n",
       "      <td>f</td>\n",
       "      <td>NaN</td>\n",
       "      <td>Canada</td>\n",
       "      <td>NaN</td>\n",
       "    </tr>\n",
       "    <tr>\n",
       "      <td>2</td>\n",
       "      <td>00004d2ac9316e22dc007ab2243d6fcb239e707d</td>\n",
       "      <td>NaN</td>\n",
       "      <td>NaN</td>\n",
       "      <td>Germany</td>\n",
       "      <td>NaN</td>\n",
       "    </tr>\n",
       "    <tr>\n",
       "      <td>3</td>\n",
       "      <td>000063d3fe1cf2ba248b9e3c3f0334845a27a6bf</td>\n",
       "      <td>m</td>\n",
       "      <td>19.0</td>\n",
       "      <td>Mexico</td>\n",
       "      <td>0.0</td>\n",
       "    </tr>\n",
       "    <tr>\n",
       "      <td>4</td>\n",
       "      <td>00007a47085b9aab8af55f52ec8846ac479ac4fe</td>\n",
       "      <td>m</td>\n",
       "      <td>28.0</td>\n",
       "      <td>United States</td>\n",
       "      <td>3.0</td>\n",
       "    </tr>\n",
       "  </tbody>\n",
       "</table>\n",
       "</div>"
      ],
      "text/plain": [
       "                                       user gender   age        country  age_r\n",
       "0  00000c289a1829a808ac09c00daf10bc3c4e223b      f  22.0        Germany    1.0\n",
       "1  00001411dc427966b17297bf4d69e7e193135d89      f   NaN         Canada    NaN\n",
       "2  00004d2ac9316e22dc007ab2243d6fcb239e707d    NaN   NaN        Germany    NaN\n",
       "3  000063d3fe1cf2ba248b9e3c3f0334845a27a6bf      m  19.0         Mexico    0.0\n",
       "4  00007a47085b9aab8af55f52ec8846ac479ac4fe      m  28.0  United States    3.0"
      ]
     },
     "execution_count": 114,
     "metadata": {},
     "output_type": "execute_result"
    }
   ],
   "source": [
    "dataP.head()"
   ]
  },
  {
   "cell_type": "code",
   "execution_count": 115,
   "metadata": {},
   "outputs": [
    {
     "data": {
      "text/html": [
       "<div>\n",
       "<style scoped>\n",
       "    .dataframe tbody tr th:only-of-type {\n",
       "        vertical-align: middle;\n",
       "    }\n",
       "\n",
       "    .dataframe tbody tr th {\n",
       "        vertical-align: top;\n",
       "    }\n",
       "\n",
       "    .dataframe thead tr th {\n",
       "        text-align: left;\n",
       "    }\n",
       "\n",
       "    .dataframe thead tr:last-of-type th {\n",
       "        text-align: right;\n",
       "    }\n",
       "</style>\n",
       "<table border=\"1\" class=\"dataframe\">\n",
       "  <thead>\n",
       "    <tr>\n",
       "      <th></th>\n",
       "      <th colspan=\"4\" halign=\"left\">age</th>\n",
       "    </tr>\n",
       "    <tr>\n",
       "      <th></th>\n",
       "      <th>count</th>\n",
       "      <th>mean</th>\n",
       "      <th>min</th>\n",
       "      <th>max</th>\n",
       "    </tr>\n",
       "    <tr>\n",
       "      <th>age_r</th>\n",
       "      <th></th>\n",
       "      <th></th>\n",
       "      <th></th>\n",
       "      <th></th>\n",
       "    </tr>\n",
       "  </thead>\n",
       "  <tbody>\n",
       "    <tr>\n",
       "      <td>0.0</td>\n",
       "      <td>60809</td>\n",
       "      <td>16.244207</td>\n",
       "      <td>-1337.0</td>\n",
       "      <td>19.0</td>\n",
       "    </tr>\n",
       "    <tr>\n",
       "      <td>1.0</td>\n",
       "      <td>70268</td>\n",
       "      <td>20.973530</td>\n",
       "      <td>20.0</td>\n",
       "      <td>22.0</td>\n",
       "    </tr>\n",
       "    <tr>\n",
       "      <td>2.0</td>\n",
       "      <td>52827</td>\n",
       "      <td>23.914419</td>\n",
       "      <td>23.0</td>\n",
       "      <td>25.0</td>\n",
       "    </tr>\n",
       "    <tr>\n",
       "      <td>3.0</td>\n",
       "      <td>50476</td>\n",
       "      <td>27.710833</td>\n",
       "      <td>26.0</td>\n",
       "      <td>30.0</td>\n",
       "    </tr>\n",
       "    <tr>\n",
       "      <td>4.0</td>\n",
       "      <td>50067</td>\n",
       "      <td>40.254918</td>\n",
       "      <td>31.0</td>\n",
       "      <td>1002.0</td>\n",
       "    </tr>\n",
       "  </tbody>\n",
       "</table>\n",
       "</div>"
      ],
      "text/plain": [
       "         age                           \n",
       "       count       mean     min     max\n",
       "age_r                                  \n",
       "0.0    60809  16.244207 -1337.0    19.0\n",
       "1.0    70268  20.973530    20.0    22.0\n",
       "2.0    52827  23.914419    23.0    25.0\n",
       "3.0    50476  27.710833    26.0    30.0\n",
       "4.0    50067  40.254918    31.0  1002.0"
      ]
     },
     "execution_count": 115,
     "metadata": {},
     "output_type": "execute_result"
    }
   ],
   "source": [
    "dataP.groupby('age_r').agg({'age': ['count','mean', 'min', 'max']})"
   ]
  },
  {
   "cell_type": "code",
   "execution_count": 116,
   "metadata": {},
   "outputs": [],
   "source": [
    "dataset = Dataset()"
   ]
  },
  {
   "cell_type": "code",
   "execution_count": 117,
   "metadata": {},
   "outputs": [
    {
     "data": {
      "text/plain": [
       "(341425, 1)"
      ]
     },
     "execution_count": 117,
     "metadata": {},
     "output_type": "execute_result"
    }
   ],
   "source": [
    "dfx = pd.DataFrame(users)\n",
    "dfx.shape"
   ]
  },
  {
   "cell_type": "code",
   "execution_count": 118,
   "metadata": {},
   "outputs": [
    {
     "data": {
      "text/plain": [
       "(35443, 1)"
      ]
     },
     "execution_count": 118,
     "metadata": {},
     "output_type": "execute_result"
    }
   ],
   "source": [
    "dfx = pd.DataFrame(artists)\n",
    "dfx.shape"
   ]
  },
  {
   "cell_type": "code",
   "execution_count": 119,
   "metadata": {},
   "outputs": [
    {
     "data": {
      "text/plain": [
       "'00000c289a1829a808ac09c00daf10bc3c4e223b'"
      ]
     },
     "execution_count": 119,
     "metadata": {},
     "output_type": "execute_result"
    }
   ],
   "source": [
    "dataP.to_numpy()[0][0]"
   ]
  },
  {
   "cell_type": "code",
   "execution_count": 120,
   "metadata": {},
   "outputs": [],
   "source": [
    "dataset.fit(users=users,\n",
    "            items=artists,\n",
    "           )"
   ]
  },
  {
   "cell_type": "code",
   "execution_count": 121,
   "metadata": {},
   "outputs": [
    {
     "data": {
      "text/plain": [
       "(341425, 35443)"
      ]
     },
     "execution_count": 121,
     "metadata": {},
     "output_type": "execute_result"
    }
   ],
   "source": [
    "num_users, num_items = dataset.interactions_shape()\n",
    "num_users, num_items\n",
    "#(358868, 292363)"
   ]
  },
  {
   "cell_type": "code",
   "execution_count": 122,
   "metadata": {},
   "outputs": [],
   "source": [
    "(interactions_sparse_matrix, weights) = dataset.build_interactions(\n",
    "        (\n",
    "            (\n",
    "                row[0]\n",
    "                ,row[1]\n",
    "                ,row[2]\n",
    "            )\n",
    "        )\n",
    "        for row in master_dense.to_numpy()\n",
    "    )"
   ]
  },
  {
   "cell_type": "code",
   "execution_count": 123,
   "metadata": {},
   "outputs": [],
   "source": [
    "customer_Features = dataP[['user','gender','age_r','country']].drop_duplicates().fillna(0)\n",
    "customer_Features=customer_Features[(customer_Features.groupby(['user']).cumcount() == 0)]"
   ]
  },
  {
   "cell_type": "code",
   "execution_count": 124,
   "metadata": {},
   "outputs": [],
   "source": [
    "customer_Features.fillna('NA', inplace=True)"
   ]
  },
  {
   "cell_type": "code",
   "execution_count": 125,
   "metadata": {},
   "outputs": [
    {
     "data": {
      "text/html": [
       "<div>\n",
       "<style scoped>\n",
       "    .dataframe tbody tr th:only-of-type {\n",
       "        vertical-align: middle;\n",
       "    }\n",
       "\n",
       "    .dataframe tbody tr th {\n",
       "        vertical-align: top;\n",
       "    }\n",
       "\n",
       "    .dataframe thead th {\n",
       "        text-align: right;\n",
       "    }\n",
       "</style>\n",
       "<table border=\"1\" class=\"dataframe\">\n",
       "  <thead>\n",
       "    <tr style=\"text-align: right;\">\n",
       "      <th></th>\n",
       "      <th>user</th>\n",
       "      <th>gender</th>\n",
       "      <th>age_r</th>\n",
       "      <th>country</th>\n",
       "    </tr>\n",
       "  </thead>\n",
       "  <tbody>\n",
       "    <tr>\n",
       "      <td>0</td>\n",
       "      <td>00000c289a1829a808ac09c00daf10bc3c4e223b</td>\n",
       "      <td>f</td>\n",
       "      <td>1.0</td>\n",
       "      <td>Germany</td>\n",
       "    </tr>\n",
       "    <tr>\n",
       "      <td>1</td>\n",
       "      <td>00001411dc427966b17297bf4d69e7e193135d89</td>\n",
       "      <td>f</td>\n",
       "      <td>0.0</td>\n",
       "      <td>Canada</td>\n",
       "    </tr>\n",
       "    <tr>\n",
       "      <td>2</td>\n",
       "      <td>00004d2ac9316e22dc007ab2243d6fcb239e707d</td>\n",
       "      <td>0</td>\n",
       "      <td>0.0</td>\n",
       "      <td>Germany</td>\n",
       "    </tr>\n",
       "    <tr>\n",
       "      <td>3</td>\n",
       "      <td>000063d3fe1cf2ba248b9e3c3f0334845a27a6bf</td>\n",
       "      <td>m</td>\n",
       "      <td>0.0</td>\n",
       "      <td>Mexico</td>\n",
       "    </tr>\n",
       "    <tr>\n",
       "      <td>4</td>\n",
       "      <td>00007a47085b9aab8af55f52ec8846ac479ac4fe</td>\n",
       "      <td>m</td>\n",
       "      <td>3.0</td>\n",
       "      <td>United States</td>\n",
       "    </tr>\n",
       "    <tr>\n",
       "      <td>...</td>\n",
       "      <td>...</td>\n",
       "      <td>...</td>\n",
       "      <td>...</td>\n",
       "      <td>...</td>\n",
       "    </tr>\n",
       "    <tr>\n",
       "      <td>359342</td>\n",
       "      <td>fffe7823f67b433b45f22056467db921c1d3d7d0</td>\n",
       "      <td>m</td>\n",
       "      <td>2.0</td>\n",
       "      <td>Germany</td>\n",
       "    </tr>\n",
       "    <tr>\n",
       "      <td>359343</td>\n",
       "      <td>fffe8637bd8234309e871409c7ebef99a720afc1</td>\n",
       "      <td>m</td>\n",
       "      <td>2.0</td>\n",
       "      <td>Brazil</td>\n",
       "    </tr>\n",
       "    <tr>\n",
       "      <td>359344</td>\n",
       "      <td>fffe8c7f952d9b960a56ed4dcb40a415d924b224</td>\n",
       "      <td>m</td>\n",
       "      <td>1.0</td>\n",
       "      <td>United States</td>\n",
       "    </tr>\n",
       "    <tr>\n",
       "      <td>359345</td>\n",
       "      <td>ffff9af9ae04d263dae91cb838b1f3a6725f5ffb</td>\n",
       "      <td>m</td>\n",
       "      <td>1.0</td>\n",
       "      <td>Russian Federation</td>\n",
       "    </tr>\n",
       "    <tr>\n",
       "      <td>359346</td>\n",
       "      <td>ffff9ef87a7d9494ada2f9ade4b9ff637c0759ac</td>\n",
       "      <td>m</td>\n",
       "      <td>1.0</td>\n",
       "      <td>Belgium</td>\n",
       "    </tr>\n",
       "  </tbody>\n",
       "</table>\n",
       "<p>359347 rows × 4 columns</p>\n",
       "</div>"
      ],
      "text/plain": [
       "                                            user gender  age_r  \\\n",
       "0       00000c289a1829a808ac09c00daf10bc3c4e223b      f    1.0   \n",
       "1       00001411dc427966b17297bf4d69e7e193135d89      f    0.0   \n",
       "2       00004d2ac9316e22dc007ab2243d6fcb239e707d      0    0.0   \n",
       "3       000063d3fe1cf2ba248b9e3c3f0334845a27a6bf      m    0.0   \n",
       "4       00007a47085b9aab8af55f52ec8846ac479ac4fe      m    3.0   \n",
       "...                                          ...    ...    ...   \n",
       "359342  fffe7823f67b433b45f22056467db921c1d3d7d0      m    2.0   \n",
       "359343  fffe8637bd8234309e871409c7ebef99a720afc1      m    2.0   \n",
       "359344  fffe8c7f952d9b960a56ed4dcb40a415d924b224      m    1.0   \n",
       "359345  ffff9af9ae04d263dae91cb838b1f3a6725f5ffb      m    1.0   \n",
       "359346  ffff9ef87a7d9494ada2f9ade4b9ff637c0759ac      m    1.0   \n",
       "\n",
       "                   country  \n",
       "0                  Germany  \n",
       "1                   Canada  \n",
       "2                  Germany  \n",
       "3                   Mexico  \n",
       "4            United States  \n",
       "...                    ...  \n",
       "359342             Germany  \n",
       "359343              Brazil  \n",
       "359344       United States  \n",
       "359345  Russian Federation  \n",
       "359346             Belgium  \n",
       "\n",
       "[359347 rows x 4 columns]"
      ]
     },
     "execution_count": 125,
     "metadata": {},
     "output_type": "execute_result"
    }
   ],
   "source": [
    "customer_Features"
   ]
  },
  {
   "cell_type": "code",
   "execution_count": 126,
   "metadata": {},
   "outputs": [
    {
     "data": {
      "text/html": [
       "<div>\n",
       "<style scoped>\n",
       "    .dataframe tbody tr th:only-of-type {\n",
       "        vertical-align: middle;\n",
       "    }\n",
       "\n",
       "    .dataframe tbody tr th {\n",
       "        vertical-align: top;\n",
       "    }\n",
       "\n",
       "    .dataframe thead th {\n",
       "        text-align: right;\n",
       "    }\n",
       "</style>\n",
       "<table border=\"1\" class=\"dataframe\">\n",
       "  <thead>\n",
       "    <tr style=\"text-align: right;\">\n",
       "      <th></th>\n",
       "      <th>user</th>\n",
       "      <th>gender</th>\n",
       "      <th>age_r</th>\n",
       "      <th>country</th>\n",
       "    </tr>\n",
       "  </thead>\n",
       "  <tbody>\n",
       "  </tbody>\n",
       "</table>\n",
       "</div>"
      ],
      "text/plain": [
       "Empty DataFrame\n",
       "Columns: [user, gender, age_r, country]\n",
       "Index: []"
      ]
     },
     "execution_count": 126,
     "metadata": {},
     "output_type": "execute_result"
    }
   ],
   "source": [
    "customer_Features[customer_Features['country']==0]"
   ]
  },
  {
   "cell_type": "code",
   "execution_count": 127,
   "metadata": {},
   "outputs": [],
   "source": [
    "C_age = customer_Features[['age_r']].drop_duplicates()\n",
    "C_genero = customer_Features[['gender']].drop_duplicates()\n",
    "C_country = customer_Features[['country']].drop_duplicates()"
   ]
  },
  {
   "cell_type": "code",
   "execution_count": 128,
   "metadata": {},
   "outputs": [
    {
     "data": {
      "text/html": [
       "<div>\n",
       "<style scoped>\n",
       "    .dataframe tbody tr th:only-of-type {\n",
       "        vertical-align: middle;\n",
       "    }\n",
       "\n",
       "    .dataframe tbody tr th {\n",
       "        vertical-align: top;\n",
       "    }\n",
       "\n",
       "    .dataframe thead th {\n",
       "        text-align: right;\n",
       "    }\n",
       "</style>\n",
       "<table border=\"1\" class=\"dataframe\">\n",
       "  <thead>\n",
       "    <tr style=\"text-align: right;\">\n",
       "      <th></th>\n",
       "      <th>country</th>\n",
       "    </tr>\n",
       "  </thead>\n",
       "  <tbody>\n",
       "  </tbody>\n",
       "</table>\n",
       "</div>"
      ],
      "text/plain": [
       "Empty DataFrame\n",
       "Columns: [country]\n",
       "Index: []"
      ]
     },
     "execution_count": 128,
     "metadata": {},
     "output_type": "execute_result"
    }
   ],
   "source": [
    "C_country[C_country['country']=='NA']"
   ]
  },
  {
   "cell_type": "code",
   "execution_count": 129,
   "metadata": {},
   "outputs": [],
   "source": [
    "C_age2 = C_age.to_numpy().reshape(len(C_age.to_numpy()))\n",
    "C_genero2 = C_genero.to_numpy().reshape(len(C_genero.to_numpy()))\n",
    "C_country2 = C_country.to_numpy().reshape(len(C_country.to_numpy()))\n",
    "customers_F = list(C_age2) + list(C_genero2) +  list(C_country2) + ['NA']"
   ]
  },
  {
   "cell_type": "code",
   "execution_count": 130,
   "metadata": {},
   "outputs": [
    {
     "data": {
      "text/plain": [
       "[1.0,\n",
       " 0.0,\n",
       " 3.0,\n",
       " 2.0,\n",
       " 4.0,\n",
       " 'f',\n",
       " 0,\n",
       " 'm',\n",
       " 'Germany',\n",
       " 'Canada',\n",
       " 'Mexico',\n",
       " 'United States',\n",
       " 'United Kingdom',\n",
       " 'Finland',\n",
       " 'Poland',\n",
       " 'Spain',\n",
       " 'Ukraine',\n",
       " 'Sweden',\n",
       " 'Japan',\n",
       " 'Australia']"
      ]
     },
     "execution_count": 130,
     "metadata": {},
     "output_type": "execute_result"
    }
   ],
   "source": [
    "customers_F[0:20]"
   ]
  },
  {
   "cell_type": "code",
   "execution_count": 131,
   "metadata": {},
   "outputs": [],
   "source": [
    "Usuarios = pre_master[['user','user_id']].drop_duplicates()\n",
    "Usuarios2 = Usuarios.merge(customer_Features, how='left', left_on='user', right_on='user', copy=True).drop_duplicates()"
   ]
  },
  {
   "cell_type": "code",
   "execution_count": 132,
   "metadata": {},
   "outputs": [],
   "source": [
    "Usuarios2.fillna('NA', inplace=True)"
   ]
  },
  {
   "cell_type": "code",
   "execution_count": 133,
   "metadata": {},
   "outputs": [
    {
     "data": {
      "text/plain": [
       "array([['00000c289a1829a808ac09c00daf10bc3c4e223b', 0, 'f', 1.0,\n",
       "        'Germany'],\n",
       "       ['00001411dc427966b17297bf4d69e7e193135d89', 1, 'f', 0.0,\n",
       "        'Canada'],\n",
       "       ['00004d2ac9316e22dc007ab2243d6fcb239e707d', 2, 0, 0.0, 'Germany'],\n",
       "       ...,\n",
       "       ['ffff9af9ae04d263dae91cb838b1f3a6725f5ffb', 358865, 'm', 1.0,\n",
       "        'Russian Federation'],\n",
       "       ['ffff9ef87a7d9494ada2f9ade4b9ff637c0759ac', 358866, 'm', 1.0,\n",
       "        'Belgium'],\n",
       "       ['sep 20, 2008', 358867, 'NA', 'NA', 'NA']], dtype=object)"
      ]
     },
     "execution_count": 133,
     "metadata": {},
     "output_type": "execute_result"
    }
   ],
   "source": [
    "Usuarios2.to_numpy()"
   ]
  },
  {
   "cell_type": "code",
   "execution_count": 134,
   "metadata": {},
   "outputs": [],
   "source": [
    "users = list(np.sort(Usuarios2.user_id.unique())) "
   ]
  },
  {
   "cell_type": "code",
   "execution_count": 135,
   "metadata": {},
   "outputs": [],
   "source": [
    "dataset.fit_partial(\n",
    "    users=users,\n",
    "    user_features=customers_F\n",
    "    )"
   ]
  },
  {
   "cell_type": "code",
   "execution_count": 136,
   "metadata": {},
   "outputs": [
    {
     "data": {
      "text/html": [
       "<div>\n",
       "<style scoped>\n",
       "    .dataframe tbody tr th:only-of-type {\n",
       "        vertical-align: middle;\n",
       "    }\n",
       "\n",
       "    .dataframe tbody tr th {\n",
       "        vertical-align: top;\n",
       "    }\n",
       "\n",
       "    .dataframe thead th {\n",
       "        text-align: right;\n",
       "    }\n",
       "</style>\n",
       "<table border=\"1\" class=\"dataframe\">\n",
       "  <thead>\n",
       "    <tr style=\"text-align: right;\">\n",
       "      <th></th>\n",
       "      <th>user</th>\n",
       "      <th>gender</th>\n",
       "      <th>age_r</th>\n",
       "      <th>country</th>\n",
       "    </tr>\n",
       "  </thead>\n",
       "  <tbody>\n",
       "    <tr>\n",
       "      <td>0</td>\n",
       "      <td>00000c289a1829a808ac09c00daf10bc3c4e223b</td>\n",
       "      <td>f</td>\n",
       "      <td>1.0</td>\n",
       "      <td>Germany</td>\n",
       "    </tr>\n",
       "    <tr>\n",
       "      <td>1</td>\n",
       "      <td>00001411dc427966b17297bf4d69e7e193135d89</td>\n",
       "      <td>f</td>\n",
       "      <td>0.0</td>\n",
       "      <td>Canada</td>\n",
       "    </tr>\n",
       "    <tr>\n",
       "      <td>2</td>\n",
       "      <td>00004d2ac9316e22dc007ab2243d6fcb239e707d</td>\n",
       "      <td>0</td>\n",
       "      <td>0.0</td>\n",
       "      <td>Germany</td>\n",
       "    </tr>\n",
       "    <tr>\n",
       "      <td>3</td>\n",
       "      <td>000063d3fe1cf2ba248b9e3c3f0334845a27a6bf</td>\n",
       "      <td>m</td>\n",
       "      <td>0.0</td>\n",
       "      <td>Mexico</td>\n",
       "    </tr>\n",
       "    <tr>\n",
       "      <td>4</td>\n",
       "      <td>00007a47085b9aab8af55f52ec8846ac479ac4fe</td>\n",
       "      <td>m</td>\n",
       "      <td>3.0</td>\n",
       "      <td>United States</td>\n",
       "    </tr>\n",
       "    <tr>\n",
       "      <td>...</td>\n",
       "      <td>...</td>\n",
       "      <td>...</td>\n",
       "      <td>...</td>\n",
       "      <td>...</td>\n",
       "    </tr>\n",
       "    <tr>\n",
       "      <td>359342</td>\n",
       "      <td>fffe7823f67b433b45f22056467db921c1d3d7d0</td>\n",
       "      <td>m</td>\n",
       "      <td>2.0</td>\n",
       "      <td>Germany</td>\n",
       "    </tr>\n",
       "    <tr>\n",
       "      <td>359343</td>\n",
       "      <td>fffe8637bd8234309e871409c7ebef99a720afc1</td>\n",
       "      <td>m</td>\n",
       "      <td>2.0</td>\n",
       "      <td>Brazil</td>\n",
       "    </tr>\n",
       "    <tr>\n",
       "      <td>359344</td>\n",
       "      <td>fffe8c7f952d9b960a56ed4dcb40a415d924b224</td>\n",
       "      <td>m</td>\n",
       "      <td>1.0</td>\n",
       "      <td>United States</td>\n",
       "    </tr>\n",
       "    <tr>\n",
       "      <td>359345</td>\n",
       "      <td>ffff9af9ae04d263dae91cb838b1f3a6725f5ffb</td>\n",
       "      <td>m</td>\n",
       "      <td>1.0</td>\n",
       "      <td>Russian Federation</td>\n",
       "    </tr>\n",
       "    <tr>\n",
       "      <td>359346</td>\n",
       "      <td>ffff9ef87a7d9494ada2f9ade4b9ff637c0759ac</td>\n",
       "      <td>m</td>\n",
       "      <td>1.0</td>\n",
       "      <td>Belgium</td>\n",
       "    </tr>\n",
       "  </tbody>\n",
       "</table>\n",
       "<p>359347 rows × 4 columns</p>\n",
       "</div>"
      ],
      "text/plain": [
       "                                            user gender  age_r  \\\n",
       "0       00000c289a1829a808ac09c00daf10bc3c4e223b      f    1.0   \n",
       "1       00001411dc427966b17297bf4d69e7e193135d89      f    0.0   \n",
       "2       00004d2ac9316e22dc007ab2243d6fcb239e707d      0    0.0   \n",
       "3       000063d3fe1cf2ba248b9e3c3f0334845a27a6bf      m    0.0   \n",
       "4       00007a47085b9aab8af55f52ec8846ac479ac4fe      m    3.0   \n",
       "...                                          ...    ...    ...   \n",
       "359342  fffe7823f67b433b45f22056467db921c1d3d7d0      m    2.0   \n",
       "359343  fffe8637bd8234309e871409c7ebef99a720afc1      m    2.0   \n",
       "359344  fffe8c7f952d9b960a56ed4dcb40a415d924b224      m    1.0   \n",
       "359345  ffff9af9ae04d263dae91cb838b1f3a6725f5ffb      m    1.0   \n",
       "359346  ffff9ef87a7d9494ada2f9ade4b9ff637c0759ac      m    1.0   \n",
       "\n",
       "                   country  \n",
       "0                  Germany  \n",
       "1                   Canada  \n",
       "2                  Germany  \n",
       "3                   Mexico  \n",
       "4            United States  \n",
       "...                    ...  \n",
       "359342             Germany  \n",
       "359343              Brazil  \n",
       "359344       United States  \n",
       "359345  Russian Federation  \n",
       "359346             Belgium  \n",
       "\n",
       "[359347 rows x 4 columns]"
      ]
     },
     "execution_count": 136,
     "metadata": {},
     "output_type": "execute_result"
    }
   ],
   "source": [
    "customer_Features"
   ]
  },
  {
   "cell_type": "code",
   "execution_count": 137,
   "metadata": {},
   "outputs": [],
   "source": [
    "user_features = dataset.build_user_features(\n",
    "    ((x[1], (x[2],x[3],x[4]))\n",
    "   for x in Usuarios2.to_numpy())\n",
    "   )"
   ]
  },
  {
   "cell_type": "code",
   "execution_count": 138,
   "metadata": {},
   "outputs": [],
   "source": [
    "train, test, users_V = split_base(interactions_sparse_matrix.tocsr(), pct_val = 0.2)"
   ]
  },
  {
   "cell_type": "code",
   "execution_count": 139,
   "metadata": {},
   "outputs": [
    {
     "data": {
      "text/plain": [
       "<341425x35443 sparse matrix of type '<class 'numpy.int32'>'\n",
       "\twith 16079298 stored elements in COOrdinate format>"
      ]
     },
     "execution_count": 139,
     "metadata": {},
     "output_type": "execute_result"
    }
   ],
   "source": [
    "interactions_sparse_matrix"
   ]
  },
  {
   "cell_type": "code",
   "execution_count": 140,
   "metadata": {},
   "outputs": [],
   "source": [
    "no_comp, lr, ep = 20, 0.01, 20\n",
    "model = LightFM(no_components=no_comp, learning_rate=lr, loss='warp')"
   ]
  },
  {
   "cell_type": "code",
   "execution_count": 141,
   "metadata": {},
   "outputs": [
    {
     "name": "stderr",
     "output_type": "stream",
     "text": [
      "Epoch: 100%|██████████| 20/20 [46:45<00:00, 140.27s/it]\n"
     ]
    },
    {
     "data": {
      "text/plain": [
       "<lightfm.lightfm.LightFM at 0x1ccd7664f08>"
      ]
     },
     "execution_count": 141,
     "metadata": {},
     "output_type": "execute_result"
    }
   ],
   "source": [
    "model.fit_partial(\n",
    "        train,\n",
    "        user_features=user_features,\n",
    "        epochs=ep,\n",
    "        num_threads=4,\n",
    "        verbose=True)"
   ]
  },
  {
   "cell_type": "code",
   "execution_count": 87,
   "metadata": {},
   "outputs": [],
   "source": [
    "from lightfm.evaluation import precision_at_k"
   ]
  },
  {
   "cell_type": "code",
   "execution_count": 143,
   "metadata": {},
   "outputs": [
    {
     "name": "stdout",
     "output_type": "stream",
     "text": [
      "Train precision: 0.14\n"
     ]
    }
   ],
   "source": [
    "print(\"Train precision: %.2f\" % precision_at_k(model, train,user_features=user_features, k=10).mean())"
   ]
  },
  {
   "cell_type": "code",
   "execution_count": 144,
   "metadata": {},
   "outputs": [
    {
     "name": "stdout",
     "output_type": "stream",
     "text": [
      "Test precision: 0.18\n"
     ]
    }
   ],
   "source": [
    "print(\"Test precision: %.2f\" % precision_at_k(model, test,user_features=user_features, k=10).mean())"
   ]
  },
  {
   "cell_type": "code",
   "execution_count": 88,
   "metadata": {},
   "outputs": [],
   "source": [
    "from lightfm.evaluation import auc_score"
   ]
  },
  {
   "cell_type": "code",
   "execution_count": 146,
   "metadata": {},
   "outputs": [],
   "source": [
    "train_auc = auc_score(model, train,user_features=user_features).mean()\n",
    "test_auc = auc_score(model, test,user_features=user_features).mean()"
   ]
  },
  {
   "cell_type": "code",
   "execution_count": 147,
   "metadata": {},
   "outputs": [
    {
     "data": {
      "text/plain": [
       "0.9170196"
      ]
     },
     "execution_count": 147,
     "metadata": {},
     "output_type": "execute_result"
    }
   ],
   "source": [
    "train_auc #0.9332487 -> 0.94575834"
   ]
  },
  {
   "cell_type": "code",
   "execution_count": 148,
   "metadata": {},
   "outputs": [
    {
     "data": {
      "text/plain": [
       "0.9166661"
      ]
     },
     "execution_count": 148,
     "metadata": {},
     "output_type": "execute_result"
    }
   ],
   "source": [
    "test_auc"
   ]
  },
  {
   "cell_type": "markdown",
   "metadata": {},
   "source": [
    "-----"
   ]
  },
  {
   "cell_type": "markdown",
   "metadata": {},
   "source": [
    "#### SR híbrido con datos filtrados"
   ]
  },
  {
   "cell_type": "code",
   "execution_count": 140,
   "metadata": {},
   "outputs": [],
   "source": [
    "data = data_todo[['user', 'artist', 'plays']].drop_duplicates()\n",
    "dataP = data_todo[['user', 'gender', 'age', 'country']].drop_duplicates()"
   ]
  },
  {
   "cell_type": "code",
   "execution_count": 141,
   "metadata": {},
   "outputs": [],
   "source": [
    "data['user'] = data['user'].astype(\"category\")\n",
    "data['artist'] = data['artist'].astype(\"category\")"
   ]
  },
  {
   "cell_type": "markdown",
   "metadata": {},
   "source": [
    "-----"
   ]
  },
  {
   "cell_type": "code",
   "execution_count": 142,
   "metadata": {},
   "outputs": [],
   "source": [
    "pre_master = data\n",
    "pre_master[\"user_id\"] = pre_master.user.cat.codes\n",
    "pre_master[\"artist_id\"] = pre_master.artist.cat.codes\n",
    "pre_master.dropna(inplace=True)"
   ]
  },
  {
   "cell_type": "code",
   "execution_count": 143,
   "metadata": {},
   "outputs": [],
   "source": [
    "users_tab = pd.pivot_table(pre_master, index=\"user_id\",  values=[\"plays\", \"artist\"], aggfunc=[\"count\", np.sum]).reset_index()\n",
    "tab_users = pd.DataFrame()\n",
    "tab_users[\"user_id\"] = users_tab[\"user_id\"]\n",
    "tab_users[\"q_interactions\"] = users_tab[\"count\"][\"artist\"]\n",
    "tab_users[\"q_plays\"] = users_tab[\"sum\"][\"plays\"]"
   ]
  },
  {
   "cell_type": "code",
   "execution_count": 144,
   "metadata": {},
   "outputs": [
    {
     "name": "stdout",
     "output_type": "stream",
     "text": [
      "Existen 281323 usuarios únicos\n"
     ]
    }
   ],
   "source": [
    "print(f\"Existen {users_tab.shape[0]} usuarios únicos\")"
   ]
  },
  {
   "cell_type": "code",
   "execution_count": 145,
   "metadata": {},
   "outputs": [],
   "source": [
    "artists_tab = pd.pivot_table(pre_master, index=\"artist_id\",  values=[\"plays\", \"user_id\"], aggfunc=[\"count\", np.sum]).reset_index()\n",
    "tab_artists = pd.DataFrame()\n",
    "tab_artists[\"artist_id\"] = artists_tab[\"artist_id\"]\n",
    "tab_artists[\"q_interactions\"] = artists_tab[\"count\"][\"user_id\"]\n",
    "tab_artists[\"q_plays\"] = artists_tab[\"sum\"][\"plays\"]"
   ]
  },
  {
   "cell_type": "code",
   "execution_count": 146,
   "metadata": {},
   "outputs": [
    {
     "data": {
      "text/plain": [
       "array([    20,     37,     45, ..., 292268, 292299, 292318], dtype=int64)"
      ]
     },
     "execution_count": 146,
     "metadata": {},
     "output_type": "execute_result"
    }
   ],
   "source": [
    "tab_artists[tab_artists.q_interactions > 10][\"artist_id\"].values"
   ]
  },
  {
   "cell_type": "code",
   "execution_count": 147,
   "metadata": {},
   "outputs": [],
   "source": [
    "master = pre_master[[\"user_id\", \"artist_id\", \"plays\"]]"
   ]
  },
  {
   "cell_type": "code",
   "execution_count": 148,
   "metadata": {},
   "outputs": [],
   "source": [
    "master = master[master.user_id.isin(list(tab_users[tab_users.q_interactions > 35][\"user_id\"].values))]\n",
    "master = master[master.artist_id.isin(list(tab_artists[tab_artists.q_interactions > 30][\"artist_id\"].values))]"
   ]
  },
  {
   "cell_type": "code",
   "execution_count": 149,
   "metadata": {},
   "outputs": [],
   "source": [
    "master = pd.pivot_table(master, index = [\"user_id\", \"artist_id\"], values=\"plays\" , aggfunc=np.sum)\n",
    "master = master.reset_index()"
   ]
  },
  {
   "cell_type": "code",
   "execution_count": 150,
   "metadata": {},
   "outputs": [
    {
     "name": "stderr",
     "output_type": "stream",
     "text": [
      "\"ls\" no se reconoce como un comando interno o externo,\n",
      "programa o archivo por lotes ejecutable.\n"
     ]
    }
   ],
   "source": [
    "!ls"
   ]
  },
  {
   "cell_type": "code",
   "execution_count": 151,
   "metadata": {},
   "outputs": [],
   "source": [
    "#export master data\n",
    "import pickle\n",
    "filehandler = open(\"./master.data\", \"wb\")\n",
    "pickle.dump(master, filehandler)"
   ]
  },
  {
   "cell_type": "code",
   "execution_count": 152,
   "metadata": {},
   "outputs": [],
   "source": [
    "#export artists data\n",
    "artists_handler = open(\"./artists.data\", \"wb\")\n",
    "pickle.dump(tab_artists, artists_handler)\n",
    "\n",
    "#export users data\n",
    "users_handler = open(\"./users.data\", \"wb\")\n",
    "pickle.dump(tab_users, users_handler)"
   ]
  },
  {
   "cell_type": "code",
   "execution_count": 153,
   "metadata": {},
   "outputs": [],
   "source": [
    "#export conversion data\n",
    "pre_master_handler = open(\"./premaster.data\", \"wb\")\n",
    "pickle.dump(pre_master, pre_master_handler)"
   ]
  },
  {
   "cell_type": "code",
   "execution_count": 154,
   "metadata": {},
   "outputs": [],
   "source": [
    "#import master data\n",
    "filename = \"./master.data\"\n",
    "filehandler = open(filename, 'rb') \n",
    "master_loaded = pickle.load(filehandler)"
   ]
  },
  {
   "cell_type": "code",
   "execution_count": 155,
   "metadata": {},
   "outputs": [
    {
     "data": {
      "text/plain": [
       "(12530443, 3)"
      ]
     },
     "execution_count": 155,
     "metadata": {},
     "output_type": "execute_result"
    }
   ],
   "source": [
    "master_dense = master_loaded\n",
    "master_dense.shape"
   ]
  },
  {
   "cell_type": "code",
   "execution_count": 156,
   "metadata": {},
   "outputs": [],
   "source": [
    "users = list(np.sort(master_dense.user_id.unique())) \n",
    "artists = list(master_dense.artist_id.unique()) \n",
    "interaction = list(master_dense.plays)\n",
    "\n",
    "# Construimos la matriz\n",
    "rows = master_dense.user_id.astype('category').cat.codes\n",
    "cols = master_dense.artist_id.astype('category').cat.codes\n",
    "prefs_sparse = sparse.csr_matrix((interaction, (rows, cols)), shape=(len(users), len(artists)))"
   ]
  },
  {
   "cell_type": "code",
   "execution_count": 157,
   "metadata": {},
   "outputs": [
    {
     "data": {
      "text/plain": [
       "<268331x30067 sparse matrix of type '<class 'numpy.int32'>'\n",
       "\twith 12530443 stored elements in Compressed Sparse Row format>"
      ]
     },
     "execution_count": 157,
     "metadata": {},
     "output_type": "execute_result"
    }
   ],
   "source": [
    "prefs_sparse"
   ]
  },
  {
   "cell_type": "code",
   "execution_count": 65,
   "metadata": {},
   "outputs": [],
   "source": [
    "dataP['age_r'] = pd.qcut(dataP['age'], 5, labels=False)"
   ]
  },
  {
   "cell_type": "code",
   "execution_count": 66,
   "metadata": {},
   "outputs": [
    {
     "data": {
      "text/html": [
       "<div>\n",
       "<style scoped>\n",
       "    .dataframe tbody tr th:only-of-type {\n",
       "        vertical-align: middle;\n",
       "    }\n",
       "\n",
       "    .dataframe tbody tr th {\n",
       "        vertical-align: top;\n",
       "    }\n",
       "\n",
       "    .dataframe thead tr th {\n",
       "        text-align: left;\n",
       "    }\n",
       "\n",
       "    .dataframe thead tr:last-of-type th {\n",
       "        text-align: right;\n",
       "    }\n",
       "</style>\n",
       "<table border=\"1\" class=\"dataframe\">\n",
       "  <thead>\n",
       "    <tr>\n",
       "      <th></th>\n",
       "      <th colspan=\"4\" halign=\"left\">age</th>\n",
       "    </tr>\n",
       "    <tr>\n",
       "      <th></th>\n",
       "      <th>count</th>\n",
       "      <th>mean</th>\n",
       "      <th>min</th>\n",
       "      <th>max</th>\n",
       "    </tr>\n",
       "    <tr>\n",
       "      <th>age_r</th>\n",
       "      <th></th>\n",
       "      <th></th>\n",
       "      <th></th>\n",
       "      <th></th>\n",
       "    </tr>\n",
       "  </thead>\n",
       "  <tbody>\n",
       "    <tr>\n",
       "      <td>0</td>\n",
       "      <td>59573</td>\n",
       "      <td>17.787236</td>\n",
       "      <td>10.0</td>\n",
       "      <td>19.0</td>\n",
       "    </tr>\n",
       "    <tr>\n",
       "      <td>1</td>\n",
       "      <td>70152</td>\n",
       "      <td>20.973771</td>\n",
       "      <td>20.0</td>\n",
       "      <td>22.0</td>\n",
       "    </tr>\n",
       "    <tr>\n",
       "      <td>2</td>\n",
       "      <td>52760</td>\n",
       "      <td>23.914310</td>\n",
       "      <td>23.0</td>\n",
       "      <td>25.0</td>\n",
       "    </tr>\n",
       "    <tr>\n",
       "      <td>3</td>\n",
       "      <td>43187</td>\n",
       "      <td>27.327853</td>\n",
       "      <td>26.0</td>\n",
       "      <td>29.0</td>\n",
       "    </tr>\n",
       "    <tr>\n",
       "      <td>4</td>\n",
       "      <td>55651</td>\n",
       "      <td>37.123664</td>\n",
       "      <td>30.0</td>\n",
       "      <td>80.0</td>\n",
       "    </tr>\n",
       "  </tbody>\n",
       "</table>\n",
       "</div>"
      ],
      "text/plain": [
       "         age                       \n",
       "       count       mean   min   max\n",
       "age_r                              \n",
       "0      59573  17.787236  10.0  19.0\n",
       "1      70152  20.973771  20.0  22.0\n",
       "2      52760  23.914310  23.0  25.0\n",
       "3      43187  27.327853  26.0  29.0\n",
       "4      55651  37.123664  30.0  80.0"
      ]
     },
     "execution_count": 66,
     "metadata": {},
     "output_type": "execute_result"
    }
   ],
   "source": [
    "dataP.groupby('age_r').agg({'age': ['count','mean', 'min', 'max']})"
   ]
  },
  {
   "cell_type": "code",
   "execution_count": 69,
   "metadata": {},
   "outputs": [],
   "source": [
    "dataset = Dataset()"
   ]
  },
  {
   "cell_type": "code",
   "execution_count": 70,
   "metadata": {},
   "outputs": [
    {
     "data": {
      "text/plain": [
       "'00000c289a1829a808ac09c00daf10bc3c4e223b'"
      ]
     },
     "execution_count": 70,
     "metadata": {},
     "output_type": "execute_result"
    }
   ],
   "source": [
    "dataP.to_numpy()[0][0]"
   ]
  },
  {
   "cell_type": "code",
   "execution_count": 71,
   "metadata": {},
   "outputs": [],
   "source": [
    "dataset.fit(users=users,\n",
    "            items=artists,\n",
    "           )"
   ]
  },
  {
   "cell_type": "code",
   "execution_count": 72,
   "metadata": {},
   "outputs": [
    {
     "data": {
      "text/plain": [
       "(268331, 30067)"
      ]
     },
     "execution_count": 72,
     "metadata": {},
     "output_type": "execute_result"
    }
   ],
   "source": [
    "num_users, num_items = dataset.interactions_shape()\n",
    "num_users, num_items"
   ]
  },
  {
   "cell_type": "code",
   "execution_count": 73,
   "metadata": {},
   "outputs": [],
   "source": [
    "(interactions_sparse_matrix, weights) = dataset.build_interactions(\n",
    "        (\n",
    "            (\n",
    "                row[0]\n",
    "                ,row[1]\n",
    "                ,row[2]\n",
    "            )\n",
    "        )\n",
    "        for row in master_dense.to_numpy()\n",
    "    )"
   ]
  },
  {
   "cell_type": "code",
   "execution_count": 74,
   "metadata": {},
   "outputs": [],
   "source": [
    "customer_Features = dataP[['user','gender','age_r','country']].drop_duplicates().fillna(0)\n",
    "customer_Features=customer_Features[(customer_Features.groupby(['user']).cumcount() == 0)]"
   ]
  },
  {
   "cell_type": "code",
   "execution_count": 75,
   "metadata": {},
   "outputs": [],
   "source": [
    "customer_Features.fillna('NA', inplace=True)"
   ]
  },
  {
   "cell_type": "code",
   "execution_count": 76,
   "metadata": {},
   "outputs": [
    {
     "data": {
      "text/html": [
       "<div>\n",
       "<style scoped>\n",
       "    .dataframe tbody tr th:only-of-type {\n",
       "        vertical-align: middle;\n",
       "    }\n",
       "\n",
       "    .dataframe tbody tr th {\n",
       "        vertical-align: top;\n",
       "    }\n",
       "\n",
       "    .dataframe thead th {\n",
       "        text-align: right;\n",
       "    }\n",
       "</style>\n",
       "<table border=\"1\" class=\"dataframe\">\n",
       "  <thead>\n",
       "    <tr style=\"text-align: right;\">\n",
       "      <th></th>\n",
       "      <th>user</th>\n",
       "      <th>gender</th>\n",
       "      <th>age_r</th>\n",
       "      <th>country</th>\n",
       "    </tr>\n",
       "  </thead>\n",
       "  <tbody>\n",
       "  </tbody>\n",
       "</table>\n",
       "</div>"
      ],
      "text/plain": [
       "Empty DataFrame\n",
       "Columns: [user, gender, age_r, country]\n",
       "Index: []"
      ]
     },
     "execution_count": 76,
     "metadata": {},
     "output_type": "execute_result"
    }
   ],
   "source": [
    "customer_Features[customer_Features['country']==0]"
   ]
  },
  {
   "cell_type": "code",
   "execution_count": 77,
   "metadata": {},
   "outputs": [],
   "source": [
    "C_age = customer_Features[['age_r']].drop_duplicates()\n",
    "C_genero = customer_Features[['gender']].drop_duplicates()\n",
    "C_country = customer_Features[['country']].drop_duplicates()\n"
   ]
  },
  {
   "cell_type": "code",
   "execution_count": 78,
   "metadata": {},
   "outputs": [
    {
     "data": {
      "text/html": [
       "<div>\n",
       "<style scoped>\n",
       "    .dataframe tbody tr th:only-of-type {\n",
       "        vertical-align: middle;\n",
       "    }\n",
       "\n",
       "    .dataframe tbody tr th {\n",
       "        vertical-align: top;\n",
       "    }\n",
       "\n",
       "    .dataframe thead th {\n",
       "        text-align: right;\n",
       "    }\n",
       "</style>\n",
       "<table border=\"1\" class=\"dataframe\">\n",
       "  <thead>\n",
       "    <tr style=\"text-align: right;\">\n",
       "      <th></th>\n",
       "      <th>country</th>\n",
       "    </tr>\n",
       "  </thead>\n",
       "  <tbody>\n",
       "  </tbody>\n",
       "</table>\n",
       "</div>"
      ],
      "text/plain": [
       "Empty DataFrame\n",
       "Columns: [country]\n",
       "Index: []"
      ]
     },
     "execution_count": 78,
     "metadata": {},
     "output_type": "execute_result"
    }
   ],
   "source": [
    "C_country[C_country['country']=='NA']"
   ]
  },
  {
   "cell_type": "code",
   "execution_count": 79,
   "metadata": {},
   "outputs": [],
   "source": [
    "C_age2 = C_age.to_numpy().reshape(len(C_age.to_numpy()))\n",
    "C_genero2 = C_genero.to_numpy().reshape(len(C_genero.to_numpy()))\n",
    "C_country2 = C_country.to_numpy().reshape(len(C_country.to_numpy()))\n",
    "customers_F = list(C_age2) + list(C_genero2) +  list(C_country2) + ['NA']"
   ]
  },
  {
   "cell_type": "code",
   "execution_count": 80,
   "metadata": {},
   "outputs": [],
   "source": [
    "Usuarios = pre_master[['user','user_id']].drop_duplicates()\n",
    "Usuarios2 = Usuarios.merge(customer_Features, how='left', left_on='user', right_on='user', copy=True).drop_duplicates()"
   ]
  },
  {
   "cell_type": "code",
   "execution_count": 81,
   "metadata": {},
   "outputs": [
    {
     "data": {
      "text/plain": [
       "array([['00000c289a1829a808ac09c00daf10bc3c4e223b', 0, 'f', 1, 'Germany'],\n",
       "       ['000063d3fe1cf2ba248b9e3c3f0334845a27a6bf', 1, 'm', 0, 'Mexico'],\n",
       "       ['00007a47085b9aab8af55f52ec8846ac479ac4fe', 2, 'm', 3,\n",
       "        'United States'],\n",
       "       ...,\n",
       "       ['fffe8c7f952d9b960a56ed4dcb40a415d924b224', 281320, 'm', 1,\n",
       "        'United States'],\n",
       "       ['ffff9af9ae04d263dae91cb838b1f3a6725f5ffb', 281321, 'm', 1,\n",
       "        'Russian Federation'],\n",
       "       ['ffff9ef87a7d9494ada2f9ade4b9ff637c0759ac', 281322, 'm', 1,\n",
       "        'Belgium']], dtype=object)"
      ]
     },
     "execution_count": 81,
     "metadata": {},
     "output_type": "execute_result"
    }
   ],
   "source": [
    "Usuarios2.fillna('NA', inplace=True)\n",
    "Usuarios2.to_numpy()"
   ]
  },
  {
   "cell_type": "code",
   "execution_count": 82,
   "metadata": {},
   "outputs": [],
   "source": [
    "users = list(np.sort(Usuarios2.user_id.unique())) "
   ]
  },
  {
   "cell_type": "code",
   "execution_count": 83,
   "metadata": {},
   "outputs": [],
   "source": [
    "dataset.fit_partial(\n",
    "    users=users,\n",
    "    user_features=customers_F\n",
    "    )"
   ]
  },
  {
   "cell_type": "code",
   "execution_count": 84,
   "metadata": {},
   "outputs": [],
   "source": [
    "user_features = dataset.build_user_features(\n",
    "    ((x[1], (x[2],x[3],x[4]))\n",
    "   for x in Usuarios2.to_numpy())\n",
    "   )"
   ]
  },
  {
   "cell_type": "code",
   "execution_count": 85,
   "metadata": {},
   "outputs": [],
   "source": [
    "train, test, users_V = split_base(interactions_sparse_matrix.tocsr(), pct_val = 0.2)"
   ]
  },
  {
   "cell_type": "code",
   "execution_count": 86,
   "metadata": {},
   "outputs": [
    {
     "data": {
      "text/plain": [
       "<268331x30067 sparse matrix of type '<class 'numpy.int32'>'\n",
       "\twith 12530443 stored elements in COOrdinate format>"
      ]
     },
     "execution_count": 86,
     "metadata": {},
     "output_type": "execute_result"
    }
   ],
   "source": [
    "interactions_sparse_matrix"
   ]
  },
  {
   "cell_type": "code",
   "execution_count": 89,
   "metadata": {},
   "outputs": [],
   "source": [
    "no_comp, lr, ep = 20, 0.01, 20\n",
    "model = LightFM(no_components=no_comp, learning_rate=lr, loss='warp')"
   ]
  },
  {
   "cell_type": "code",
   "execution_count": 90,
   "metadata": {},
   "outputs": [
    {
     "name": "stderr",
     "output_type": "stream",
     "text": [
      "Epoch: 100%|██████████| 20/20 [40:06<00:00, 120.33s/it]\n"
     ]
    },
    {
     "data": {
      "text/plain": [
       "<lightfm.lightfm.LightFM at 0x1ed66ecc548>"
      ]
     },
     "execution_count": 90,
     "metadata": {},
     "output_type": "execute_result"
    }
   ],
   "source": [
    "model.fit_partial(\n",
    "        train,\n",
    "        user_features=user_features,\n",
    "        epochs=ep,\n",
    "        num_threads=4,\n",
    "        verbose=True)"
   ]
  },
  {
   "cell_type": "code",
   "execution_count": 91,
   "metadata": {},
   "outputs": [
    {
     "name": "stdout",
     "output_type": "stream",
     "text": [
      "Train precision: 0.15\n"
     ]
    }
   ],
   "source": [
    "print(\"Train precision: %.2f\" % precision_at_k(model, train,user_features=user_features, k=10).mean())"
   ]
  },
  {
   "cell_type": "code",
   "execution_count": 92,
   "metadata": {},
   "outputs": [
    {
     "name": "stdout",
     "output_type": "stream",
     "text": [
      "Test precision: 0.19\n"
     ]
    }
   ],
   "source": [
    "print(\"Test precision: %.2f\" % precision_at_k(model, test,user_features=user_features, k=10).mean())"
   ]
  },
  {
   "cell_type": "code",
   "execution_count": 93,
   "metadata": {},
   "outputs": [],
   "source": [
    "train_auc = auc_score(model, train,user_features=user_features).mean()\n",
    "test_auc = auc_score(model, test,user_features=user_features).mean()"
   ]
  },
  {
   "cell_type": "code",
   "execution_count": 94,
   "metadata": {},
   "outputs": [
    {
     "data": {
      "text/plain": [
       "0.921785"
      ]
     },
     "execution_count": 94,
     "metadata": {},
     "output_type": "execute_result"
    }
   ],
   "source": [
    "train_auc"
   ]
  },
  {
   "cell_type": "code",
   "execution_count": 95,
   "metadata": {},
   "outputs": [
    {
     "data": {
      "text/plain": [
       "0.9213889"
      ]
     },
     "execution_count": 95,
     "metadata": {},
     "output_type": "execute_result"
    }
   ],
   "source": [
    "test_auc"
   ]
  },
  {
   "cell_type": "markdown",
   "metadata": {},
   "source": [
    "-----"
   ]
  },
  {
   "cell_type": "code",
   "execution_count": 151,
   "metadata": {},
   "outputs": [
    {
     "data": {
      "text/plain": [
       "array([['00000c289a1829a808ac09c00daf10bc3c4e223b', 0, 'f', 1, 'Germany'],\n",
       "       ['000063d3fe1cf2ba248b9e3c3f0334845a27a6bf', 3, 'm', 0, 'Mexico'],\n",
       "       ['00007a47085b9aab8af55f52ec8846ac479ac4fe', 4, 'm', 3,\n",
       "        'United States'],\n",
       "       ...,\n",
       "       ['fffe8c7f952d9b960a56ed4dcb40a415d924b224', 358864, 'm', 1,\n",
       "        'United States'],\n",
       "       ['ffff9af9ae04d263dae91cb838b1f3a6725f5ffb', 358865, 'm', 1,\n",
       "        'Russian Federation'],\n",
       "       ['ffff9ef87a7d9494ada2f9ade4b9ff637c0759ac', 358866, 'm', 1,\n",
       "        'Belgium']], dtype=object)"
      ]
     },
     "execution_count": 151,
     "metadata": {},
     "output_type": "execute_result"
    }
   ],
   "source": [
    "Usuarios2 = Usuarios.merge(customer_Features, how='inner', left_on='user', right_on='user', copy=True).drop_duplicates()\n",
    "Usuarios2.fillna('NA', inplace=True)\n",
    "Usuarios2.to_numpy()"
   ]
  },
  {
   "cell_type": "markdown",
   "metadata": {},
   "source": [
    "Se encuentra luego, que el mejor modelo es el Híbrido con filrado, con un AUC de 0.9217 en el set de entrenamiento y de 0.9213 en el set de validación"
   ]
  },
  {
   "cell_type": "markdown",
   "metadata": {},
   "source": [
    "## Estimación del impacto del SR híbrido\n",
    "\n",
    "Se realizará una estimación sobre el potencial impacto que podría tener el sistema de recomendación híbrido para el ingreso de los artistas por reproducciones. Bajo los supuestos que se mencionan en el documento se encontró:"
   ]
  },
  {
   "cell_type": "code",
   "execution_count": 151,
   "metadata": {},
   "outputs": [],
   "source": [
    "def top_k_recomendaciones(user_id, interactions, user_dict,item_dict, nrec_items=10 ):\n",
    "    n_users, n_items = interactions.shape\n",
    "    user_x = user_dict[user_id]\n",
    "    scores = pd.Series(model.predict(user_x,np.arange(n_items), user_features=user_features))\n",
    "    scores.index = item_id_map\n",
    "    scores = list(pd.Series(scores.sort_values(ascending=False).index))\n",
    "    known_items = list(pd.Series(np.squeeze(np.asarray(interactions.tocsr()[user_x].todense())))==1)\n",
    "    known_items\n",
    "    k_items = pd.DataFrame([*item_id_map])[known_items][0].tolist()\n",
    "\n",
    "\n",
    "    scores = [x for x in scores if x not in k_items]\n",
    "    return_score_list = scores[0:nrec_items]\n",
    "    \"\"\"\n",
    "    print(\"\\n Usuario:\" + str(user_id))\n",
    "    print(\"\\n Artistas escuchados:\")\n",
    "    counter = 1\n",
    "    for i in k_items:\n",
    "        print(str(counter) + '- ' + str(i))\n",
    "        counter+=1\n",
    "    \n",
    "    print(\"\\n Artistas Recomendados:\")\n",
    "    counter = 1\n",
    "    for i in return_score_list:\n",
    "        print(str(counter) + '- ' + str(i))\n",
    "        counter+=1\n",
    "    \"\"\"\n",
    "    return k_items, return_score_list\n",
    "    "
   ]
  },
  {
   "cell_type": "code",
   "execution_count": 152,
   "metadata": {},
   "outputs": [],
   "source": [
    "user_id_map, user_feature_map, item_id_map, item_feature_map = dataset.mapping()\n",
    "#user_feature_map\n",
    "#item_feature_map"
   ]
  },
  {
   "cell_type": "code",
   "execution_count": null,
   "metadata": {},
   "outputs": [],
   "source": [
    "Usuario = []\n",
    "Recomendacion = []\n",
    "for i in user_id_map.keys():\n",
    "    print(i)\n",
    "    Escuchados, Recomendation = top_k_recomendaciones(i,interactions_sparse_matrix,user_id_map,item_id_map,10)\n",
    "    Usuario.append([i]*10)\n",
    "    Recomendacion.append(Recomendation)"
   ]
  },
  {
   "cell_type": "code",
   "execution_count": 161,
   "metadata": {},
   "outputs": [],
   "source": [
    "Resumen_Recom = pd.DataFrame({'Usuarios':np.array(Usuario).reshape(414010),'Recomendacion':np.array(Recomendacion).reshape(414010)})"
   ]
  },
  {
   "cell_type": "code",
   "execution_count": 162,
   "metadata": {},
   "outputs": [
    {
     "data": {
      "text/html": [
       "<div>\n",
       "<style scoped>\n",
       "    .dataframe tbody tr th:only-of-type {\n",
       "        vertical-align: middle;\n",
       "    }\n",
       "\n",
       "    .dataframe tbody tr th {\n",
       "        vertical-align: top;\n",
       "    }\n",
       "\n",
       "    .dataframe thead th {\n",
       "        text-align: right;\n",
       "    }\n",
       "</style>\n",
       "<table border=\"1\" class=\"dataframe\">\n",
       "  <thead>\n",
       "    <tr style=\"text-align: right;\">\n",
       "      <th></th>\n",
       "      <th>Usuarios</th>\n",
       "      <th>Recomendacion</th>\n",
       "    </tr>\n",
       "  </thead>\n",
       "  <tbody>\n",
       "    <tr>\n",
       "      <th>0</th>\n",
       "      <td>0</td>\n",
       "      <td>73856</td>\n",
       "    </tr>\n",
       "    <tr>\n",
       "      <th>1</th>\n",
       "      <td>0</td>\n",
       "      <td>258344</td>\n",
       "    </tr>\n",
       "    <tr>\n",
       "      <th>2</th>\n",
       "      <td>0</td>\n",
       "      <td>171169</td>\n",
       "    </tr>\n",
       "    <tr>\n",
       "      <th>3</th>\n",
       "      <td>0</td>\n",
       "      <td>252494</td>\n",
       "    </tr>\n",
       "    <tr>\n",
       "      <th>4</th>\n",
       "      <td>0</td>\n",
       "      <td>194163</td>\n",
       "    </tr>\n",
       "    <tr>\n",
       "      <th>...</th>\n",
       "      <td>...</td>\n",
       "      <td>...</td>\n",
       "    </tr>\n",
       "    <tr>\n",
       "      <th>414005</th>\n",
       "      <td>43506</td>\n",
       "      <td>190785</td>\n",
       "    </tr>\n",
       "    <tr>\n",
       "      <th>414006</th>\n",
       "      <td>43506</td>\n",
       "      <td>73856</td>\n",
       "    </tr>\n",
       "    <tr>\n",
       "      <th>414007</th>\n",
       "      <td>43506</td>\n",
       "      <td>54953</td>\n",
       "    </tr>\n",
       "    <tr>\n",
       "      <th>414008</th>\n",
       "      <td>43506</td>\n",
       "      <td>250324</td>\n",
       "    </tr>\n",
       "    <tr>\n",
       "      <th>414009</th>\n",
       "      <td>43506</td>\n",
       "      <td>56294</td>\n",
       "    </tr>\n",
       "  </tbody>\n",
       "</table>\n",
       "<p>414010 rows × 2 columns</p>\n",
       "</div>"
      ],
      "text/plain": [
       "        Usuarios  Recomendacion\n",
       "0              0          73856\n",
       "1              0         258344\n",
       "2              0         171169\n",
       "3              0         252494\n",
       "4              0         194163\n",
       "...          ...            ...\n",
       "414005     43506         190785\n",
       "414006     43506          73856\n",
       "414007     43506          54953\n",
       "414008     43506         250324\n",
       "414009     43506          56294\n",
       "\n",
       "[414010 rows x 2 columns]"
      ]
     },
     "execution_count": 162,
     "metadata": {},
     "output_type": "execute_result"
    }
   ],
   "source": [
    "Resumen_Recom"
   ]
  },
  {
   "cell_type": "code",
   "execution_count": 163,
   "metadata": {},
   "outputs": [],
   "source": [
    "Resumen_Recom_2=Resumen_Recom.merge(dic_artistas, how='left', left_on='Recomendacion', right_on='artist_id', copy=True).drop_duplicates()"
   ]
  },
  {
   "cell_type": "code",
   "execution_count": 187,
   "metadata": {},
   "outputs": [],
   "source": [
    "Resumen_Recom_3=Resumen_Recom_2.groupby('artist').agg('count').reset_index().sort_values(by=['Usuarios'],ascending=False)"
   ]
  },
  {
   "cell_type": "code",
   "execution_count": 190,
   "metadata": {},
   "outputs": [
    {
     "data": {
      "text/html": [
       "<div>\n",
       "<style scoped>\n",
       "    .dataframe tbody tr th:only-of-type {\n",
       "        vertical-align: middle;\n",
       "    }\n",
       "\n",
       "    .dataframe tbody tr th {\n",
       "        vertical-align: top;\n",
       "    }\n",
       "\n",
       "    .dataframe thead th {\n",
       "        text-align: right;\n",
       "    }\n",
       "</style>\n",
       "<table border=\"1\" class=\"dataframe\">\n",
       "  <thead>\n",
       "    <tr style=\"text-align: right;\">\n",
       "      <th></th>\n",
       "      <th>artist</th>\n",
       "      <th>Usuarios</th>\n",
       "      <th>Recomendacion</th>\n",
       "      <th>artist_id</th>\n",
       "    </tr>\n",
       "  </thead>\n",
       "  <tbody>\n",
       "    <tr>\n",
       "      <th>73856</th>\n",
       "      <td>coldplay</td>\n",
       "      <td>30879</td>\n",
       "      <td>30879</td>\n",
       "      <td>30879</td>\n",
       "    </tr>\n",
       "    <tr>\n",
       "      <th>217883</th>\n",
       "      <td>radiohead</td>\n",
       "      <td>26651</td>\n",
       "      <td>26651</td>\n",
       "      <td>26651</td>\n",
       "    </tr>\n",
       "    <tr>\n",
       "      <th>252494</th>\n",
       "      <td>the beatles</td>\n",
       "      <td>26117</td>\n",
       "      <td>26117</td>\n",
       "      <td>26117</td>\n",
       "    </tr>\n",
       "    <tr>\n",
       "      <th>220128</th>\n",
       "      <td>red hot chili peppers</td>\n",
       "      <td>20316</td>\n",
       "      <td>20316</td>\n",
       "      <td>20316</td>\n",
       "    </tr>\n",
       "    <tr>\n",
       "      <th>212496</th>\n",
       "      <td>pink floyd</td>\n",
       "      <td>18971</td>\n",
       "      <td>18971</td>\n",
       "      <td>18971</td>\n",
       "    </tr>\n",
       "    <tr>\n",
       "      <th>186241</th>\n",
       "      <td>metallica</td>\n",
       "      <td>16578</td>\n",
       "      <td>16578</td>\n",
       "      <td>16578</td>\n",
       "    </tr>\n",
       "    <tr>\n",
       "      <th>194163</th>\n",
       "      <td>muse</td>\n",
       "      <td>16181</td>\n",
       "      <td>16181</td>\n",
       "      <td>16181</td>\n",
       "    </tr>\n",
       "    <tr>\n",
       "      <th>247942</th>\n",
       "      <td>system of a down</td>\n",
       "      <td>11687</td>\n",
       "      <td>11687</td>\n",
       "      <td>11687</td>\n",
       "    </tr>\n",
       "    <tr>\n",
       "      <th>171169</th>\n",
       "      <td>linkin park</td>\n",
       "      <td>11213</td>\n",
       "      <td>11213</td>\n",
       "      <td>11213</td>\n",
       "    </tr>\n",
       "    <tr>\n",
       "      <th>258212</th>\n",
       "      <td>the killers</td>\n",
       "      <td>10572</td>\n",
       "      <td>10572</td>\n",
       "      <td>10572</td>\n",
       "    </tr>\n",
       "    <tr>\n",
       "      <th>51691</th>\n",
       "      <td>bob dylan</td>\n",
       "      <td>10090</td>\n",
       "      <td>10090</td>\n",
       "      <td>10090</td>\n",
       "    </tr>\n",
       "    <tr>\n",
       "      <th>199842</th>\n",
       "      <td>nirvana</td>\n",
       "      <td>9047</td>\n",
       "      <td>9047</td>\n",
       "      <td>9047</td>\n",
       "    </tr>\n",
       "    <tr>\n",
       "      <th>88689</th>\n",
       "      <td>depeche mode</td>\n",
       "      <td>7736</td>\n",
       "      <td>7736</td>\n",
       "      <td>7736</td>\n",
       "    </tr>\n",
       "    <tr>\n",
       "      <th>80485</th>\n",
       "      <td>daft punk</td>\n",
       "      <td>7439</td>\n",
       "      <td>7439</td>\n",
       "      <td>7439</td>\n",
       "    </tr>\n",
       "    <tr>\n",
       "      <th>86634</th>\n",
       "      <td>death cab for cutie</td>\n",
       "      <td>7243</td>\n",
       "      <td>7243</td>\n",
       "      <td>7243</td>\n",
       "    </tr>\n",
       "    <tr>\n",
       "      <th>272564</th>\n",
       "      <td>u2</td>\n",
       "      <td>6253</td>\n",
       "      <td>6253</td>\n",
       "      <td>6253</td>\n",
       "    </tr>\n",
       "    <tr>\n",
       "      <th>84213</th>\n",
       "      <td>david bowie</td>\n",
       "      <td>5955</td>\n",
       "      <td>5955</td>\n",
       "      <td>5955</td>\n",
       "    </tr>\n",
       "    <tr>\n",
       "      <th>212967</th>\n",
       "      <td>placebo</td>\n",
       "      <td>5787</td>\n",
       "      <td>5787</td>\n",
       "      <td>5787</td>\n",
       "    </tr>\n",
       "    <tr>\n",
       "      <th>190785</th>\n",
       "      <td>modest mouse</td>\n",
       "      <td>5538</td>\n",
       "      <td>5538</td>\n",
       "      <td>5538</td>\n",
       "    </tr>\n",
       "    <tr>\n",
       "      <th>42611</th>\n",
       "      <td>beck</td>\n",
       "      <td>5486</td>\n",
       "      <td>5486</td>\n",
       "      <td>5486</td>\n",
       "    </tr>\n",
       "  </tbody>\n",
       "</table>\n",
       "</div>"
      ],
      "text/plain": [
       "                       artist  Usuarios  Recomendacion  artist_id\n",
       "73856                coldplay     30879          30879      30879\n",
       "217883              radiohead     26651          26651      26651\n",
       "252494            the beatles     26117          26117      26117\n",
       "220128  red hot chili peppers     20316          20316      20316\n",
       "212496             pink floyd     18971          18971      18971\n",
       "186241              metallica     16578          16578      16578\n",
       "194163                   muse     16181          16181      16181\n",
       "247942       system of a down     11687          11687      11687\n",
       "171169            linkin park     11213          11213      11213\n",
       "258212            the killers     10572          10572      10572\n",
       "51691               bob dylan     10090          10090      10090\n",
       "199842                nirvana      9047           9047       9047\n",
       "88689            depeche mode      7736           7736       7736\n",
       "80485               daft punk      7439           7439       7439\n",
       "86634     death cab for cutie      7243           7243       7243\n",
       "272564                     u2      6253           6253       6253\n",
       "84213             david bowie      5955           5955       5955\n",
       "212967                placebo      5787           5787       5787\n",
       "190785           modest mouse      5538           5538       5538\n",
       "42611                    beck      5486           5486       5486"
      ]
     },
     "execution_count": 190,
     "metadata": {},
     "output_type": "execute_result"
    }
   ],
   "source": [
    "Resumen_Recom_3.head(20)"
   ]
  },
  {
   "cell_type": "code",
   "execution_count": 197,
   "metadata": {},
   "outputs": [],
   "source": [
    "def top_k_recomendaciones(user_id, interactions, user_dict,item_dict, nrec_items=10 ):\n",
    "    n_users, n_items = interactions.shape\n",
    "    user_x = user_dict[user_id]\n",
    "    scores = pd.Series(model.predict(user_x,np.arange(n_items), user_features=user_features))\n",
    "    scores.index = item_id_map\n",
    "    scores = list(pd.Series(scores.sort_values(ascending=False).index))\n",
    "    known_items = list(pd.Series(np.squeeze(np.asarray(interactions.tocsr()[user_x].todense())))==1)\n",
    "    known_items\n",
    "    k_items = pd.DataFrame([*item_id_map])[known_items][0].tolist()\n",
    "\n",
    "\n",
    "    scores = [x for x in scores if x not in k_items]\n",
    "    return_score_list = scores[0:nrec_items]\n",
    "    \n",
    "    k_items = pd.DataFrame({'items':k_items}).merge(dic_artistas, how='left', left_on='items', right_on='artist_id', copy=True).drop_duplicates()\n",
    "    return_score_list = pd.DataFrame({'items':return_score_list}).merge(dic_artistas, how='left', left_on='items', right_on='artist_id', copy=True).drop_duplicates()\n",
    "    \n",
    "    print(\"\\n Usuario:\" + str(user_id))\n",
    "    print(\"\\n Artistas escuchados:\")\n",
    "    counter = 1\n",
    "    for i in k_items.iloc[:,2]:\n",
    "        print(str(counter) + '- ' + str(i))\n",
    "        counter+=1\n",
    "    \n",
    "    print(\"\\n Artistas Recomendados:\")\n",
    "    counter = 1\n",
    "    for i in return_score_list.iloc[:,2]:\n",
    "        print(str(counter) + '- ' + str(i))\n",
    "        counter+=1\n",
    "    \n",
    "    return k_items, return_score_list"
   ]
  },
  {
   "cell_type": "code",
   "execution_count": 207,
   "metadata": {},
   "outputs": [
    {
     "name": "stdout",
     "output_type": "stream",
     "text": [
      "\n",
      " Usuario:7000\n",
      "\n",
      " Artistas escuchados:\n",
      "1- die Ärzte\n",
      "2- red hot chili peppers\n",
      "3- coldplay\n",
      "4- children of bodom\n",
      "5- dimmu borgir\n",
      "6- system of a down\n",
      "7- snow patrol\n",
      "8- bullet for my valentine\n",
      "9- in flames\n",
      "10- iron maiden\n",
      "11- killswitch engage\n",
      "12- slayer\n",
      "13- trivium\n",
      "14- blink-182\n",
      "15- limp bizkit\n",
      "16- linkin park\n",
      "17- oasis\n",
      "18- 3 doors down\n",
      "19- fall out boy\n",
      "20- lostprophets\n",
      "21- moving mountains\n",
      "22- disturbed\n",
      "23- nickelback\n",
      "24- rammstein\n",
      "25- 30 seconds to mars\n",
      "26- as i lay dying\n",
      "27- finch\n",
      "28- from first to last\n",
      "29- scary kids scaring kids\n",
      "30- koЯn\n",
      "31- cradle of filth\n",
      "32- fear factory\n",
      "33- all that remains\n",
      "34- in extremo\n",
      "35- die toten hosen\n",
      "36- staind\n",
      "37- stone sour\n",
      "38- slipknot\n",
      "39- böhse onkelz\n",
      "40- caliban\n",
      "41- from autumn to ashes\n",
      "42- 36 crazyfists\n",
      "43- escape the fate\n",
      "44- misery signals\n",
      "45- soil\n",
      "46- kettcar\n",
      "47- i am ghost\n",
      "48- eighteen visions\n",
      "49- soulgate's dawn\n",
      "\n",
      " Artistas Recomendados:\n",
      "1- metallica\n",
      "2- beatsteaks\n",
      "3- billy talent\n",
      "4- deichkind\n",
      "5- peter fox\n",
      "6- foo fighters\n",
      "7- die fantastischen vier\n",
      "8- the beatles\n",
      "9- jack johnson\n",
      "10- tocotronic\n"
     ]
    },
    {
     "data": {
      "text/plain": [
       "(     items  artist_id                   artist\n",
       " 0    90933      90933                die Ärzte\n",
       " 1   220128     220128    red hot chili peppers\n",
       " 2    73856      73856                 coldplay\n",
       " 3    68152      68152        children of bodom\n",
       " 4    91565      91565             dimmu borgir\n",
       " 5   247942     247942         system of a down\n",
       " 6   238261     238261              snow patrol\n",
       " 7    58491      58491  bullet for my valentine\n",
       " 8   140703     140703                in flames\n",
       " 9   142586     142586              iron maiden\n",
       " 10  160833     160833        killswitch engage\n",
       " 11  237274     237274                   slayer\n",
       " 12  271016     271016                  trivium\n",
       " 13   50265      50265                blink-182\n",
       " 14  170944     170944              limp bizkit\n",
       " 15  171169     171169              linkin park\n",
       " 16  202328     202328                    oasis\n",
       " 17    2902       2902             3 doors down\n",
       " 18  112792     112792             fall out boy\n",
       " 19  174074     174074             lostprophets\n",
       " 20  193035     193035         moving mountains\n",
       " 21   92669      92669                disturbed\n",
       " 22  198787     198787               nickelback\n",
       " 23  218576     218576                rammstein\n",
       " 24    3014       3014       30 seconds to mars\n",
       " 25   32544      32544           as i lay dying\n",
       " 26  115274     115274                    finch\n",
       " 27  120086     120086       from first to last\n",
       " 28  230031     230031  scary kids scaring kids\n",
       " 29  163458     163458                     koЯn\n",
       " 30   77010      77010          cradle of filth\n",
       " 31  113833     113833             fear factory\n",
       " 32   19519      19519         all that remains\n",
       " 33  140693     140693               in extremo\n",
       " 34   90873      90873          die toten hosen\n",
       " 35  242077     242077                   staind\n",
       " 36  244377     244377               stone sour\n",
       " 37  237495     237495                 slipknot\n",
       " 38   59755      59755             böhse onkelz\n",
       " 39   60881      60881                  caliban\n",
       " 40  120070     120070     from autumn to ashes\n",
       " 41    3143       3143            36 crazyfists\n",
       " 42  109835     109835          escape the fate\n",
       " 43  189845     189845           misery signals\n",
       " 44  238650     238650                     soil\n",
       " 45  159848     159848                  kettcar\n",
       " 46  138747     138747               i am ghost\n",
       " 47  104368     104368         eighteen visions\n",
       " 48  240029     240029          soulgate's dawn,\n",
       "     items  artist_id                  artist\n",
       " 0  186241     186241               metallica\n",
       " 1   42380      42380              beatsteaks\n",
       " 2   47652      47652            billy talent\n",
       " 3   87678      87678               deichkind\n",
       " 4  210674     210674               peter fox\n",
       " 5  117118     117118            foo fighters\n",
       " 6   90655      90655  die fantastischen vier\n",
       " 7  252494     252494             the beatles\n",
       " 8  144238     144238            jack johnson\n",
       " 9  267743     267743              tocotronic)"
      ]
     },
     "execution_count": 207,
     "metadata": {},
     "output_type": "execute_result"
    }
   ],
   "source": [
    "top_k_recomendaciones(7000,interactions_sparse_matrix,user_id_map,item_id_map,10)"
   ]
  }
 ],
 "metadata": {
  "kernelspec": {
   "display_name": "Python 3",
   "language": "python",
   "name": "python3"
  },
  "language_info": {
   "codemirror_mode": {
    "name": "ipython",
    "version": 3
   },
   "file_extension": ".py",
   "mimetype": "text/x-python",
   "name": "python",
   "nbconvert_exporter": "python",
   "pygments_lexer": "ipython3",
   "version": "3.7.6"
  }
 },
 "nbformat": 4,
 "nbformat_minor": 4
}

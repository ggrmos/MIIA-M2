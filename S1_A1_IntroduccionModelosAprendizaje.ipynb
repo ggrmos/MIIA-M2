{
 "cells": [
  {
   "cell_type": "markdown",
   "metadata": {},
   "source": [
    "<br><h1> <img src=\"https://serea2017.uniandes.edu.co/images/Logo.png\" height=\"120\" width=\"400\" align=\"Center\" /><br>\n",
    " \n",
    "## MIIA-4203 MODELOS AVANZADOS PARA ANÁLISIS DE DATOS II\n",
    " \n",
    "\n",
    "\n",
    " # Introducción al aprendizaje computacional\n",
    " \n",
    "## Actividad 1 -- 19 Agosto 2020\n",
    " \n",
    "\n",
    "\n",
    " ### Profesor: Camilo Franco (c.franco31@uniandes.edu.co)\n",
    " \n",
    "\n",
    "\n",
    "                          Nombres                  Usuario            Código\n",
    "\n",
    "            - Camilo Andrés Angarita Ortiz        ca.angarita967  201111642      \n",
    "\n",
    "            - Javier Alfonso Lesmes Patiño        ja.lesmes21     200820243\n",
    "\n",
    "            - Gerson Arturo Guerrero              ga.guerrero     201823464 \n",
    "\n",
    "            - Elquin Huertas Ramírez               e.huertas      201920061\n",
    " \n",
    "En esta actividad vamos a estudiar una primera aproximación a los modelos de aprendizaje computacional, utilizando como base un problema de clasifiación y el modelo de clasificación logístico."
   ]
  },
  {
   "cell_type": "markdown",
   "metadata": {},
   "source": [
    "## 1. Aprendizaje computacional\n",
    "\n",
    "El aprendizaje computacional o **Machine Learning** (ML), utiliza algoritmos con parámetros libres que se puedan ajustar de manera automática, con el objetivo de mejorar el desempeño de los modelos a partir de la información disponible.\n",
    "\n",
    "El aprendizaje computacional se circunscribe en el campo de la Inteligencia Computacional, o lo que se conoce como Inteligencia Artificial, mediante la búsqueda de patrones a partir de los *Datos*. Entonces, los algoritmos desarrollados dentro del Machine Learning (ML a partir de ahora) se pueden entender como los bloques fundacionales que permiten aprender computacionalmente a partir de los datos. De esta manera, generalizando los datos en lugar de solo almacenarlos y devolver busquedas específicas, como en los sistemas relacionales de bases de datos.\n",
    "\n",
    "\n",
    "### Tipos de aprendizaje\n",
    "\n",
    "Los tipos de problemas sobre los que se trabaja en ML se pueden entender como de tipo **supervisado**, **no supervisado**, y **semi-supervisado**. \n",
    "\n",
    "**Aprendizaje supervisado**\n",
    "\n",
    "El aprendizaje supervisado se refiere a modelos, o conjuntos de algoritmos, que aproximan o estiman una función $f(x)$ que representa la relación entre la variable dependiente $Y$ (etiqueta o valor objetivo) y el conjunto de variables independientes $X$. Por ello a los algoritmos de tipo supervisado se les asocia usualmente con modelos predictivos, donde dado un conjunto de datos $X$, se puede predecir un nuevo valor de la variable dependiente $Y$. \n",
    "\n",
    "De acuerdo con el tipo de valores en $Y$, se pueden definir dos tipos principales de problemas y algoritmos para analizar los datos:\n",
    "\n",
    "- Problemas de clasificación\n",
    "\n",
    "Siempre que la variable $Y$ se refiera a un grupo de categorías (valores sin ningún orden en particular), como por ejemplo bueno/malo, pequeño/grande, la tarea de predecir $Y$ puede ser considerada como un problema de clasificación. En este sentido, las variables de salida se conocen como etiquetas o categorías.\n",
    "\n",
    "- Problemas de regresión\n",
    "\n",
    "Un problema de regresión consiste en estimar y/o predecir una variable dependiente (o valor objetivo) $Y$ con valores continuos. Por ejemplo, predecir el precio de una vivienda, de acciones, alimentos, etc. \n",
    "\n",
    "**Aprendizaje no-supervisado**\n",
    "    \n",
    "El aprendizaje no-supervisado considera problemas donde la variable dependiente $Y$, o las etiquetas para el conjunto de datos, no está disponible. Es decir, cuando $Y$ no está contenida en el conjunto de datos. Entonces, en lugar de estimar o predecir una variable, un algoritmo no-supervisado utiliza técnicas sobre el conjunto de datos de entrada $X$ para detectar patrones, encontrar reglas, o resumir y agrupar los datos. Usualmente, los algoritmos no-supervisados son utilizados para el análisis descriptivo y la modelación, donde se necesita una primera aproximación a los datos, desarrollar una intuición y extraer nuevo conocmiento que es desconocido para el analista y/o experto. \n",
    "\n",
    "En el aprendizaje no-supervisado, se tienen dos tareas principales, la reducción de dimensionalidad y el análisis de clustering.\n",
    "\n",
    "- Reducción de dimensionalidad \n",
    "\n",
    "La reducción de dimensionalidad busca encontrar la estructura subyacente de los datos, reduciendo la cantidad de información disponible en el conjunto de datos $X$. Por ejemlo, es muy conocido el análisis de componentes principales. \n",
    "\n",
    "- Clustering \n",
    "\n",
    "El análisis de clustering consiste en agrupar un conjunto de datos $X$ de manera que cada grupo contenga observaciones más similares entre sí que con las observaciones de otros grupos. Estos grupos son denominados *clusters*. Es una técnica bastante común para la exploración de los datos y su análisis. \n",
    "\n",
    "\n",
    "#### Otros tipos de aprendizaje\n",
    "\n",
    "Más allá de estos dos tipos de aprendizaje presentados anteriormente, existen otros tipos que son bastante útiles dependiendo de la naturaleza del problema. Por ejemplo, el **aprendizaje semi-supervisado** (https://medium.com/inside-machine-learning/placeholder-3557ebb3d470) o el **aprendizaje por refuerzo** (https://medium.com/machine-learning-for-humans/reinforcement-learning-6eacf258b265) "
   ]
  },
  {
   "cell_type": "markdown",
   "metadata": {},
   "source": [
    "## 2. Problema de clasificación: riesgo de default\n",
    "\n",
    "### 2.1 Datos\n",
    "\n",
    "Como hemos visto, una tarea muy usual dentro del ML es la de la clasificación. Pero antes, vamos a importar las bibliotecas que vamos a usar en este cuaderno."
   ]
  },
  {
   "cell_type": "code",
   "execution_count": 2,
   "metadata": {},
   "outputs": [],
   "source": [
    "# Algunos paquetes iniciales que vamos a utilizar\n",
    "import pandas as pd\n",
    "import numpy as np \n",
    "import matplotlib\n",
    "import matplotlib.pyplot as plt\n",
    "from sklearn.linear_model import LogisticRegressionCV\n"
   ]
  },
  {
   "cell_type": "markdown",
   "metadata": {},
   "source": [
    "https://archive.ics.uci.edu/ml/datasets/statlog+(german+credit+data)"
   ]
  },
  {
   "cell_type": "code",
   "execution_count": 3,
   "metadata": {},
   "outputs": [],
   "source": [
    "data = pd.read_csv(\"germancredit.csv\")"
   ]
  },
  {
   "cell_type": "code",
   "execution_count": 14,
   "metadata": {},
   "outputs": [
    {
     "data": {
      "text/html": [
       "<div>\n",
       "<style scoped>\n",
       "    .dataframe tbody tr th:only-of-type {\n",
       "        vertical-align: middle;\n",
       "    }\n",
       "\n",
       "    .dataframe tbody tr th {\n",
       "        vertical-align: top;\n",
       "    }\n",
       "\n",
       "    .dataframe thead th {\n",
       "        text-align: right;\n",
       "    }\n",
       "</style>\n",
       "<table border=\"1\" class=\"dataframe\">\n",
       "  <thead>\n",
       "    <tr style=\"text-align: right;\">\n",
       "      <th></th>\n",
       "      <th>Default</th>\n",
       "      <th>checkingstatus1</th>\n",
       "      <th>duration</th>\n",
       "      <th>history</th>\n",
       "      <th>purpose</th>\n",
       "      <th>amount</th>\n",
       "      <th>savings</th>\n",
       "      <th>employ</th>\n",
       "      <th>installment</th>\n",
       "      <th>status</th>\n",
       "      <th>...</th>\n",
       "      <th>residence</th>\n",
       "      <th>property</th>\n",
       "      <th>age</th>\n",
       "      <th>otherplans</th>\n",
       "      <th>housing</th>\n",
       "      <th>cards</th>\n",
       "      <th>job</th>\n",
       "      <th>liable</th>\n",
       "      <th>tele</th>\n",
       "      <th>foreign</th>\n",
       "    </tr>\n",
       "  </thead>\n",
       "  <tbody>\n",
       "    <tr>\n",
       "      <th>0</th>\n",
       "      <td>0</td>\n",
       "      <td>A11</td>\n",
       "      <td>6</td>\n",
       "      <td>A34</td>\n",
       "      <td>A43</td>\n",
       "      <td>1169</td>\n",
       "      <td>A65</td>\n",
       "      <td>A75</td>\n",
       "      <td>4</td>\n",
       "      <td>A93</td>\n",
       "      <td>...</td>\n",
       "      <td>4</td>\n",
       "      <td>A121</td>\n",
       "      <td>67</td>\n",
       "      <td>A143</td>\n",
       "      <td>A152</td>\n",
       "      <td>2</td>\n",
       "      <td>A173</td>\n",
       "      <td>1</td>\n",
       "      <td>A192</td>\n",
       "      <td>A201</td>\n",
       "    </tr>\n",
       "    <tr>\n",
       "      <th>1</th>\n",
       "      <td>1</td>\n",
       "      <td>A12</td>\n",
       "      <td>48</td>\n",
       "      <td>A32</td>\n",
       "      <td>A43</td>\n",
       "      <td>5951</td>\n",
       "      <td>A61</td>\n",
       "      <td>A73</td>\n",
       "      <td>2</td>\n",
       "      <td>A92</td>\n",
       "      <td>...</td>\n",
       "      <td>2</td>\n",
       "      <td>A121</td>\n",
       "      <td>22</td>\n",
       "      <td>A143</td>\n",
       "      <td>A152</td>\n",
       "      <td>1</td>\n",
       "      <td>A173</td>\n",
       "      <td>1</td>\n",
       "      <td>A191</td>\n",
       "      <td>A201</td>\n",
       "    </tr>\n",
       "    <tr>\n",
       "      <th>2</th>\n",
       "      <td>0</td>\n",
       "      <td>A14</td>\n",
       "      <td>12</td>\n",
       "      <td>A34</td>\n",
       "      <td>A46</td>\n",
       "      <td>2096</td>\n",
       "      <td>A61</td>\n",
       "      <td>A74</td>\n",
       "      <td>2</td>\n",
       "      <td>A93</td>\n",
       "      <td>...</td>\n",
       "      <td>3</td>\n",
       "      <td>A121</td>\n",
       "      <td>49</td>\n",
       "      <td>A143</td>\n",
       "      <td>A152</td>\n",
       "      <td>1</td>\n",
       "      <td>A172</td>\n",
       "      <td>2</td>\n",
       "      <td>A191</td>\n",
       "      <td>A201</td>\n",
       "    </tr>\n",
       "    <tr>\n",
       "      <th>3</th>\n",
       "      <td>0</td>\n",
       "      <td>A11</td>\n",
       "      <td>42</td>\n",
       "      <td>A32</td>\n",
       "      <td>A42</td>\n",
       "      <td>7882</td>\n",
       "      <td>A61</td>\n",
       "      <td>A74</td>\n",
       "      <td>2</td>\n",
       "      <td>A93</td>\n",
       "      <td>...</td>\n",
       "      <td>4</td>\n",
       "      <td>A122</td>\n",
       "      <td>45</td>\n",
       "      <td>A143</td>\n",
       "      <td>A153</td>\n",
       "      <td>1</td>\n",
       "      <td>A173</td>\n",
       "      <td>2</td>\n",
       "      <td>A191</td>\n",
       "      <td>A201</td>\n",
       "    </tr>\n",
       "    <tr>\n",
       "      <th>4</th>\n",
       "      <td>1</td>\n",
       "      <td>A11</td>\n",
       "      <td>24</td>\n",
       "      <td>A33</td>\n",
       "      <td>A40</td>\n",
       "      <td>4870</td>\n",
       "      <td>A61</td>\n",
       "      <td>A73</td>\n",
       "      <td>3</td>\n",
       "      <td>A93</td>\n",
       "      <td>...</td>\n",
       "      <td>4</td>\n",
       "      <td>A124</td>\n",
       "      <td>53</td>\n",
       "      <td>A143</td>\n",
       "      <td>A153</td>\n",
       "      <td>2</td>\n",
       "      <td>A173</td>\n",
       "      <td>2</td>\n",
       "      <td>A191</td>\n",
       "      <td>A201</td>\n",
       "    </tr>\n",
       "  </tbody>\n",
       "</table>\n",
       "<p>5 rows × 21 columns</p>\n",
       "</div>"
      ],
      "text/plain": [
       "   Default checkingstatus1  duration history purpose  amount savings employ  \\\n",
       "0        0             A11         6     A34     A43    1169     A65    A75   \n",
       "1        1             A12        48     A32     A43    5951     A61    A73   \n",
       "2        0             A14        12     A34     A46    2096     A61    A74   \n",
       "3        0             A11        42     A32     A42    7882     A61    A74   \n",
       "4        1             A11        24     A33     A40    4870     A61    A73   \n",
       "\n",
       "   installment status  ... residence  property age  otherplans housing cards  \\\n",
       "0            4    A93  ...         4      A121  67        A143    A152     2   \n",
       "1            2    A92  ...         2      A121  22        A143    A152     1   \n",
       "2            2    A93  ...         3      A121  49        A143    A152     1   \n",
       "3            2    A93  ...         4      A122  45        A143    A153     1   \n",
       "4            3    A93  ...         4      A124  53        A143    A153     2   \n",
       "\n",
       "    job liable  tele foreign  \n",
       "0  A173      1  A192    A201  \n",
       "1  A173      1  A191    A201  \n",
       "2  A172      2  A191    A201  \n",
       "3  A173      2  A191    A201  \n",
       "4  A173      2  A191    A201  \n",
       "\n",
       "[5 rows x 21 columns]"
      ]
     },
     "execution_count": 14,
     "metadata": {},
     "output_type": "execute_result"
    }
   ],
   "source": [
    "data.head()"
   ]
  },
  {
   "cell_type": "code",
   "execution_count": 4,
   "metadata": {},
   "outputs": [
    {
     "data": {
      "text/plain": [
       "Default             int64\n",
       "checkingstatus1    object\n",
       "duration            int64\n",
       "history            object\n",
       "purpose            object\n",
       "amount              int64\n",
       "savings            object\n",
       "employ             object\n",
       "installment         int64\n",
       "status             object\n",
       "others             object\n",
       "residence           int64\n",
       "property           object\n",
       "age                 int64\n",
       "otherplans         object\n",
       "housing            object\n",
       "cards               int64\n",
       "job                object\n",
       "liable              int64\n",
       "tele               object\n",
       "foreign            object\n",
       "dtype: object"
      ]
     },
     "execution_count": 4,
     "metadata": {},
     "output_type": "execute_result"
    }
   ],
   "source": [
    "data.dtypes"
   ]
  },
  {
   "cell_type": "code",
   "execution_count": 5,
   "metadata": {},
   "outputs": [
    {
     "data": {
      "text/plain": [
       "0    700\n",
       "1    300\n",
       "Name: Default, dtype: int64"
      ]
     },
     "execution_count": 5,
     "metadata": {},
     "output_type": "execute_result"
    }
   ],
   "source": [
    "data.Default.value_counts()"
   ]
  },
  {
   "cell_type": "markdown",
   "metadata": {},
   "source": [
    "La clase positiva (default=1) tiene menos casos.  Además, es 5 veces más costoso clasificar a un usuario como bueno (Defualt=0) cuando es malo (Default=1), que clasificarlo como malo cuando es bueno."
   ]
  },
  {
   "cell_type": "code",
   "execution_count": 6,
   "metadata": {},
   "outputs": [
    {
     "data": {
      "text/plain": [
       "A201    963\n",
       "A202     37\n",
       "Name: foreign, dtype: int64"
      ]
     },
     "execution_count": 6,
     "metadata": {},
     "output_type": "execute_result"
    }
   ],
   "source": [
    "data.foreign.value_counts()"
   ]
  },
  {
   "cell_type": "markdown",
   "metadata": {},
   "source": [
    "Vemos que la mayoría de clientes de la base de datos son extranjeros."
   ]
  },
  {
   "cell_type": "markdown",
   "metadata": {},
   "source": [
    "## 2.2 Codificacion de variables categoricas"
   ]
  },
  {
   "cell_type": "code",
   "execution_count": 4,
   "metadata": {},
   "outputs": [
    {
     "name": "stdout",
     "output_type": "stream",
     "text": [
      "   Default  duration  amount  installment  residence  age  cards  liable  \\\n",
      "0        0         6    1169            4          4   67      2       1   \n",
      "1        1        48    5951            2          2   22      1       1   \n",
      "2        0        12    2096            2          3   49      1       2   \n",
      "3        0        42    7882            2          4   45      1       2   \n",
      "4        1        24    4870            3          4   53      2       2   \n",
      "\n",
      "   checkingstatus1_A11  checkingstatus1_A12  ...  housing_A152  housing_A153  \\\n",
      "0                    1                    0  ...             1             0   \n",
      "1                    0                    1  ...             1             0   \n",
      "2                    0                    0  ...             1             0   \n",
      "3                    1                    0  ...             0             1   \n",
      "4                    1                    0  ...             0             1   \n",
      "\n",
      "   job_A171  job_A172  job_A173  job_A174  tele_A191  tele_A192  foreign_A201  \\\n",
      "0         0         0         1         0          0          1             1   \n",
      "1         0         0         1         0          1          0             1   \n",
      "2         0         1         0         0          1          0             1   \n",
      "3         0         0         1         0          1          0             1   \n",
      "4         0         0         1         0          1          0             1   \n",
      "\n",
      "   foreign_A202  \n",
      "0             0  \n",
      "1             0  \n",
      "2             0  \n",
      "3             0  \n",
      "4             0  \n",
      "\n",
      "[5 rows x 62 columns]\n"
     ]
    }
   ],
   "source": [
    "credit_1 = data.copy()\n",
    "credit_1 = pd.get_dummies(credit_1, columns=['checkingstatus1','history','purpose','savings',\n",
    "                                   'employ','status','others','property','otherplans','housing','job','tele', \n",
    "                                   'foreign'], prefix = ['checkingstatus1','history','purpose','savings',\n",
    "                                   'employ','status','others','property','otherplans','housing','job','tele', \n",
    "                                   'foreign'])\n",
    "\n",
    "print(credit_1.head())"
   ]
  },
  {
   "cell_type": "code",
   "execution_count": 7,
   "metadata": {},
   "outputs": [
    {
     "data": {
      "text/plain": [
       "(1000, 61)"
      ]
     },
     "execution_count": 7,
     "metadata": {},
     "output_type": "execute_result"
    }
   ],
   "source": [
    "X = credit_1.iloc[:, 1:62]#[['duration','amount','installment','residence','age','cards','liable']]\n",
    "Y = credit_1.iloc[:, 0]\n",
    "X.shape"
   ]
  },
  {
   "cell_type": "markdown",
   "metadata": {},
   "source": [
    "### 3. Regresión logística\n",
    "\n",
    "Podemos estudiar un problema de clasificación desde una perspectiva probabilística, examinando una situación donde la variable respuesta ($Y_i$) consiste de dos categorías ($\\{0,1\\}$). La *regresión logística* estima la probabilidad de que una observación pertenezca a una de las dos categorías.\n",
    "\n",
    "Entonces se modela la función de probabilidad $p(Y_i=1)$ de tal manera que tome un valor entre 0 y 1. La función de regresión logística consiste en la función *sigmoide* ($\\sigma(\\cdot)$) $$ p(Y_i)=p(Y_i=1)=\\frac{e^{\\beta_0 + \\beta_1X_{1} + ... + \\beta_k X_{k}}}{1+e^{\\beta_0 + \\beta_1X_{1} + ... + \\beta_k X_{k}}}=\\frac{e^{Z_i}}{1+e^{Z_i}}=\\sigma(Z_i)$$\n",
    "donde se tiene que \n",
    "$$log\\frac{p(Y_i)}{1-p(Y_i)}=\\beta_0 + \\beta_1X_{1} + ... + \\beta_k X_{k}.  $$\n",
    "\n",
    "\n",
    "Por lo tanto, manteniendo todo lo demás constante, se puede estimar el cambio que una unidad extra en $X_1$ tiene sobre  el chance (o el *log-odds*) $log\\frac{p(Y_i)}{1-p(Y_i)}$. Esta estimación está dada por $\\hat \\beta_1$. \n",
    "\n",
    "\n",
    "Los coeficientes del modelo se pueden estimar por el método de máxima verosimilitud, buscando iterativamente estimadores que maximicen la función de verosimilitud: $$ F_{\\mathbf{\\beta}}=\\prod_{i:Y_i=1} p(Y_i)\\prod_{i':Y_{i'}=0}(1-p(Y_{i'})). $$\n",
    "\n",
    "\n",
    "Finalmente, la extensión del modelo logístico para múltiples clases o categorías ($C$) se hace calculando la probabilidad de una categoría ($C_i$) frente al resto y utilizando lo que se conoce como una función *softmax*: \n",
    "$$ \\sigma (Z_i )={\\frac {e^{Z_{i}}}{\\sum _{j=1}^{|C|}e^{Z_{j}}}}{\\text{ para }}i=1,\\dotsc ,|C|$$\n",
    "\n",
    "\n",
    "Miremos un ejemplo con nuestros datos sobre el comportamiento de los clientes del banco. Primero descargamos los paquetes que vamos a utilizar:"
   ]
  },
  {
   "cell_type": "code",
   "execution_count": 5,
   "metadata": {},
   "outputs": [],
   "source": [
    "from sklearn.linear_model import LogisticRegression\n",
    "from sklearn import model_selection"
   ]
  },
  {
   "cell_type": "markdown",
   "metadata": {},
   "source": [
    "Por defecto, la funcion `LogisticRegression()` encuentra una solución mediante el algoritmo de Broyden–Fletcher–Goldfarb–Shanno (BFGS):  https://en.wikipedia.org/wiki/Broyden%E2%80%93Fletcher%E2%80%93Goldfarb%E2%80%93Shanno_algorithm"
   ]
  },
  {
   "cell_type": "code",
   "execution_count": 8,
   "metadata": {},
   "outputs": [
    {
     "name": "stdout",
     "output_type": "stream",
     "text": [
      "[[ 2.53490795e-02  8.32828686e-05  2.22994872e-01 -7.13817545e-02\n",
      "  -2.22146556e-02  7.39686688e-02 -7.03973050e-02  7.03443103e-01\n",
      "   2.88496336e-01 -1.22332415e-01 -1.09933253e+00  2.88107441e-01\n",
      "   2.65242607e-01 -2.08780273e-01  8.05932574e-03 -5.82354611e-01\n",
      "   5.51407204e-01 -5.29589072e-01 -3.58563564e-02 -1.38025358e-01\n",
      "  -3.87137718e-01  1.13642985e-02  7.80704681e-02  2.10294400e-01\n",
      "  -4.70498965e-02  5.67965193e-02  4.24302065e-01  7.78439695e-02\n",
      "  -9.25894173e-02 -1.83170264e-01 -4.56111864e-01  5.11704084e-02\n",
      "   1.64827883e-01  2.68686548e-02 -4.49632259e-01 -2.29601981e-02\n",
      "   1.52344342e-01  8.95904419e-02 -3.78968299e-01 -9.26919962e-02\n",
      "  -4.47814676e-02  9.41959683e-02 -2.79140011e-01 -3.74201999e-01\n",
      "  -6.28300432e-02  2.92406727e-02  1.78065859e-01  2.10800120e-01\n",
      "   9.93048498e-02 -5.39830481e-01  7.49756220e-02 -3.19945599e-01\n",
      "   1.52444666e-02 -1.82715024e-02 -7.36578039e-02 -6.29687773e-02\n",
      "  -7.48274270e-02  1.83586723e-02 -2.48084183e-01 -1.17063934e-03\n",
      "  -2.28554871e-01]]\n"
     ]
    },
    {
     "name": "stderr",
     "output_type": "stream",
     "text": [
      "/Users/gerson.guerrero/opt/anaconda3/lib/python3.7/site-packages/sklearn/linear_model/_logistic.py:940: ConvergenceWarning: lbfgs failed to converge (status=1):\n",
      "STOP: TOTAL NO. of ITERATIONS REACHED LIMIT.\n",
      "\n",
      "Increase the number of iterations (max_iter) or scale the data as shown in:\n",
      "    https://scikit-learn.org/stable/modules/preprocessing.html\n",
      "Please also refer to the documentation for alternative solver options:\n",
      "    https://scikit-learn.org/stable/modules/linear_model.html#logistic-regression\n",
      "  extra_warning_msg=_LOGISTIC_SOLVER_CONVERGENCE_MSG)\n"
     ]
    }
   ],
   "source": [
    "log = LogisticRegression(max_iter=100)\n",
    "log.fit(X, Y)\n",
    "y_pred_log = log.predict(X)\n",
    "log_coef = log.coef_\n",
    "print(log_coef)"
   ]
  },
  {
   "cell_type": "code",
   "execution_count": 27,
   "metadata": {},
   "outputs": [
    {
     "data": {
      "text/plain": [
       "array([100], dtype=int32)"
      ]
     },
     "execution_count": 27,
     "metadata": {},
     "output_type": "execute_result"
    }
   ],
   "source": [
    "log.n_iter_"
   ]
  },
  {
   "cell_type": "markdown",
   "metadata": {},
   "source": [
    "### Ejercicio 3.1\n",
    "\n",
    "Ajuste las opciones de la funcion `LogisticRegression`para conseguir que la solucion converja. Puede examinar la documentación de Python: https://scikit-learn.org/stable/modules/linear_model.html#logistic-regression"
   ]
  },
  {
   "cell_type": "markdown",
   "metadata": {},
   "source": [
    "-- -----------------"
   ]
  },
  {
   "cell_type": "markdown",
   "metadata": {},
   "source": [
    "Se realiza un cambio en el método de convergencia a _newton-cg_ (Newton Conjugate Gradient)."
   ]
  },
  {
   "cell_type": "code",
   "execution_count": 21,
   "metadata": {},
   "outputs": [
    {
     "name": "stdout",
     "output_type": "stream",
     "text": [
      "[[ 2.77541715e-02  1.21598920e-04  3.19443685e-01  6.65859716e-03\n",
      "  -1.42821979e-02  2.45671110e-01  2.33713161e-01  7.38105633e-01\n",
      "   3.67668695e-01 -1.85310100e-01 -9.20534543e-01  4.90882969e-01\n",
      "   5.96389805e-01 -1.91718234e-02 -2.45440543e-01 -8.22730724e-01\n",
      "   7.20231004e-01 -8.18934978e-01 -4.58246344e-01 -2.60422884e-02\n",
      "  -1.40592421e-01  1.51191591e-01  4.17429792e-01  6.88360305e-01\n",
      "  -5.65700017e-01  3.22330412e-02  5.63734978e-01  2.26835349e-01\n",
      "   1.48066454e-01 -5.83139751e-01 -3.55567346e-01  2.13897540e-01\n",
      "   2.18293361e-01  9.53667826e-02 -5.18386687e-01 -9.24131201e-03\n",
      "   3.36140234e-01  1.02992922e-01 -4.15275975e-01 -2.39274963e-02\n",
      "   1.73625908e-01  5.06717403e-01 -6.80413626e-01 -2.81545269e-01\n",
      "  -1.29754302e-02 -8.38730534e-02  3.78323437e-01  2.38151205e-01\n",
      "   1.36697396e-01 -3.74918917e-01  3.31401098e-01 -9.09808681e-02\n",
      "  -2.40490546e-01 -2.53674847e-01  8.80771130e-02  1.17421938e-01\n",
      "   4.81054808e-02  1.45226598e-01 -1.45296914e-01  5.83463476e-01\n",
      "  -5.83533791e-01]]\n"
     ]
    }
   ],
   "source": [
    "log = LogisticRegression(solver=\"newton-cg\", max_iter=100) \n",
    "log.fit(X, Y)\n",
    "y_pred_log = log.predict(X)\n",
    "log_coef = log.coef_\n",
    "print(log_coef)"
   ]
  },
  {
   "cell_type": "markdown",
   "metadata": {},
   "source": [
    "### Pregunta 3.2 \n",
    "\n",
    "Cuántas iteraciones necesitó?"
   ]
  },
  {
   "cell_type": "markdown",
   "metadata": {},
   "source": [
    "-------------"
   ]
  },
  {
   "cell_type": "markdown",
   "metadata": {},
   "source": [
    "Con el método de _newton-cg_, la regresión converge con 60 iteraciones"
   ]
  },
  {
   "cell_type": "code",
   "execution_count": 22,
   "metadata": {},
   "outputs": [
    {
     "data": {
      "text/plain": [
       "array([60], dtype=int32)"
      ]
     },
     "execution_count": 22,
     "metadata": {},
     "output_type": "execute_result"
    }
   ],
   "source": [
    "log.n_iter_"
   ]
  },
  {
   "cell_type": "markdown",
   "metadata": {},
   "source": [
    "## 4. Construccion de modelos predictivos"
   ]
  },
  {
   "cell_type": "markdown",
   "metadata": {},
   "source": [
    "Partimos los datos de manera aleatoria en un conjunto de entrenamiento y otro de prueba. De esta manera, estimamos los coeficientes sobre los datos de entrenamiento, y ese mismo modelo lo probamos sobre los datos de prueba con el fin de controlar que el modelo esté generalizando bien y no se sobreajuste a los datos.\n",
    "\n",
    "A continuación ejecutamos el codigo para obtener una partición con el 40% de los datos en el conjunto de prueba. Nótese que por defecto la funcion `train_test_split` sigue una partición estratificada, es decir, mantiene la distribución inicial de las clases en ambos conjuntos de entrenamiento y prueba:\n"
   ]
  },
  {
   "cell_type": "code",
   "execution_count": 24,
   "metadata": {},
   "outputs": [
    {
     "name": "stdout",
     "output_type": "stream",
     "text": [
      "Tamaño de CE, CP:  (600,) (400,)\n",
      "Observaciones de la clase positiva en entrenamiento: 182 y en prueba: 118\n"
     ]
    }
   ],
   "source": [
    "X_train, X_test, y_train, y_test = model_selection.train_test_split(X, Y, test_size=0.4, random_state=42)\n",
    "print(\"Tamaño de CE, CP: \", y_train.shape, y_test.shape)\n",
    "print(\"Observaciones de la clase positiva en entrenamiento: \" +str(sum(y_train)) +\" y en prueba: \" +str(sum(y_test)))"
   ]
  },
  {
   "cell_type": "markdown",
   "metadata": {},
   "source": [
    "Lo podemos verificar:"
   ]
  },
  {
   "cell_type": "code",
   "execution_count": 25,
   "metadata": {},
   "outputs": [
    {
     "name": "stdout",
     "output_type": "stream",
     "text": [
      "Tamaño de CE, CP:  (600,) (400,)\n",
      "Observaciones de la clase positiva en entrenamiento: 180 y en prueba: 120\n"
     ]
    }
   ],
   "source": [
    "X_train, X_test, y_train, y_test = model_selection.train_test_split(X, Y, test_size=0.4, random_state=42, stratify=Y)\n",
    "print(\"Tamaño de CE, CP: \", y_train.shape, y_test.shape)\n",
    "print(\"Observaciones de la clase positiva en entrenamiento: \" +str(sum(y_train)) +\" y en prueba: \" +str(sum(y_test)))"
   ]
  },
  {
   "cell_type": "markdown",
   "metadata": {},
   "source": [
    "A continuación ajustamos el modelo logístico y lo probamos:"
   ]
  },
  {
   "cell_type": "code",
   "execution_count": 26,
   "metadata": {},
   "outputs": [],
   "source": [
    "logT = LogisticRegression(penalty='none', max_iter=1500)\n",
    "logT.fit(X_train, y_train)\n",
    "y_tr = logT.predict(X_train)\n",
    "y_pred = logT.predict(X_test)"
   ]
  },
  {
   "cell_type": "markdown",
   "metadata": {},
   "source": [
    "Con menos datos para entrenar probablemente el algoritmo necesite más iteraciones:"
   ]
  },
  {
   "cell_type": "code",
   "execution_count": 33,
   "metadata": {},
   "outputs": [
    {
     "data": {
      "text/plain": [
       "array([375], dtype=int32)"
      ]
     },
     "execution_count": 33,
     "metadata": {},
     "output_type": "execute_result"
    }
   ],
   "source": [
    "logT.n_iter_"
   ]
  },
  {
   "cell_type": "markdown",
   "metadata": {},
   "source": [
    "Examinemos los coeficientes del modelo y su desviación con respecto a la estimación anterior (que utilizaba todos los datos de la muestra)."
   ]
  },
  {
   "cell_type": "code",
   "execution_count": 27,
   "metadata": {},
   "outputs": [
    {
     "name": "stdout",
     "output_type": "stream",
     "text": [
      "[[ 2.10773005e-02  1.02771308e-04  3.15481725e-01  1.79826321e-02\n",
      "  -8.12310264e-03  1.50526022e-01  7.30169441e-02  5.64754573e-01\n",
      "   1.26136252e-01 -2.83119926e-01 -9.67068789e-01  3.66444227e-01\n",
      "   2.94985173e-01 -1.43018240e-01  1.13700582e-01 -1.19140963e+00\n",
      "   2.21176769e-01 -8.44727770e-01 -2.85274400e-01 -3.87568911e-01\n",
      "  -2.91246871e-01 -3.87054885e-02  1.53002248e-01  7.29406448e-01\n",
      "  -1.80227159e-03  1.86442359e-01  5.97861031e-01  2.17654985e-01\n",
      "  -2.48653168e-01 -7.34607230e-01 -3.91553507e-01  5.02533398e-01\n",
      "   1.34453717e-01 -1.10384580e-02 -1.11518636e+00 -7.00601867e-02\n",
      "   3.00665101e-01 -1.73532620e-01 -5.70567006e-01 -1.15863364e-01\n",
      "  -1.96750670e-01  2.24357306e-01 -5.86904525e-01 -4.77452082e-01\n",
      "  -5.29445374e-02 -1.08602042e-01  7.97007722e-02  1.03176798e-01\n",
      "   1.17743856e-01 -7.80218543e-01  4.20012509e-01 -4.49166502e-01\n",
      "  -5.30143896e-01 -3.18330326e-02 -1.00369546e-01 -8.30431900e-02\n",
      "  -3.44052120e-01 -1.36532853e-01 -4.22765036e-01  2.48149325e-01\n",
      "  -8.07447214e-01]]\n"
     ]
    }
   ],
   "source": [
    "logT_coef = logT.coef_\n",
    "print(logT_coef)"
   ]
  },
  {
   "cell_type": "code",
   "execution_count": 28,
   "metadata": {},
   "outputs": [
    {
     "name": "stdout",
     "output_type": "stream",
     "text": [
      "[[ 6.67687101e-03  1.88276115e-05  3.96195954e-03 -1.13240350e-02\n",
      "  -6.15909523e-03  9.51450876e-02  1.60696217e-01  1.73351059e-01\n",
      "   2.41532443e-01  9.78098254e-02  4.65342458e-02  1.24438742e-01\n",
      "   3.01404632e-01  1.23846416e-01 -3.59141125e-01  3.68678908e-01\n",
      "   4.99054235e-01  2.57927923e-02 -1.72971944e-01  3.61526623e-01\n",
      "   1.50654449e-01  1.89897080e-01  2.64427544e-01 -4.10461425e-02\n",
      "  -5.63897745e-01 -1.54209317e-01 -3.41260525e-02  9.18036403e-03\n",
      "   3.96719622e-01  1.51467479e-01  3.59861607e-02 -2.88635858e-01\n",
      "   8.38396441e-02  1.06405241e-01  5.96799672e-01  6.08188747e-02\n",
      "   3.54751329e-02  2.76525542e-01  1.55291031e-01  9.19358680e-02\n",
      "   3.70376578e-01  2.82360097e-01 -9.35091012e-02  1.95906813e-01\n",
      "   3.99691072e-02  2.47289886e-02  2.98622665e-01  1.34974408e-01\n",
      "   1.89535397e-02  4.05299626e-01 -8.86114101e-02  3.58185634e-01\n",
      "   2.89653350e-01 -2.21841814e-01  1.88446659e-01  2.00465128e-01\n",
      "   3.92157601e-01  2.81759451e-01  2.77468122e-01  3.35314151e-01\n",
      "   2.23913423e-01]]\n"
     ]
    }
   ],
   "source": [
    "print(log_coef-logT_coef)"
   ]
  },
  {
   "cell_type": "markdown",
   "metadata": {},
   "source": [
    "### Ejercicio 4.1\n",
    "\n",
    "Implemente un proceso de validación cruzada cambiando la semilla de las particiones de train (CE) y test (CP). Estimae la varianza de los estimadores y concluya si su *mejor* modelo es estable entre distintas particiones."
   ]
  },
  {
   "cell_type": "code",
   "execution_count": 10,
   "metadata": {},
   "outputs": [],
   "source": [
    "coef_cv=[]\n",
    "random_states = [43, 12, 56, 32, 71, 73, 47, 18, 24, 19]\n",
    "\n",
    "for seed in random_states:\n",
    "    X_train, X_test, y_train, y_test = model_selection.train_test_split(X, Y, test_size=0.4, random_state=seed)\n",
    "    log_cv = LogisticRegressionCV(max_iter=3500, cv=5, random_state=seed)#, solver='newton-cg')\n",
    "    log_cv.fit(X_train, y_train)\n",
    "    lista=log_cv.coef_\n",
    "    flattened = [val for sublist in lista for val in sublist]\n",
    "    coef_cv.append(flattened)"
   ]
  },
  {
   "cell_type": "markdown",
   "metadata": {},
   "source": [
    "Se convierten los diferentes coeficientes generados por cada iteración en un dataframe"
   ]
  },
  {
   "cell_type": "code",
   "execution_count": 11,
   "metadata": {},
   "outputs": [
    {
     "data": {
      "text/html": [
       "<div>\n",
       "<style scoped>\n",
       "    .dataframe tbody tr th:only-of-type {\n",
       "        vertical-align: middle;\n",
       "    }\n",
       "\n",
       "    .dataframe tbody tr th {\n",
       "        vertical-align: top;\n",
       "    }\n",
       "\n",
       "    .dataframe thead th {\n",
       "        text-align: right;\n",
       "    }\n",
       "</style>\n",
       "<table border=\"1\" class=\"dataframe\">\n",
       "  <thead>\n",
       "    <tr style=\"text-align: right;\">\n",
       "      <th></th>\n",
       "      <th>0</th>\n",
       "      <th>1</th>\n",
       "      <th>2</th>\n",
       "      <th>3</th>\n",
       "      <th>4</th>\n",
       "      <th>5</th>\n",
       "      <th>6</th>\n",
       "      <th>7</th>\n",
       "      <th>8</th>\n",
       "      <th>9</th>\n",
       "      <th>...</th>\n",
       "      <th>51</th>\n",
       "      <th>52</th>\n",
       "      <th>53</th>\n",
       "      <th>54</th>\n",
       "      <th>55</th>\n",
       "      <th>56</th>\n",
       "      <th>57</th>\n",
       "      <th>58</th>\n",
       "      <th>59</th>\n",
       "      <th>60</th>\n",
       "    </tr>\n",
       "  </thead>\n",
       "  <tbody>\n",
       "    <tr>\n",
       "      <th>3</th>\n",
       "      <td>0.030838</td>\n",
       "      <td>0.000089</td>\n",
       "      <td>0.193961</td>\n",
       "      <td>-0.025652</td>\n",
       "      <td>-0.029435</td>\n",
       "      <td>0.083539</td>\n",
       "      <td>-0.002745</td>\n",
       "      <td>0.370676</td>\n",
       "      <td>0.215577</td>\n",
       "      <td>-0.058462</td>\n",
       "      <td>...</td>\n",
       "      <td>-0.237188</td>\n",
       "      <td>0.157446</td>\n",
       "      <td>-0.000176</td>\n",
       "      <td>-0.052285</td>\n",
       "      <td>-0.041904</td>\n",
       "      <td>0.047121</td>\n",
       "      <td>0.076275</td>\n",
       "      <td>-0.123519</td>\n",
       "      <td>0.054529</td>\n",
       "      <td>-0.101773</td>\n",
       "    </tr>\n",
       "    <tr>\n",
       "      <th>2</th>\n",
       "      <td>0.028889</td>\n",
       "      <td>0.000047</td>\n",
       "      <td>0.150371</td>\n",
       "      <td>-0.007689</td>\n",
       "      <td>-0.009195</td>\n",
       "      <td>0.012114</td>\n",
       "      <td>0.024949</td>\n",
       "      <td>0.324972</td>\n",
       "      <td>0.231364</td>\n",
       "      <td>-0.005570</td>\n",
       "      <td>...</td>\n",
       "      <td>-0.203564</td>\n",
       "      <td>0.017305</td>\n",
       "      <td>0.012014</td>\n",
       "      <td>-0.058645</td>\n",
       "      <td>0.002519</td>\n",
       "      <td>-0.007050</td>\n",
       "      <td>0.016823</td>\n",
       "      <td>-0.067985</td>\n",
       "      <td>0.024300</td>\n",
       "      <td>-0.075463</td>\n",
       "    </tr>\n",
       "    <tr>\n",
       "      <th>5</th>\n",
       "      <td>0.028211</td>\n",
       "      <td>0.000039</td>\n",
       "      <td>0.074683</td>\n",
       "      <td>0.053966</td>\n",
       "      <td>-0.027575</td>\n",
       "      <td>0.014395</td>\n",
       "      <td>0.002814</td>\n",
       "      <td>0.127459</td>\n",
       "      <td>0.058789</td>\n",
       "      <td>-0.014969</td>\n",
       "      <td>...</td>\n",
       "      <td>-0.015085</td>\n",
       "      <td>-0.008194</td>\n",
       "      <td>-0.004336</td>\n",
       "      <td>0.007865</td>\n",
       "      <td>-0.005745</td>\n",
       "      <td>-0.006137</td>\n",
       "      <td>0.022769</td>\n",
       "      <td>-0.031122</td>\n",
       "      <td>0.000734</td>\n",
       "      <td>-0.009087</td>\n",
       "    </tr>\n",
       "    <tr>\n",
       "      <th>1</th>\n",
       "      <td>0.027416</td>\n",
       "      <td>0.000084</td>\n",
       "      <td>0.256634</td>\n",
       "      <td>0.014117</td>\n",
       "      <td>-0.006089</td>\n",
       "      <td>-0.105665</td>\n",
       "      <td>0.103281</td>\n",
       "      <td>0.658725</td>\n",
       "      <td>0.282622</td>\n",
       "      <td>-0.279226</td>\n",
       "      <td>...</td>\n",
       "      <td>-0.522282</td>\n",
       "      <td>0.049590</td>\n",
       "      <td>0.160462</td>\n",
       "      <td>-0.136283</td>\n",
       "      <td>-0.014648</td>\n",
       "      <td>-0.220108</td>\n",
       "      <td>0.180473</td>\n",
       "      <td>-0.391051</td>\n",
       "      <td>0.105148</td>\n",
       "      <td>-0.315726</td>\n",
       "    </tr>\n",
       "    <tr>\n",
       "      <th>6</th>\n",
       "      <td>0.024721</td>\n",
       "      <td>0.000133</td>\n",
       "      <td>0.316414</td>\n",
       "      <td>0.090735</td>\n",
       "      <td>-0.005285</td>\n",
       "      <td>0.037841</td>\n",
       "      <td>0.081012</td>\n",
       "      <td>0.544477</td>\n",
       "      <td>0.102231</td>\n",
       "      <td>-0.121925</td>\n",
       "      <td>...</td>\n",
       "      <td>-0.255467</td>\n",
       "      <td>-0.161235</td>\n",
       "      <td>0.049767</td>\n",
       "      <td>-0.181790</td>\n",
       "      <td>-0.257493</td>\n",
       "      <td>0.120206</td>\n",
       "      <td>0.055004</td>\n",
       "      <td>-0.324314</td>\n",
       "      <td>0.258504</td>\n",
       "      <td>-0.527813</td>\n",
       "    </tr>\n",
       "    <tr>\n",
       "      <th>7</th>\n",
       "      <td>0.022686</td>\n",
       "      <td>0.000066</td>\n",
       "      <td>0.237550</td>\n",
       "      <td>0.038507</td>\n",
       "      <td>-0.010659</td>\n",
       "      <td>-0.078621</td>\n",
       "      <td>0.059714</td>\n",
       "      <td>0.491019</td>\n",
       "      <td>0.232403</td>\n",
       "      <td>-0.091901</td>\n",
       "      <td>...</td>\n",
       "      <td>-0.411805</td>\n",
       "      <td>0.026960</td>\n",
       "      <td>-0.017696</td>\n",
       "      <td>-0.083584</td>\n",
       "      <td>-0.006142</td>\n",
       "      <td>-0.041670</td>\n",
       "      <td>0.060360</td>\n",
       "      <td>-0.209452</td>\n",
       "      <td>0.237235</td>\n",
       "      <td>-0.386327</td>\n",
       "    </tr>\n",
       "    <tr>\n",
       "      <th>8</th>\n",
       "      <td>0.035545</td>\n",
       "      <td>0.000035</td>\n",
       "      <td>0.222275</td>\n",
       "      <td>0.000027</td>\n",
       "      <td>-0.002737</td>\n",
       "      <td>0.011826</td>\n",
       "      <td>0.206038</td>\n",
       "      <td>0.754294</td>\n",
       "      <td>0.035454</td>\n",
       "      <td>-0.074459</td>\n",
       "      <td>...</td>\n",
       "      <td>-0.394834</td>\n",
       "      <td>0.121537</td>\n",
       "      <td>-0.156455</td>\n",
       "      <td>0.110553</td>\n",
       "      <td>-0.216781</td>\n",
       "      <td>0.084954</td>\n",
       "      <td>-0.126215</td>\n",
       "      <td>-0.051515</td>\n",
       "      <td>0.168346</td>\n",
       "      <td>-0.346076</td>\n",
       "    </tr>\n",
       "    <tr>\n",
       "      <th>4</th>\n",
       "      <td>0.037144</td>\n",
       "      <td>0.000041</td>\n",
       "      <td>0.197983</td>\n",
       "      <td>-0.050814</td>\n",
       "      <td>-0.020472</td>\n",
       "      <td>0.053905</td>\n",
       "      <td>0.209541</td>\n",
       "      <td>0.652470</td>\n",
       "      <td>0.390548</td>\n",
       "      <td>-0.164432</td>\n",
       "      <td>...</td>\n",
       "      <td>-0.243660</td>\n",
       "      <td>-0.107634</td>\n",
       "      <td>-0.121575</td>\n",
       "      <td>-0.035868</td>\n",
       "      <td>-0.005736</td>\n",
       "      <td>-0.011278</td>\n",
       "      <td>0.044917</td>\n",
       "      <td>-0.219374</td>\n",
       "      <td>0.129971</td>\n",
       "      <td>-0.304428</td>\n",
       "    </tr>\n",
       "    <tr>\n",
       "      <th>0</th>\n",
       "      <td>0.037761</td>\n",
       "      <td>0.000084</td>\n",
       "      <td>0.299779</td>\n",
       "      <td>0.036120</td>\n",
       "      <td>-0.014560</td>\n",
       "      <td>0.020965</td>\n",
       "      <td>0.395484</td>\n",
       "      <td>0.680059</td>\n",
       "      <td>0.113037</td>\n",
       "      <td>-0.125455</td>\n",
       "      <td>...</td>\n",
       "      <td>-0.184593</td>\n",
       "      <td>-0.221245</td>\n",
       "      <td>-0.148140</td>\n",
       "      <td>-0.204136</td>\n",
       "      <td>-0.180788</td>\n",
       "      <td>0.146436</td>\n",
       "      <td>-0.078905</td>\n",
       "      <td>-0.307723</td>\n",
       "      <td>0.314323</td>\n",
       "      <td>-0.700951</td>\n",
       "    </tr>\n",
       "    <tr>\n",
       "      <th>9</th>\n",
       "      <td>0.036918</td>\n",
       "      <td>0.000052</td>\n",
       "      <td>0.164685</td>\n",
       "      <td>-0.065809</td>\n",
       "      <td>-0.013694</td>\n",
       "      <td>0.140370</td>\n",
       "      <td>-0.093081</td>\n",
       "      <td>0.662591</td>\n",
       "      <td>0.172303</td>\n",
       "      <td>0.013673</td>\n",
       "      <td>...</td>\n",
       "      <td>-0.207115</td>\n",
       "      <td>0.069456</td>\n",
       "      <td>-0.039019</td>\n",
       "      <td>-0.055415</td>\n",
       "      <td>0.016372</td>\n",
       "      <td>-0.105249</td>\n",
       "      <td>-0.010816</td>\n",
       "      <td>-0.172495</td>\n",
       "      <td>0.174308</td>\n",
       "      <td>-0.357619</td>\n",
       "    </tr>\n",
       "  </tbody>\n",
       "</table>\n",
       "<p>10 rows × 61 columns</p>\n",
       "</div>"
      ],
      "text/plain": [
       "         0         1         2         3         4         5         6   \\\n",
       "3  0.030838  0.000089  0.193961 -0.025652 -0.029435  0.083539 -0.002745   \n",
       "2  0.028889  0.000047  0.150371 -0.007689 -0.009195  0.012114  0.024949   \n",
       "5  0.028211  0.000039  0.074683  0.053966 -0.027575  0.014395  0.002814   \n",
       "1  0.027416  0.000084  0.256634  0.014117 -0.006089 -0.105665  0.103281   \n",
       "6  0.024721  0.000133  0.316414  0.090735 -0.005285  0.037841  0.081012   \n",
       "7  0.022686  0.000066  0.237550  0.038507 -0.010659 -0.078621  0.059714   \n",
       "8  0.035545  0.000035  0.222275  0.000027 -0.002737  0.011826  0.206038   \n",
       "4  0.037144  0.000041  0.197983 -0.050814 -0.020472  0.053905  0.209541   \n",
       "0  0.037761  0.000084  0.299779  0.036120 -0.014560  0.020965  0.395484   \n",
       "9  0.036918  0.000052  0.164685 -0.065809 -0.013694  0.140370 -0.093081   \n",
       "\n",
       "         7         8         9   ...        51        52        53        54  \\\n",
       "3  0.370676  0.215577 -0.058462  ... -0.237188  0.157446 -0.000176 -0.052285   \n",
       "2  0.324972  0.231364 -0.005570  ... -0.203564  0.017305  0.012014 -0.058645   \n",
       "5  0.127459  0.058789 -0.014969  ... -0.015085 -0.008194 -0.004336  0.007865   \n",
       "1  0.658725  0.282622 -0.279226  ... -0.522282  0.049590  0.160462 -0.136283   \n",
       "6  0.544477  0.102231 -0.121925  ... -0.255467 -0.161235  0.049767 -0.181790   \n",
       "7  0.491019  0.232403 -0.091901  ... -0.411805  0.026960 -0.017696 -0.083584   \n",
       "8  0.754294  0.035454 -0.074459  ... -0.394834  0.121537 -0.156455  0.110553   \n",
       "4  0.652470  0.390548 -0.164432  ... -0.243660 -0.107634 -0.121575 -0.035868   \n",
       "0  0.680059  0.113037 -0.125455  ... -0.184593 -0.221245 -0.148140 -0.204136   \n",
       "9  0.662591  0.172303  0.013673  ... -0.207115  0.069456 -0.039019 -0.055415   \n",
       "\n",
       "         55        56        57        58        59        60  \n",
       "3 -0.041904  0.047121  0.076275 -0.123519  0.054529 -0.101773  \n",
       "2  0.002519 -0.007050  0.016823 -0.067985  0.024300 -0.075463  \n",
       "5 -0.005745 -0.006137  0.022769 -0.031122  0.000734 -0.009087  \n",
       "1 -0.014648 -0.220108  0.180473 -0.391051  0.105148 -0.315726  \n",
       "6 -0.257493  0.120206  0.055004 -0.324314  0.258504 -0.527813  \n",
       "7 -0.006142 -0.041670  0.060360 -0.209452  0.237235 -0.386327  \n",
       "8 -0.216781  0.084954 -0.126215 -0.051515  0.168346 -0.346076  \n",
       "4 -0.005736 -0.011278  0.044917 -0.219374  0.129971 -0.304428  \n",
       "0 -0.180788  0.146436 -0.078905 -0.307723  0.314323 -0.700951  \n",
       "9  0.016372 -0.105249 -0.010816 -0.172495  0.174308 -0.357619  \n",
       "\n",
       "[10 rows x 61 columns]"
      ]
     },
     "execution_count": 11,
     "metadata": {},
     "output_type": "execute_result"
    }
   ],
   "source": [
    "data_coef = pd.DataFrame(coef_cv)\n",
    "data_coef.sample(10)"
   ]
  },
  {
   "cell_type": "markdown",
   "metadata": {},
   "source": [
    "Se realiza el calculo de la varianza para determinar si efectivamente el modelo es estable ante distinos sets de entrenamiento"
   ]
  },
  {
   "cell_type": "code",
   "execution_count": 12,
   "metadata": {},
   "outputs": [
    {
     "data": {
      "text/plain": [
       "0     3.030970e-05\n",
       "1     9.467184e-10\n",
       "2     5.196605e-03\n",
       "3     2.340489e-03\n",
       "4     8.493893e-05\n",
       "          ...     \n",
       "56    1.186681e-02\n",
       "57    7.150703e-03\n",
       "58    1.528840e-02\n",
       "59    1.075717e-02\n",
       "60    4.428833e-02\n",
       "Length: 61, dtype: float64"
      ]
     },
     "execution_count": 12,
     "metadata": {},
     "output_type": "execute_result"
    }
   ],
   "source": [
    "data_coef.var(axis=0)"
   ]
  },
  {
   "cell_type": "code",
   "execution_count": 13,
   "metadata": {},
   "outputs": [
    {
     "data": {
      "text/plain": [
       "0.01932869977404604"
      ]
     },
     "execution_count": 13,
     "metadata": {},
     "output_type": "execute_result"
    }
   ],
   "source": [
    "data_coef.var(axis=0).mean()"
   ]
  },
  {
   "cell_type": "markdown",
   "metadata": {},
   "source": [
    "Utilizando Folds y modificando el solver al planteado inicialmente y utilizar menos iteraciones"
   ]
  },
  {
   "cell_type": "code",
   "execution_count": 14,
   "metadata": {},
   "outputs": [],
   "source": [
    "from sklearn.model_selection import KFold\n",
    "import numpy as np\n",
    "from sklearn.metrics import accuracy_score\n",
    "\n",
    "#Semillas controladas\n",
    "random_states = [43, 12, 56, 32, 71, 73, 47, 18, 24, 19]\n",
    "i=0\n",
    "coef = [];flattened=[]\n",
    "for seed in random_states:\n",
    "    log = LogisticRegression(solver=\"newton-cg\", max_iter=100)\n",
    "    kf = KFold(n_splits=5, random_state=seed, shuffle=True)\n",
    "\n",
    "    for train_index, test_index in kf.split(credit_1):\n",
    "        X_train = credit_1.iloc[train_index].iloc[:,1:62]\n",
    "        X_test = credit_1.iloc[test_index].iloc[:,1:62]\n",
    "        y_train = credit_1.iloc[train_index]['Default']\n",
    "        y_test = credit_1.iloc[test_index]['Default']\n",
    "\n",
    "        log.fit(X_train, y_train) #Training the model\n",
    "        flattened.append(log_cv.coef_)\n",
    "        flattened = [val for sublist in lista for val in sublist]\n",
    "        coef.append(flattened)\n"
   ]
  },
  {
   "cell_type": "code",
   "execution_count": 15,
   "metadata": {},
   "outputs": [
    {
     "data": {
      "text/html": [
       "<div>\n",
       "<style scoped>\n",
       "    .dataframe tbody tr th:only-of-type {\n",
       "        vertical-align: middle;\n",
       "    }\n",
       "\n",
       "    .dataframe tbody tr th {\n",
       "        vertical-align: top;\n",
       "    }\n",
       "\n",
       "    .dataframe thead th {\n",
       "        text-align: right;\n",
       "    }\n",
       "</style>\n",
       "<table border=\"1\" class=\"dataframe\">\n",
       "  <thead>\n",
       "    <tr style=\"text-align: right;\">\n",
       "      <th></th>\n",
       "      <th>0</th>\n",
       "      <th>1</th>\n",
       "      <th>2</th>\n",
       "      <th>3</th>\n",
       "      <th>4</th>\n",
       "      <th>5</th>\n",
       "      <th>6</th>\n",
       "      <th>7</th>\n",
       "      <th>8</th>\n",
       "      <th>9</th>\n",
       "      <th>...</th>\n",
       "      <th>51</th>\n",
       "      <th>52</th>\n",
       "      <th>53</th>\n",
       "      <th>54</th>\n",
       "      <th>55</th>\n",
       "      <th>56</th>\n",
       "      <th>57</th>\n",
       "      <th>58</th>\n",
       "      <th>59</th>\n",
       "      <th>60</th>\n",
       "    </tr>\n",
       "  </thead>\n",
       "  <tbody>\n",
       "    <tr>\n",
       "      <th>4</th>\n",
       "      <td>0.037144</td>\n",
       "      <td>0.000041</td>\n",
       "      <td>0.197983</td>\n",
       "      <td>-0.050814</td>\n",
       "      <td>-0.020472</td>\n",
       "      <td>0.053905</td>\n",
       "      <td>0.209541</td>\n",
       "      <td>0.652470</td>\n",
       "      <td>0.390548</td>\n",
       "      <td>-0.164432</td>\n",
       "      <td>...</td>\n",
       "      <td>-0.243660</td>\n",
       "      <td>-0.107634</td>\n",
       "      <td>-0.121575</td>\n",
       "      <td>-0.035868</td>\n",
       "      <td>-0.005736</td>\n",
       "      <td>-0.011278</td>\n",
       "      <td>0.044917</td>\n",
       "      <td>-0.219374</td>\n",
       "      <td>0.129971</td>\n",
       "      <td>-0.304428</td>\n",
       "    </tr>\n",
       "    <tr>\n",
       "      <th>2</th>\n",
       "      <td>0.028889</td>\n",
       "      <td>0.000047</td>\n",
       "      <td>0.150371</td>\n",
       "      <td>-0.007689</td>\n",
       "      <td>-0.009195</td>\n",
       "      <td>0.012114</td>\n",
       "      <td>0.024949</td>\n",
       "      <td>0.324972</td>\n",
       "      <td>0.231364</td>\n",
       "      <td>-0.005570</td>\n",
       "      <td>...</td>\n",
       "      <td>-0.203564</td>\n",
       "      <td>0.017305</td>\n",
       "      <td>0.012014</td>\n",
       "      <td>-0.058645</td>\n",
       "      <td>0.002519</td>\n",
       "      <td>-0.007050</td>\n",
       "      <td>0.016823</td>\n",
       "      <td>-0.067985</td>\n",
       "      <td>0.024300</td>\n",
       "      <td>-0.075463</td>\n",
       "    </tr>\n",
       "    <tr>\n",
       "      <th>1</th>\n",
       "      <td>0.027416</td>\n",
       "      <td>0.000084</td>\n",
       "      <td>0.256634</td>\n",
       "      <td>0.014117</td>\n",
       "      <td>-0.006089</td>\n",
       "      <td>-0.105665</td>\n",
       "      <td>0.103281</td>\n",
       "      <td>0.658725</td>\n",
       "      <td>0.282622</td>\n",
       "      <td>-0.279226</td>\n",
       "      <td>...</td>\n",
       "      <td>-0.522282</td>\n",
       "      <td>0.049590</td>\n",
       "      <td>0.160462</td>\n",
       "      <td>-0.136283</td>\n",
       "      <td>-0.014648</td>\n",
       "      <td>-0.220108</td>\n",
       "      <td>0.180473</td>\n",
       "      <td>-0.391051</td>\n",
       "      <td>0.105148</td>\n",
       "      <td>-0.315726</td>\n",
       "    </tr>\n",
       "    <tr>\n",
       "      <th>3</th>\n",
       "      <td>0.030838</td>\n",
       "      <td>0.000089</td>\n",
       "      <td>0.193961</td>\n",
       "      <td>-0.025652</td>\n",
       "      <td>-0.029435</td>\n",
       "      <td>0.083539</td>\n",
       "      <td>-0.002745</td>\n",
       "      <td>0.370676</td>\n",
       "      <td>0.215577</td>\n",
       "      <td>-0.058462</td>\n",
       "      <td>...</td>\n",
       "      <td>-0.237188</td>\n",
       "      <td>0.157446</td>\n",
       "      <td>-0.000176</td>\n",
       "      <td>-0.052285</td>\n",
       "      <td>-0.041904</td>\n",
       "      <td>0.047121</td>\n",
       "      <td>0.076275</td>\n",
       "      <td>-0.123519</td>\n",
       "      <td>0.054529</td>\n",
       "      <td>-0.101773</td>\n",
       "    </tr>\n",
       "    <tr>\n",
       "      <th>6</th>\n",
       "      <td>0.024721</td>\n",
       "      <td>0.000133</td>\n",
       "      <td>0.316414</td>\n",
       "      <td>0.090735</td>\n",
       "      <td>-0.005285</td>\n",
       "      <td>0.037841</td>\n",
       "      <td>0.081012</td>\n",
       "      <td>0.544477</td>\n",
       "      <td>0.102231</td>\n",
       "      <td>-0.121925</td>\n",
       "      <td>...</td>\n",
       "      <td>-0.255467</td>\n",
       "      <td>-0.161235</td>\n",
       "      <td>0.049767</td>\n",
       "      <td>-0.181790</td>\n",
       "      <td>-0.257493</td>\n",
       "      <td>0.120206</td>\n",
       "      <td>0.055004</td>\n",
       "      <td>-0.324314</td>\n",
       "      <td>0.258504</td>\n",
       "      <td>-0.527813</td>\n",
       "    </tr>\n",
       "    <tr>\n",
       "      <th>0</th>\n",
       "      <td>0.037761</td>\n",
       "      <td>0.000084</td>\n",
       "      <td>0.299779</td>\n",
       "      <td>0.036120</td>\n",
       "      <td>-0.014560</td>\n",
       "      <td>0.020965</td>\n",
       "      <td>0.395484</td>\n",
       "      <td>0.680059</td>\n",
       "      <td>0.113037</td>\n",
       "      <td>-0.125455</td>\n",
       "      <td>...</td>\n",
       "      <td>-0.184593</td>\n",
       "      <td>-0.221245</td>\n",
       "      <td>-0.148140</td>\n",
       "      <td>-0.204136</td>\n",
       "      <td>-0.180788</td>\n",
       "      <td>0.146436</td>\n",
       "      <td>-0.078905</td>\n",
       "      <td>-0.307723</td>\n",
       "      <td>0.314323</td>\n",
       "      <td>-0.700951</td>\n",
       "    </tr>\n",
       "    <tr>\n",
       "      <th>7</th>\n",
       "      <td>0.022686</td>\n",
       "      <td>0.000066</td>\n",
       "      <td>0.237550</td>\n",
       "      <td>0.038507</td>\n",
       "      <td>-0.010659</td>\n",
       "      <td>-0.078621</td>\n",
       "      <td>0.059714</td>\n",
       "      <td>0.491019</td>\n",
       "      <td>0.232403</td>\n",
       "      <td>-0.091901</td>\n",
       "      <td>...</td>\n",
       "      <td>-0.411805</td>\n",
       "      <td>0.026960</td>\n",
       "      <td>-0.017696</td>\n",
       "      <td>-0.083584</td>\n",
       "      <td>-0.006142</td>\n",
       "      <td>-0.041670</td>\n",
       "      <td>0.060360</td>\n",
       "      <td>-0.209452</td>\n",
       "      <td>0.237235</td>\n",
       "      <td>-0.386327</td>\n",
       "    </tr>\n",
       "    <tr>\n",
       "      <th>5</th>\n",
       "      <td>0.028211</td>\n",
       "      <td>0.000039</td>\n",
       "      <td>0.074683</td>\n",
       "      <td>0.053966</td>\n",
       "      <td>-0.027575</td>\n",
       "      <td>0.014395</td>\n",
       "      <td>0.002814</td>\n",
       "      <td>0.127459</td>\n",
       "      <td>0.058789</td>\n",
       "      <td>-0.014969</td>\n",
       "      <td>...</td>\n",
       "      <td>-0.015085</td>\n",
       "      <td>-0.008194</td>\n",
       "      <td>-0.004336</td>\n",
       "      <td>0.007865</td>\n",
       "      <td>-0.005745</td>\n",
       "      <td>-0.006137</td>\n",
       "      <td>0.022769</td>\n",
       "      <td>-0.031122</td>\n",
       "      <td>0.000734</td>\n",
       "      <td>-0.009087</td>\n",
       "    </tr>\n",
       "    <tr>\n",
       "      <th>9</th>\n",
       "      <td>0.036918</td>\n",
       "      <td>0.000052</td>\n",
       "      <td>0.164685</td>\n",
       "      <td>-0.065809</td>\n",
       "      <td>-0.013694</td>\n",
       "      <td>0.140370</td>\n",
       "      <td>-0.093081</td>\n",
       "      <td>0.662591</td>\n",
       "      <td>0.172303</td>\n",
       "      <td>0.013673</td>\n",
       "      <td>...</td>\n",
       "      <td>-0.207115</td>\n",
       "      <td>0.069456</td>\n",
       "      <td>-0.039019</td>\n",
       "      <td>-0.055415</td>\n",
       "      <td>0.016372</td>\n",
       "      <td>-0.105249</td>\n",
       "      <td>-0.010816</td>\n",
       "      <td>-0.172495</td>\n",
       "      <td>0.174308</td>\n",
       "      <td>-0.357619</td>\n",
       "    </tr>\n",
       "    <tr>\n",
       "      <th>8</th>\n",
       "      <td>0.035545</td>\n",
       "      <td>0.000035</td>\n",
       "      <td>0.222275</td>\n",
       "      <td>0.000027</td>\n",
       "      <td>-0.002737</td>\n",
       "      <td>0.011826</td>\n",
       "      <td>0.206038</td>\n",
       "      <td>0.754294</td>\n",
       "      <td>0.035454</td>\n",
       "      <td>-0.074459</td>\n",
       "      <td>...</td>\n",
       "      <td>-0.394834</td>\n",
       "      <td>0.121537</td>\n",
       "      <td>-0.156455</td>\n",
       "      <td>0.110553</td>\n",
       "      <td>-0.216781</td>\n",
       "      <td>0.084954</td>\n",
       "      <td>-0.126215</td>\n",
       "      <td>-0.051515</td>\n",
       "      <td>0.168346</td>\n",
       "      <td>-0.346076</td>\n",
       "    </tr>\n",
       "  </tbody>\n",
       "</table>\n",
       "<p>10 rows × 61 columns</p>\n",
       "</div>"
      ],
      "text/plain": [
       "         0         1         2         3         4         5         6   \\\n",
       "4  0.037144  0.000041  0.197983 -0.050814 -0.020472  0.053905  0.209541   \n",
       "2  0.028889  0.000047  0.150371 -0.007689 -0.009195  0.012114  0.024949   \n",
       "1  0.027416  0.000084  0.256634  0.014117 -0.006089 -0.105665  0.103281   \n",
       "3  0.030838  0.000089  0.193961 -0.025652 -0.029435  0.083539 -0.002745   \n",
       "6  0.024721  0.000133  0.316414  0.090735 -0.005285  0.037841  0.081012   \n",
       "0  0.037761  0.000084  0.299779  0.036120 -0.014560  0.020965  0.395484   \n",
       "7  0.022686  0.000066  0.237550  0.038507 -0.010659 -0.078621  0.059714   \n",
       "5  0.028211  0.000039  0.074683  0.053966 -0.027575  0.014395  0.002814   \n",
       "9  0.036918  0.000052  0.164685 -0.065809 -0.013694  0.140370 -0.093081   \n",
       "8  0.035545  0.000035  0.222275  0.000027 -0.002737  0.011826  0.206038   \n",
       "\n",
       "         7         8         9   ...        51        52        53        54  \\\n",
       "4  0.652470  0.390548 -0.164432  ... -0.243660 -0.107634 -0.121575 -0.035868   \n",
       "2  0.324972  0.231364 -0.005570  ... -0.203564  0.017305  0.012014 -0.058645   \n",
       "1  0.658725  0.282622 -0.279226  ... -0.522282  0.049590  0.160462 -0.136283   \n",
       "3  0.370676  0.215577 -0.058462  ... -0.237188  0.157446 -0.000176 -0.052285   \n",
       "6  0.544477  0.102231 -0.121925  ... -0.255467 -0.161235  0.049767 -0.181790   \n",
       "0  0.680059  0.113037 -0.125455  ... -0.184593 -0.221245 -0.148140 -0.204136   \n",
       "7  0.491019  0.232403 -0.091901  ... -0.411805  0.026960 -0.017696 -0.083584   \n",
       "5  0.127459  0.058789 -0.014969  ... -0.015085 -0.008194 -0.004336  0.007865   \n",
       "9  0.662591  0.172303  0.013673  ... -0.207115  0.069456 -0.039019 -0.055415   \n",
       "8  0.754294  0.035454 -0.074459  ... -0.394834  0.121537 -0.156455  0.110553   \n",
       "\n",
       "         55        56        57        58        59        60  \n",
       "4 -0.005736 -0.011278  0.044917 -0.219374  0.129971 -0.304428  \n",
       "2  0.002519 -0.007050  0.016823 -0.067985  0.024300 -0.075463  \n",
       "1 -0.014648 -0.220108  0.180473 -0.391051  0.105148 -0.315726  \n",
       "3 -0.041904  0.047121  0.076275 -0.123519  0.054529 -0.101773  \n",
       "6 -0.257493  0.120206  0.055004 -0.324314  0.258504 -0.527813  \n",
       "0 -0.180788  0.146436 -0.078905 -0.307723  0.314323 -0.700951  \n",
       "7 -0.006142 -0.041670  0.060360 -0.209452  0.237235 -0.386327  \n",
       "5 -0.005745 -0.006137  0.022769 -0.031122  0.000734 -0.009087  \n",
       "9  0.016372 -0.105249 -0.010816 -0.172495  0.174308 -0.357619  \n",
       "8 -0.216781  0.084954 -0.126215 -0.051515  0.168346 -0.346076  \n",
       "\n",
       "[10 rows x 61 columns]"
      ]
     },
     "execution_count": 15,
     "metadata": {},
     "output_type": "execute_result"
    }
   ],
   "source": [
    "data_coef = pd.DataFrame(coef_cv)\n",
    "data_coef.sample(10)"
   ]
  },
  {
   "cell_type": "code",
   "execution_count": 16,
   "metadata": {},
   "outputs": [
    {
     "data": {
      "text/plain": [
       "0     3.030970e-05\n",
       "1     9.467184e-10\n",
       "2     5.196605e-03\n",
       "3     2.340489e-03\n",
       "4     8.493893e-05\n",
       "          ...     \n",
       "56    1.186681e-02\n",
       "57    7.150703e-03\n",
       "58    1.528840e-02\n",
       "59    1.075717e-02\n",
       "60    4.428833e-02\n",
       "Length: 61, dtype: float64"
      ]
     },
     "execution_count": 16,
     "metadata": {},
     "output_type": "execute_result"
    }
   ],
   "source": [
    "data_coef.var(axis=0)"
   ]
  },
  {
   "cell_type": "code",
   "execution_count": 17,
   "metadata": {},
   "outputs": [
    {
     "data": {
      "text/plain": [
       "0.01932869977404604"
      ]
     },
     "execution_count": 17,
     "metadata": {},
     "output_type": "execute_result"
    }
   ],
   "source": [
    "data_coef.var(axis=0).mean()"
   ]
  },
  {
   "cell_type": "markdown",
   "metadata": {},
   "source": [
    "## 5. Evaluacion de los modelos\n",
    "Hasta ahora hemos estimado los parámetros del modelo logístico. Pero no hemos examinado si la solución es satisfactoria. A continuación examinemos el desempeño de los modelos a partir de su matriz de confusión: "
   ]
  },
  {
   "cell_type": "code",
   "execution_count": 96,
   "metadata": {},
   "outputs": [
    {
     "name": "stdout",
     "output_type": "stream",
     "text": [
      "[[242  38]\n",
      " [ 58  62]]\n"
     ]
    }
   ],
   "source": [
    "from sklearn.metrics import confusion_matrix\n",
    "\n",
    "# Calculamos la matriz de confusión para la prediccion\n",
    "cm_log = confusion_matrix(y_test, y_pred)\n",
    "np.set_printoptions(precision=2)\n",
    "print(cm_log)"
   ]
  },
  {
   "cell_type": "markdown",
   "metadata": {},
   "source": [
    "Podemos mejorar esta visualización, añadiendo etiquetas para lo que es predicción y lo que es observado en la muestra:"
   ]
  },
  {
   "cell_type": "code",
   "execution_count": 64,
   "metadata": {},
   "outputs": [],
   "source": [
    "def plot_confusion_matrix(cm, title='Matriz de confusión', cmap=plt.cm.Blues):\n",
    "    plt.imshow(cm, interpolation='nearest', cmap=cmap)\n",
    "    plt.title(title)\n",
    "    plt.colorbar()\n",
    "    tick_marks = np.arange(2)\n",
    "    plt.xticks(tick_marks, labels, rotation=45)\n",
    "    plt.yticks(tick_marks, labels)\n",
    "    plt.tight_layout()\n",
    "    plt.ylabel('Etiqueta verdadera')\n",
    "    plt.xlabel('Etiqueta estimada')"
   ]
  },
  {
   "cell_type": "code",
   "execution_count": 65,
   "metadata": {},
   "outputs": [
    {
     "data": {
      "image/png": "[encoded data removed]",
      "text/plain": [
       "<Figure size 432x288 with 2 Axes>"
      ]
     },
     "metadata": {
      "needs_background": "light"
     },
     "output_type": "display_data"
    }
   ],
   "source": [
    "labels=['Bueno (Default=0)' ,'Malo (Default=1)']\n",
    "\n",
    "plt.figure()\n",
    "plot_confusion_matrix(cm_log)"
   ]
  },
  {
   "cell_type": "markdown",
   "metadata": {},
   "source": [
    "Podemos resumir estos resultados, por ejemplo mediante la métrica de *exactitud* o *accuracy*, la cual mide la proporción de aciertos sobre el total de casos.\n",
    "\n",
    "Para entrenamiento:"
   ]
  },
  {
   "cell_type": "code",
   "execution_count": 97,
   "metadata": {},
   "outputs": [
    {
     "data": {
      "text/plain": [
       "0.785"
      ]
     },
     "execution_count": 97,
     "metadata": {},
     "output_type": "execute_result"
    }
   ],
   "source": [
    "float((y_tr == y_train).mean())"
   ]
  },
  {
   "cell_type": "markdown",
   "metadata": {},
   "source": [
    "Para predicción:"
   ]
  },
  {
   "cell_type": "code",
   "execution_count": 98,
   "metadata": {},
   "outputs": [
    {
     "data": {
      "text/plain": [
       "0.76"
      ]
     },
     "execution_count": 98,
     "metadata": {},
     "output_type": "execute_result"
    }
   ],
   "source": [
    "float((y_pred == y_test).mean())"
   ]
  },
  {
   "cell_type": "markdown",
   "metadata": {},
   "source": [
    "### Ejercicio 5.1\n",
    "\n",
    "Calcule una métrica de desempeño que tome en cuenta el coste de errar, donde el coste de predecir que un mal cliente es bueno es 5 veces más alto que el de confundir un buen cliente con uno malo."
   ]
  },
  {
   "cell_type": "markdown",
   "metadata": {},
   "source": [
    "-----------"
   ]
  },
  {
   "cell_type": "markdown",
   "metadata": {},
   "source": [
    "Calculamos la matriz de confusión para la prediccion en entrenamiento"
   ]
  },
  {
   "cell_type": "code",
   "execution_count": 113,
   "metadata": {},
   "outputs": [],
   "source": [
    "log = LogisticRegression(solver=\"newton-cg\", max_iter=100)\n",
    "X_train, X_test, y_train, y_test = model_selection.train_test_split(X, Y, test_size=0.4, random_state=42, stratify=Y)\n",
    "log.fit(X_train, y_train)\n",
    "y_tr = log.predict(X_train)\n",
    "y_pred = log.predict(X_test)"
   ]
  },
  {
   "cell_type": "raw",
   "metadata": {},
   "source": [
    "from sklearn.metrics import confusion_matrix\n",
    "cm_log_tr = confusion_matrix(y_test, y_pred)\n",
    "np.set_printoptions(precision=2)\n",
    "print(cm_log_tr)"
   ]
  },
  {
   "cell_type": "code",
   "execution_count": 114,
   "metadata": {},
   "outputs": [],
   "source": [
    "VP = cm_log_tr[0][0];FN=cm_log_tr[0][1]\n",
    "VN = cm_log_tr[1][1];FP=cm_log_tr[1][0]"
   ]
  },
  {
   "cell_type": "markdown",
   "metadata": {},
   "source": [
    "Utilizando la métrica de la precisión el modelo actual nos arroja una precisión de:"
   ]
  },
  {
   "cell_type": "code",
   "execution_count": 115,
   "metadata": {},
   "outputs": [
    {
     "name": "stdout",
     "output_type": "stream",
     "text": [
      "Precision = 0.76\n"
     ]
    }
   ],
   "source": [
    "print(f\"Precision = {(VP+VN)/(VP+VN+FN+FP)}\")"
   ]
  },
  {
   "cell_type": "markdown",
   "metadata": {},
   "source": [
    "Sin embargo, dada la importancia que tiene no generar falsos positivos (predecir que es No es default dado que si lo es), nos interesa una métrica que nos relacione los Falos Positivos o los Verdaderos Negativos. En ese caso, si calculamos la especificidad, que es un score que nos resalta la relación de los Verdaderos Negativos nos arroja _*0.51*_ lo cual es aleatorio"
   ]
  },
  {
   "cell_type": "code",
   "execution_count": 116,
   "metadata": {},
   "outputs": [
    {
     "name": "stdout",
     "output_type": "stream",
     "text": [
      "Especificidad = 0.5166666666666667\n"
     ]
    }
   ],
   "source": [
    "print(f\"Especificidad = {VN/(VN+FP)}\")"
   ]
  },
  {
   "cell_type": "markdown",
   "metadata": {},
   "source": [
    "Si le agregamos el componente x5 directamente a la precisión, para desbalancear la ecuación e indicar que los _FN_ son cinco veces más relevantes nos entregaría un valor aproximado al anterior"
   ]
  },
  {
   "cell_type": "code",
   "execution_count": 117,
   "metadata": {},
   "outputs": [
    {
     "name": "stdout",
     "output_type": "stream",
     "text": [
      "La métrica calculada añadiendole un peso x5 sobre los falsos positivos sería: 0.4810126582278481\n"
     ]
    }
   ],
   "source": [
    "\n",
    "m_tr=(VP+VN)/(VP+VN+FN+5*FP)\n",
    "\n",
    "print(f\"La métrica calculada añadiendole un peso x5 sobre los falsos positivos sería: {m_tr}\")"
   ]
  },
  {
   "cell_type": "markdown",
   "metadata": {},
   "source": [
    "Se elige alta Especificidad:  si se desea identificar los verdaderos negativos, o lo que es igual cuando no desea falsos positivos. Realizamos un pequeño ajuste sobre los parámetros del modelo para tener una mejor especificidad. En el parámetro _class_weight_ se especifica un _dict_ con los pesos que se desean sobre los valores del _target_ para balancear el modelo"
   ]
  },
  {
   "cell_type": "code",
   "execution_count": 119,
   "metadata": {},
   "outputs": [
    {
     "name": "stdout",
     "output_type": "stream",
     "text": [
      "Precision = 0.66\n",
      "Especificidad = 0.85\n"
     ]
    }
   ],
   "source": [
    "log = LogisticRegression(solver=\"newton-cg\", max_iter=100, class_weight={1:0.8,0:0.2})\n",
    "X_train, X_test, y_train, y_test = model_selection.train_test_split(X, Y, test_size=0.4, random_state=42, stratify=Y)\n",
    "log.fit(X_train, y_train)\n",
    "y_tr = log.predict(X_train)\n",
    "y_pred = log.predict(X_test)\n",
    "cm_log_tr = confusion_matrix(y_test, y_pred)\n",
    "np.set_printoptions(precision=2)\n",
    "VP = cm_log_tr[0][0];FN=cm_log_tr[0][1]\n",
    "VN = cm_log_tr[1][1];FP=cm_log_tr[1][0]\n",
    "print(f\"Precision = {(VP+VN)/(VP+VN+FN+FP)}\")\n",
    "print(f\"Especificidad = {VN/(VN+FP)}\")"
   ]
  },
  {
   "cell_type": "code",
   "execution_count": 120,
   "metadata": {},
   "outputs": [
    {
     "name": "stdout",
     "output_type": "stream",
     "text": [
      "              precision    recall  f1-score   support\n",
      "\n",
      "   default=0       0.90      0.58      0.70       280\n",
      "   default=1       0.46      0.85      0.60       120\n",
      "\n",
      "    accuracy                           0.66       400\n",
      "   macro avg       0.68      0.71      0.65       400\n",
      "weighted avg       0.77      0.66      0.67       400\n",
      "\n"
     ]
    }
   ],
   "source": [
    "from sklearn.metrics import classification_report\n",
    "print(classification_report(y_test, y_pred, target_names=[\"default=0\",\"default=1\"]))"
   ]
  },
  {
   "cell_type": "markdown",
   "metadata": {},
   "source": [
    "### Justicia algorítmica\n",
    "\n",
    "Veamos cómo se comporta el modelo de acuerdo con el origen (extranjero o local) del cliente. Por ejemplo, fijémonos en el balance inicial de los datos de la muestra:"
   ]
  },
  {
   "cell_type": "code",
   "execution_count": 121,
   "metadata": {},
   "outputs": [],
   "source": [
    "credit_2 = credit_1.copy()\n",
    "credit_3 = credit_2.loc[credit_2['foreign_A201'] == 1]\n",
    "X3 = credit_3.iloc[:, 1:62]\n",
    "Y3 = credit_3.iloc[:, 0]\n",
    "\n",
    "credit_4 = credit_2.loc[credit_2['foreign_A201'] == 0]\n",
    "X4 = credit_4.iloc[:, 1:62]\n",
    "Y4 = credit_4.iloc[:, 0]"
   ]
  },
  {
   "cell_type": "code",
   "execution_count": 122,
   "metadata": {},
   "outputs": [
    {
     "name": "stdout",
     "output_type": "stream",
     "text": [
      "El numero de clientes extranjeros de la muestra: 963 y los locales: 37\n"
     ]
    }
   ],
   "source": [
    "print(\"El numero de clientes extranjeros de la muestra: \" +str(X3.shape[0]) +\" y los locales: \" +str(X4.shape[0]))"
   ]
  },
  {
   "cell_type": "markdown",
   "metadata": {},
   "source": [
    "## Pregunta 5.2\n",
    "\n",
    "De los clientes locales cuantos han tenido Default?"
   ]
  },
  {
   "cell_type": "code",
   "execution_count": 123,
   "metadata": {},
   "outputs": [
    {
     "data": {
      "text/html": [
       "<div>\n",
       "<style scoped>\n",
       "    .dataframe tbody tr th:only-of-type {\n",
       "        vertical-align: middle;\n",
       "    }\n",
       "\n",
       "    .dataframe tbody tr th {\n",
       "        vertical-align: top;\n",
       "    }\n",
       "\n",
       "    .dataframe thead th {\n",
       "        text-align: right;\n",
       "    }\n",
       "</style>\n",
       "<table border=\"1\" class=\"dataframe\">\n",
       "  <thead>\n",
       "    <tr style=\"text-align: right;\">\n",
       "      <th>Default</th>\n",
       "      <th>0</th>\n",
       "      <th>1</th>\n",
       "    </tr>\n",
       "    <tr>\n",
       "      <th>foreign_A201</th>\n",
       "      <th></th>\n",
       "      <th></th>\n",
       "    </tr>\n",
       "  </thead>\n",
       "  <tbody>\n",
       "    <tr>\n",
       "      <th>0</th>\n",
       "      <td>33</td>\n",
       "      <td>4</td>\n",
       "    </tr>\n",
       "    <tr>\n",
       "      <th>1</th>\n",
       "      <td>667</td>\n",
       "      <td>296</td>\n",
       "    </tr>\n",
       "  </tbody>\n",
       "</table>\n",
       "</div>"
      ],
      "text/plain": [
       "Default         0    1\n",
       "foreign_A201          \n",
       "0              33    4\n",
       "1             667  296"
      ]
     },
     "execution_count": 123,
     "metadata": {},
     "output_type": "execute_result"
    }
   ],
   "source": [
    "cross=pd.crosstab(credit_2['foreign_A201'],Y)\n",
    "cross"
   ]
  },
  {
   "cell_type": "code",
   "execution_count": 149,
   "metadata": {},
   "outputs": [
    {
     "name": "stdout",
     "output_type": "stream",
     "text": [
      "Clientes locales con default: 4\n"
     ]
    }
   ],
   "source": [
    "N_Local_Default = credit_1.loc[(credit_1['foreign_A201'] ==0) & (credit_1['Default'] == 1)].shape[0]\n",
    "print(f\"Clientes locales con default: {N_Local_Default}\")"
   ]
  },
  {
   "cell_type": "markdown",
   "metadata": {},
   "source": [
    "------"
   ]
  },
  {
   "cell_type": "markdown",
   "metadata": {},
   "source": [
    "Vemos que ya hay un sesgo en los datos de entrenamiento. Por lo tanto, podemos esperar que esto se vea reflejado en nuestro modelo:"
   ]
  },
  {
   "cell_type": "code",
   "execution_count": 150,
   "metadata": {},
   "outputs": [],
   "source": [
    "y_pred_f = logT.predict(X3)\n",
    "y_pred_l = logT.predict(X4)"
   ]
  },
  {
   "cell_type": "markdown",
   "metadata": {},
   "source": [
    "Veamos otra manera de visualizar la matriz de confusion:"
   ]
  },
  {
   "cell_type": "code",
   "execution_count": 151,
   "metadata": {},
   "outputs": [
    {
     "name": "stdout",
     "output_type": "stream",
     "text": [
      "Extranjeros:\n"
     ]
    },
    {
     "data": {
      "image/png": "[encoded data removed]",
      "text/plain": [
       "<Figure size 432x288 with 2 Axes>"
      ]
     },
     "metadata": {
      "needs_background": "light"
     },
     "output_type": "display_data"
    },
    {
     "name": "stdout",
     "output_type": "stream",
     "text": [
      "Locales:\n"
     ]
    },
    {
     "data": {
      "image/png": "[encoded data removed]",
      "text/plain": [
       "<Figure size 432x288 with 2 Axes>"
      ]
     },
     "metadata": {
      "needs_background": "light"
     },
     "output_type": "display_data"
    }
   ],
   "source": [
    "from sklearn.metrics import plot_confusion_matrix\n",
    "\n",
    "print(\"Extranjeros:\")\n",
    "plot_confusion_matrix(logT, X3, Y3, normalize='all')  \n",
    "plt.show() \n",
    "\n",
    "print(\"Locales:\")\n",
    "plot_confusion_matrix(logT, X4, Y4, normalize='all')  \n",
    "plt.show()"
   ]
  },
  {
   "cell_type": "markdown",
   "metadata": {},
   "source": [
    "Y las métricas de exactitud:"
   ]
  },
  {
   "cell_type": "code",
   "execution_count": 152,
   "metadata": {},
   "outputs": [
    {
     "name": "stdout",
     "output_type": "stream",
     "text": [
      "La exactitud para el usuario extranjero: 0.7684319833852544\n",
      "La exactitud para el usuario local: 0.9459459459459459\n"
     ]
    }
   ],
   "source": [
    "print(\"La exactitud para el usuario extranjero:\", float((y_pred_f == Y3).mean()))\n",
    "print(\"La exactitud para el usuario local:\", float((y_pred_l == Y4).mean()))"
   ]
  },
  {
   "cell_type": "markdown",
   "metadata": {},
   "source": [
    "### Ejercicio 5.3\n",
    "\n",
    "Proponga una modelo de clasificación que detecte clientes con un alto riesgo de Default, teniendo en cuenta el costo de clasificar a un cliente erroneamente  junto con la \"equidad algoritmica\"."
   ]
  },
  {
   "cell_type": "markdown",
   "metadata": {},
   "source": [
    "-------"
   ]
  },
  {
   "cell_type": "markdown",
   "metadata": {},
   "source": [
    "Inicialmente realizamos un análisis para determinar si podemos descartar la variable que indica la nacionalidad, dado que se encuentra que el desbalance es muy grande y correríamos el riesgo de sobre ajustar el modelo por la generación de variables sinteticas"
   ]
  },
  {
   "cell_type": "code",
   "execution_count": 196,
   "metadata": {},
   "outputs": [
    {
     "name": "stdout",
     "output_type": "stream",
     "text": [
      "Optimization terminated successfully.\n",
      "         Current function value: 0.447909\n",
      "         Iterations 21\n",
      "                           Logit Regression Results                           \n",
      "==============================================================================\n",
      "Dep. Variable:                Default   No. Observations:                 1000\n",
      "Model:                          Logit   Df Residuals:                      951\n",
      "Method:                           MLE   Df Model:                           48\n",
      "Date:                Mon, 17 Aug 2020   Pseudo R-squ.:                  0.2668\n",
      "Time:                        15:48:06   Log-Likelihood:                -447.91\n",
      "converged:                       True   LL-Null:                       -610.86\n",
      "Covariance Type:            nonrobust   LLR p-value:                 5.755e-43\n",
      "=======================================================================================\n",
      "                          coef    std err          z      P>|z|      [0.025      0.975]\n",
      "---------------------------------------------------------------------------------------\n",
      "duration                0.0279      0.009      2.997      0.003       0.010       0.046\n",
      "amount                  0.0001   4.44e-05      2.887      0.004    4.12e-05       0.000\n",
      "installment             0.3301      0.088      3.739      0.000       0.157       0.503\n",
      "residence               0.0048      0.086      0.055      0.956      -0.165       0.174\n",
      "age                    -0.0145      0.009     -1.576      0.115      -0.033       0.004\n",
      "cards                   0.2721      0.190      1.436      0.151      -0.099       0.644\n",
      "liable                  0.2647      0.249      1.062      0.288      -0.224       0.753\n",
      "checkingstatus1_A11     5.3607        nan        nan        nan         nan         nan\n",
      "checkingstatus1_A12     4.9858        nan        nan        nan         nan         nan\n",
      "checkingstatus1_A13     4.3950        nan        nan        nan         nan         nan\n",
      "checkingstatus1_A14     3.6488        nan        nan        nan         nan         nan\n",
      "history_A30            -0.2075        nan        nan        nan         nan         nan\n",
      "history_A31            -0.0641        nan        nan        nan         nan         nan\n",
      "history_A32            -0.7936        nan        nan        nan         nan         nan\n",
      "history_A33            -1.0606        nan        nan        nan         nan         nan\n",
      "history_A34            -1.6432        nan        nan        nan         nan         nan\n",
      "purpose_A40             0.3490        nan        nan        nan         nan         nan\n",
      "purpose_A41            -1.3174        nan        nan        nan         nan         nan\n",
      "purpose_A410           -1.1397        nan        nan        nan         nan         nan\n",
      "purpose_A42            -0.4426        nan        nan        nan         nan         nan\n",
      "purpose_A43            -0.5425        nan        nan        nan         nan         nan\n",
      "purpose_A44            -0.1737        nan        nan        nan         nan         nan\n",
      "purpose_A45             0.1327        nan        nan        nan         nan         nan\n",
      "purpose_A46             0.3853        nan        nan        nan         nan         nan\n",
      "purpose_A48            -1.7104        nan        nan        nan         nan         nan\n",
      "purpose_A49            -0.3910        nan        nan        nan         nan         nan\n",
      "savings_A61            -2.4657   5.19e+06  -4.75e-07      1.000   -1.02e+07    1.02e+07\n",
      "savings_A62            -2.8234   5.01e+06  -5.64e-07      1.000   -9.82e+06    9.82e+06\n",
      "savings_A63            -2.8418   4.82e+06   -5.9e-07      1.000   -9.45e+06    9.45e+06\n",
      "savings_A64            -3.8049   4.72e+06  -8.07e-07      1.000   -9.24e+06    9.24e+06\n",
      "savings_A65            -3.4124   4.55e+06  -7.51e-07      1.000   -8.91e+06    8.91e+06\n",
      "employ_A71             -3.6949        nan        nan        nan         nan         nan\n",
      "employ_A72             -3.7618        nan        nan        nan         nan         nan\n",
      "employ_A73             -3.8777        nan        nan        nan         nan         nan\n",
      "employ_A74             -4.5259        nan        nan        nan         nan         nan\n",
      "employ_A75             -3.9715        nan        nan        nan         nan         nan\n",
      "status_A91             -3.7103   7.39e+06  -5.02e-07      1.000   -1.45e+07    1.45e+07\n",
      "status_A92             -3.9858   7.64e+06  -5.22e-07      1.000    -1.5e+07     1.5e+07\n",
      "status_A93             -4.5264   7.42e+06   -6.1e-07      1.000   -1.45e+07    1.45e+07\n",
      "status_A94             -4.0774   7.45e+06  -5.47e-07      1.000   -1.46e+07    1.46e+07\n",
      "others_A101             9.1487   2.94e+06   3.11e-06      1.000   -5.76e+06    5.76e+06\n",
      "others_A102             9.5847   2.92e+06   3.28e-06      1.000   -5.72e+06    5.72e+06\n",
      "others_A103             8.1701   3.02e+06   2.71e-06      1.000   -5.91e+06    5.91e+06\n",
      "property_A121          -0.0047   7.94e+06  -5.91e-10      1.000   -1.56e+07    1.56e+07\n",
      "property_A122           0.2767   7.82e+06   3.54e-08      1.000   -1.53e+07    1.53e+07\n",
      "property_A123           0.1898   8.39e+06   2.26e-08      1.000   -1.65e+07    1.65e+07\n",
      "property_A124           0.7258   8.08e+06   8.98e-08      1.000   -1.58e+07    1.58e+07\n",
      "otherplans_A141        -2.4568        nan        nan        nan         nan         nan\n",
      "otherplans_A142        -2.5800        nan        nan        nan         nan         nan\n",
      "otherplans_A143        -3.1032        nan        nan        nan         nan         nan\n",
      "housing_A151            1.5376        nan        nan        nan         nan         nan\n",
      "housing_A152            1.0940        nan        nan        nan         nan         nan\n",
      "housing_A153            0.8538   1.48e+06   5.77e-07      1.000    -2.9e+06     2.9e+06\n",
      "job_A171               -3.2347   3.64e+06  -8.88e-07      1.000   -7.14e+06    7.14e+06\n",
      "job_A172               -2.6986   3.62e+06  -7.46e-07      1.000   -7.09e+06    7.09e+06\n",
      "job_A173               -2.6800   3.68e+06  -7.27e-07      1.000   -7.22e+06    7.22e+06\n",
      "job_A174               -2.7553   3.56e+06  -7.75e-07      1.000   -6.97e+06    6.97e+06\n",
      "tele_A191              -0.3835        nan        nan        nan         nan         nan\n",
      "tele_A192              -0.6835        nan        nan        nan         nan         nan\n",
      "foreign_A201            0.1626   1.76e+06   9.23e-08      1.000   -3.45e+06    3.45e+06\n",
      "foreign_A202           -1.2296   1.76e+06  -6.98e-07      1.000   -3.45e+06    3.45e+06\n",
      "=======================================================================================\n"
     ]
    }
   ],
   "source": [
    "import statsmodels.api as sm\n",
    "import warnings\n",
    "warnings.filterwarnings('ignore')\n",
    "\n",
    "logit_model=sm.Logit(Y,X)\n",
    "result=logit_model.fit()\n",
    "print(result.summary())"
   ]
  },
  {
   "cell_type": "markdown",
   "metadata": {},
   "source": [
    "Encontramos que el campo foreign (A201 y A202) no son significativos por lo tanto no aporta mayor información al modelo."
   ]
  },
  {
   "cell_type": "code",
   "execution_count": 125,
   "metadata": {},
   "outputs": [],
   "source": [
    "df = credit_1"
   ]
  },
  {
   "cell_type": "code",
   "execution_count": 126,
   "metadata": {},
   "outputs": [],
   "source": [
    "df = df.drop(['foreign_A201', 'foreign_A202'], axis=1)"
   ]
  },
  {
   "cell_type": "code",
   "execution_count": 131,
   "metadata": {},
   "outputs": [],
   "source": [
    "log = LogisticRegression(solver=\"newton-cg\", max_iter=100, class_weight = {1:0.8,0:0.2})\n",
    "X = df.iloc[:, 1:60]\n",
    "Y = df.iloc[:, 0]\n",
    "X_train, X_test, y_train, y_test = model_selection.train_test_split(X, Y, test_size=0.4, random_state=42, stratify=Y)\n",
    "log.fit(X_train, y_train)\n",
    "y_pred = log.predict(X_test)"
   ]
  },
  {
   "cell_type": "code",
   "execution_count": 132,
   "metadata": {},
   "outputs": [
    {
     "name": "stdout",
     "output_type": "stream",
     "text": [
      "              precision    recall  f1-score   support\n",
      "\n",
      "   default=0       0.90      0.57      0.70       280\n",
      "   default=1       0.46      0.85      0.60       120\n",
      "\n",
      "    accuracy                           0.66       400\n",
      "   macro avg       0.68      0.71      0.65       400\n",
      "weighted avg       0.77      0.66      0.67       400\n",
      "\n"
     ]
    }
   ],
   "source": [
    "from sklearn.metrics import classification_report\n",
    "print(classification_report(y_test, y_pred, target_names=[\"default=0\",\"default=1\"]))"
   ]
  },
  {
   "cell_type": "markdown",
   "metadata": {},
   "source": [
    "Volvemos a generar los datasets anteriores, para quitarles las columnas de _foreign_ y posterior determinar los resultados del modelo y comparar si se reduce el GAP entre las predicciones sobre extranjeros y locales"
   ]
  },
  {
   "cell_type": "code",
   "execution_count": 136,
   "metadata": {},
   "outputs": [],
   "source": [
    "credit_2_ = credit_1.copy()\n",
    "credit_3_ = credit_2_.loc[credit_2_['foreign_A201'] == 1]\n",
    "X3_ = credit_3_.iloc[:, 1:62]\n",
    "Y3_ = credit_3_.iloc[:, 0]\n",
    "\n",
    "credit_4_ = credit_2_.loc[credit_2_['foreign_A201'] == 0]\n",
    "X4_ = credit_4_.iloc[:, 1:62]\n",
    "Y4_ = credit_4_.iloc[:, 0]"
   ]
  },
  {
   "cell_type": "code",
   "execution_count": 137,
   "metadata": {},
   "outputs": [],
   "source": [
    "X3_ = X3_.drop(['foreign_A201', 'foreign_A202'], axis=1)"
   ]
  },
  {
   "cell_type": "code",
   "execution_count": 138,
   "metadata": {},
   "outputs": [],
   "source": [
    "X4_ = X4_.drop(['foreign_A201', 'foreign_A202'], axis=1)"
   ]
  },
  {
   "cell_type": "code",
   "execution_count": 140,
   "metadata": {},
   "outputs": [],
   "source": [
    "y_pred_f = log.predict(X3_)\n",
    "y_pred_l = log.predict(X4_)"
   ]
  },
  {
   "cell_type": "code",
   "execution_count": 143,
   "metadata": {},
   "outputs": [
    {
     "name": "stdout",
     "output_type": "stream",
     "text": [
      "La exactitud para el usuario extranjero: 0.6812045690550363\n",
      "La exactitud para el usuario local: 0.7027027027027027\n"
     ]
    }
   ],
   "source": [
    "print(\"La exactitud para el usuario extranjero:\", float((y_pred_f == Y3_).mean()))\n",
    "print(\"La exactitud para el usuario local:\", float((y_pred_l == Y4_).mean()))"
   ]
  },
  {
   "cell_type": "code",
   "execution_count": 144,
   "metadata": {},
   "outputs": [
    {
     "name": "stdout",
     "output_type": "stream",
     "text": [
      "Extranjeros:\n"
     ]
    },
    {
     "data": {
      "image/png": "[encoded data removed]",
      "text/plain": [
       "<Figure size 432x288 with 2 Axes>"
      ]
     },
     "metadata": {
      "needs_background": "light"
     },
     "output_type": "display_data"
    },
    {
     "name": "stdout",
     "output_type": "stream",
     "text": [
      "Locales:\n"
     ]
    },
    {
     "data": {
      "image/png": "[encoded data removed]",
      "text/plain": [
       "<Figure size 432x288 with 2 Axes>"
      ]
     },
     "metadata": {
      "needs_background": "light"
     },
     "output_type": "display_data"
    }
   ],
   "source": [
    "from sklearn.metrics import plot_confusion_matrix\n",
    "\n",
    "print(\"Extranjeros:\")\n",
    "plot_confusion_matrix(log, X3_, Y3_, normalize='all')  \n",
    "plt.show() \n",
    "\n",
    "print(\"Locales:\")\n",
    "plot_confusion_matrix(log, X4_, Y4_, normalize='all')  \n",
    "plt.show()"
   ]
  },
  {
   "cell_type": "markdown",
   "metadata": {},
   "source": [
    "Vemos que el GAP que existia para extranjeros y locales se reduce al no incluir la variable _foreign_"
   ]
  },
  {
   "cell_type": "markdown",
   "metadata": {},
   "source": [
    "### Lecturas avanzadas\n",
    "\n",
    "Para ler más sobre la ética algoritmica puede ver: Pessach, D., Shmueli, E. (2020) Algorithmic fairness. https://arxiv.org/abs/2001.09784 "
   ]
  }
 ],
 "metadata": {
  "kernelspec": {
   "display_name": "Python 3",
   "language": "python",
   "name": "python3"
  },
  "language_info": {
   "codemirror_mode": {
    "name": "ipython",
    "version": 3
   },
   "file_extension": ".py",
   "mimetype": "text/x-python",
   "name": "python",
   "nbconvert_exporter": "python",
   "pygments_lexer": "ipython3",
   "version": "3.7.6"
  }
 },
 "nbformat": 4,
 "nbformat_minor": 4
}
